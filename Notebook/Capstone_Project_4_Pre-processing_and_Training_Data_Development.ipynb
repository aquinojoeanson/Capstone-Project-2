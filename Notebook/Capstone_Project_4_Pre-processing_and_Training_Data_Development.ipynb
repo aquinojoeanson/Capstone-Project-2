{
 "cells": [
  {
   "cell_type": "markdown",
   "id": "bf0273b7",
   "metadata": {},
   "source": [
    "# 4 Pre-Processing and Training Data Development<a id='2_Data_Wrangling'></a>"
   ]
  },
  {
   "cell_type": "markdown",
   "id": "55e77973",
   "metadata": {},
   "source": [
    "### 4.1 Table of Contents<a id='4.1_Contents'></a>\n",
    "* [4.1 Table of Contents](#4.1_Table_Contents)  \n",
    "* [4.2 Introduction](#4.2_Introduction)\n",
    "* [4.3 Libraries that will be used](#4.3_Libraries_that_will_be_used)\n",
    "* [4.4 Loading the data](#4.4_Loading_the_data)\n",
    "* [4.5 Create Dummy or indicator features](#4.5_Create_Dummy) \n",
    "    * [4.5.1 Transformation of categorical features](#4.5.1_Transformation_of_categorical_features)\n",
    "    * [4.5.2 Portoin of clesses](#4.5.2_Portion_of_clesses)\n",
    "    * [4.5.3 Scatter plot of Blood Pressure vs. Cholesterol Level](#4.5.3_Scatter)\n",
    "    * [4.5.4  Model building cycle](#4.5.4_Model_building_cycle) \n",
    "    * [4.5.5 Comments on this result](#4.5.5_Comments)\n",
    "* [5.1 Building a Logistic Regression Model with all featues](#5.1_Building_LReg) \n",
    "    * [5.1.1 Defining X and y](#5.1.1_Building_LReg)\n",
    "    * [5.1.2 Perform train/test Split](#5.1.2_Perform)\n",
    "    * [5.1.3 Create an object of the class associated with the algorithm](#5.1.3_Create_an_object.) \n",
    "    * [5.1.4 Build an actual model using the 'fit'](#5.1.4_Build_using_fit)\n",
    "    * [5.1.5 Predict with the built model using the predict](#5.1.5_Predict)\n",
    "    * [5.1.6 Compute performance metrics](#5.1.6_Compute_metrix)\n",
    "    * [5.1.7 Determine if model can be improve](#5.1.7_Determine)\n",
    "    * [5.1.8 Side-Bar ](#5.2_Side-bar)\n",
    "* [5.3 Summary](#5.3_Summary)"
   ]
  },
  {
   "cell_type": "markdown",
   "id": "0dd2a9a2",
   "metadata": {},
   "source": [
    "#### 4.2 Introduction<a id='4.2_Introduction'></a>"
   ]
  },
  {
   "cell_type": "markdown",
   "id": "683dd98b",
   "metadata": {},
   "source": [
    "In Processing and Training Data Development, we won't complete all the steps, In Data Scince Process this is the fourth step will be addressed as we deal with categorial variables later and split the data into training, validation, and test sets. Most of the time will be spend on Step Five, Modeling. In a complete project, you would often prepare a report or some presentation materials for Step Six, but will not do that here."
   ]
  },
  {
   "cell_type": "markdown",
   "id": "d6ab36e0",
   "metadata": {},
   "source": [
    "#### 4.3 Libraries that will be used<a id='4.3_Libraries_that_will_be_used'></a>"
   ]
  },
  {
   "cell_type": "code",
   "execution_count": 1,
   "id": "cf0a53ea",
   "metadata": {},
   "outputs": [],
   "source": [
    "%matplotlib inline\n",
    "#\n",
    "# data manipulation and math\n",
    "#\n",
    "import numpy as np\n",
    "import scipy as sp\n",
    "import pandas as pd\n",
    "from library.sb_utils import save_file\n",
    "#\n",
    "# plotting and visualization\n",
    "#\n",
    "import matplotlib as mpl\n",
    "import matplotlib.cm as cm\n",
    "from matplotlib.colors import ListedColormap\n",
    "import matplotlib.pyplot as plt\n",
    "#\n",
    "import seaborn as sns\n",
    "#\n",
    "# modeling\n",
    "#\n",
    "from sklearn.preprocessing import OneHotEncoder as OHE\n",
    "import sklearn.model_selection\n",
    "from sklearn.model_selection import train_test_split\n",
    "from sklearn.model_selection import KFold\n",
    "from sklearn.linear_model import LogisticRegression\n",
    "from sklearn.metrics import accuracy_score, f1_score\n",
    "from sklearn.metrics import classification_report\n",
    "from sklearn.metrics import confusion_matrix\n",
    "from sklearn.metrics import ConfusionMatrixDisplay\n"
   ]
  },
  {
   "cell_type": "markdown",
   "id": "d3d36afb",
   "metadata": {},
   "source": [
    "For the final preparation step, we provide two utility functions that we will use to illustrate the concepts of classification through logistic regression. \n",
    "\n",
    "By putting this code in functions, it will be easier to re-use, maintain, and fine-tune over time. "
   ]
  },
  {
   "cell_type": "code",
   "execution_count": 2,
   "id": "99f3041c",
   "metadata": {},
   "outputs": [],
   "source": [
    "# Plot settings\n",
    "pd.set_option('display.max_columns', None)\n",
    "pd.set_option('display.max_colwidth', None)\n",
    "#\n",
    "plt.rcParams['figure.figsize'] = (5, 5)\n",
    "plt.style.use('seaborn-pastel')\n",
    "plt.rcParams['figure.dpi'] = 150      \n",
    "#\n",
    "c0 = sns.color_palette()[0]\n",
    "c1 = sns.color_palette()[1]\n",
    "c2 = sns.color_palette()[2]\n",
    "#\n",
    "cmap_light = ListedColormap(['#FFAAAA', '#AAFFAA', '#AAAAFF'])\n",
    "cmap_bold = ListedColormap(['#FF0000', '#00FF00', '#0000FF'])\n",
    "cm = plt.cm.RdBu\n",
    "cm_bright = ListedColormap(['#0000FF', '#FF0000'])\n",
    "#"
   ]
  },
  {
   "cell_type": "code",
   "execution_count": 3,
   "id": "92711c36",
   "metadata": {},
   "outputs": [],
   "source": [
    "def points_plot(ax, Xtr, Xte, ytr, yte, \n",
    "                clf, \n",
    "                mesh = True, colorscale = cmap_light, cdiscrete = cmap_bold, \n",
    "                alpha = 0.1, psize = 10, \n",
    "                zfunc = False, predicted = False):\n",
    "#\n",
    "# note: this function only works for X.shape = (:, 2)\n",
    "# it is intended to illustrate the classifier boundary\n",
    "#\n",
    "# get the column names if they exist to apply\n",
    "# to the meshed data generated below\n",
    "#\n",
    "    try:\n",
    "        feature_names = Xtr.columns\n",
    "    except:\n",
    "        feature_names = None\n",
    "#        \n",
    "    Xtrain = np.array(Xtr)\n",
    "    Xtest = np.array(Xte)\n",
    "#\n",
    "    h = 0.02\n",
    "#\n",
    "# create a uniform grid spanning the range of the X values\n",
    "# note that y here is NOT the target, it is the 2nd\n",
    "# dimension of the desired plot\n",
    "#\n",
    "    X = np.concatenate((Xtrain, Xtest))\n",
    "    x_min, x_max = X[:, 0].min() - 1, X[:, 0].max() + 1\n",
    "    y_min, y_max = X[:, 1].min() - 1, X[:, 1].max() + 1\n",
    "    xx, yy = np.meshgrid(np.linspace(x_min, x_max, 100),\n",
    "                         np.linspace(y_min, y_max, 100))\n",
    "#\n",
    "# predict the target value at each point in the grid\n",
    "#\n",
    "# this method uses the probabilities from the classifier\n",
    "# and applies a function to determine the class\n",
    "#\n",
    "    if zfunc:\n",
    "        mesh_data = np.c_[xx.ravel(), yy.ravel()]\n",
    "        if feature_names is not None:\n",
    "            mesh_data = pd.DataFrame(mesh_data, \n",
    "                         columns = feature_names)\n",
    "        p0 = clf.predict_proba(mesh_data)[:, 0]\n",
    "        p1 = clf.predict_proba(mesh_data)[:, 1]\n",
    "        Z = zfunc(p0, p1)\n",
    "#\n",
    "# this method uses the classifier to predict the classes directly\n",
    "#\n",
    "    else:\n",
    "        mesh_data = np.c_[xx.ravel(), yy.ravel()]\n",
    "        if feature_names is not None:\n",
    "            mesh_data = pd.DataFrame(mesh_data, \n",
    "                                     columns = feature_names)\n",
    "        Z = clf.predict(mesh_data)\n",
    "    ZZ = Z.reshape(xx.shape)\n",
    "#\n",
    "# plt.pcolormesh() creates a shaded result over the grid\n",
    "#\n",
    "    if mesh:\n",
    "        plt.pcolormesh(xx, yy, ZZ, \n",
    "                       cmap = cmap_light, \n",
    "                       alpha = alpha, \n",
    "                       axes = ax, \n",
    "                       shading = 'auto')\n",
    "#\n",
    "# add the points to the plot\n",
    "# these can be the original target values\n",
    "# or the predicted values\n",
    "#\n",
    "    if predicted:\n",
    "        showtr = clf.predict(Xtr)\n",
    "        showte = clf.predict(Xte)\n",
    "    else:\n",
    "        showtr = ytr\n",
    "        showte = yte\n",
    "#\n",
    "# plot training points\n",
    "#\n",
    "    ax.scatter(Xtrain[:, 0], Xtrain[:, 1], \n",
    "               c = showtr - 1, \n",
    "               cmap = cmap_bold, \n",
    "               s = psize, \n",
    "               alpha = alpha, \n",
    "               edgecolor = \"k\")\n",
    "#    \n",
    "# plot testing points\n",
    "#\n",
    "    ax.scatter(Xtest[:, 0], Xtest[:, 1],\n",
    "               c = showte - 1, \n",
    "               cmap = cmap_bold, \n",
    "               s = psize + 10,\n",
    "               alpha = alpha, \n",
    "               marker = \"s\")\n",
    "    ax.set_xlim(xx.min(), xx.max())\n",
    "    ax.set_ylim(yy.min(), yy.max())\n",
    "#\n",
    "    return ax, xx, yy"
   ]
  },
  {
   "cell_type": "code",
   "execution_count": 4,
   "id": "a0c0f6a5",
   "metadata": {},
   "outputs": [],
   "source": [
    "def points_plot_prob(ax, Xtr, Xte, ytr, yte, \n",
    "                     clf, colorscale = cmap_light, cdiscrete = cmap_bold, \n",
    "                     ccolor = cm, \n",
    "                     alpha = 0.1, psize = 10):\n",
    "    try:\n",
    "        feature_names = Xtr.columns\n",
    "    except:\n",
    "        feature_names = None\n",
    "#        \n",
    "    Xtrain = np.array(Xtr)\n",
    "    Xtest = np.array(Xte)\n",
    "#    \n",
    "    ax, xx, yy = points_plot(ax, Xtr, Xte, ytr, yte,\n",
    "                         clf,\n",
    "                         mesh = False, \n",
    "                         colorscale = colorscale, cdiscrete = cdiscrete, \n",
    "                         psize = psize, alpha = alpha,\n",
    "                         predicted = True) \n",
    "    mesh_data = np.c_[xx.ravel(), yy.ravel()]\n",
    "    if feature_names is not None:\n",
    "        mesh_data = pd.DataFrame(mesh_data, \n",
    "                     columns = feature_names)    \n",
    "    Z = clf.predict_proba(mesh_data)[:, 1]\n",
    "    Z = Z.reshape(xx.shape)\n",
    "    plt.contourf(xx, yy, Z, cmap = ccolor, alpha = 0.2)\n",
    "    cs2 = plt.contour(xx, yy, Z, cmap = ccolor, alpha = 0.6)\n",
    "    plt.clabel(cs2, fmt = '%2.1f', colors = 'k', fontsize = 12)\n",
    "#\n",
    "    plt.show()"
   ]
  },
  {
   "cell_type": "markdown",
   "id": "e62f4715",
   "metadata": {},
   "source": [
    "#### 4.4 Loading the data<a id='4.4_Loading_the_data'></a>"
   ]
  },
  {
   "cell_type": "markdown",
   "id": "74dd0d71",
   "metadata": {},
   "source": [
    "As a first step, read in the data and view all the columns, and display the top of the DataFrame using head()."
   ]
  },
  {
   "cell_type": "code",
   "execution_count": 5,
   "id": "e8a8d377",
   "metadata": {},
   "outputs": [],
   "source": [
    "# Load data Step_3 EDA\n",
    "df = pd.read_csv('/Users/aquinojoeanson/Desktop/SPRINGBOARD/Capstone_Project_2/Data/Cleveland_Features.csv')\n",
    "\n",
    "# Change num values > 0 to 1 for a Diagnosis to get our data ready for the next steps.\n",
    "#df['num'] = np.where((df['num']>0),1,0)\n",
    "\n",
    "# Change ca values > 0 to 1 for a Diagnosis to get our data ready for the next steps.\n",
    "#df['thal'] = np.where((df['thal']>3),1,0)\n",
    "\n",
    "#\n",
    "#print('The data have ', df.shape[0], ' rows and ', df.shape[1], ' columns\\n')\n",
    "#print('column names: \\n')\n",
    "#print('\\n'.join(list(df.columns)))"
   ]
  },
  {
   "cell_type": "code",
   "execution_count": 6,
   "id": "ea7c3a27",
   "metadata": {},
   "outputs": [
    {
     "data": {
      "text/html": [
       "<div>\n",
       "<style scoped>\n",
       "    .dataframe tbody tr th:only-of-type {\n",
       "        vertical-align: middle;\n",
       "    }\n",
       "\n",
       "    .dataframe tbody tr th {\n",
       "        vertical-align: top;\n",
       "    }\n",
       "\n",
       "    .dataframe thead th {\n",
       "        text-align: right;\n",
       "    }\n",
       "</style>\n",
       "<table border=\"1\" class=\"dataframe\">\n",
       "  <thead>\n",
       "    <tr style=\"text-align: right;\">\n",
       "      <th></th>\n",
       "      <th>age</th>\n",
       "      <th>sex</th>\n",
       "      <th>cp</th>\n",
       "      <th>trestbps</th>\n",
       "      <th>chol</th>\n",
       "      <th>fbs</th>\n",
       "      <th>restecg</th>\n",
       "      <th>thalach</th>\n",
       "      <th>exang</th>\n",
       "      <th>oldpeak</th>\n",
       "      <th>slope</th>\n",
       "      <th>ca</th>\n",
       "      <th>thal</th>\n",
       "      <th>num</th>\n",
       "    </tr>\n",
       "  </thead>\n",
       "  <tbody>\n",
       "    <tr>\n",
       "      <th>0</th>\n",
       "      <td>63</td>\n",
       "      <td>1</td>\n",
       "      <td>1</td>\n",
       "      <td>145</td>\n",
       "      <td>233</td>\n",
       "      <td>1</td>\n",
       "      <td>2</td>\n",
       "      <td>150</td>\n",
       "      <td>0</td>\n",
       "      <td>2.3</td>\n",
       "      <td>3</td>\n",
       "      <td>0</td>\n",
       "      <td>6</td>\n",
       "      <td>0</td>\n",
       "    </tr>\n",
       "    <tr>\n",
       "      <th>1</th>\n",
       "      <td>67</td>\n",
       "      <td>1</td>\n",
       "      <td>4</td>\n",
       "      <td>160</td>\n",
       "      <td>286</td>\n",
       "      <td>0</td>\n",
       "      <td>2</td>\n",
       "      <td>108</td>\n",
       "      <td>1</td>\n",
       "      <td>1.5</td>\n",
       "      <td>2</td>\n",
       "      <td>3</td>\n",
       "      <td>3</td>\n",
       "      <td>1</td>\n",
       "    </tr>\n",
       "    <tr>\n",
       "      <th>2</th>\n",
       "      <td>67</td>\n",
       "      <td>1</td>\n",
       "      <td>4</td>\n",
       "      <td>120</td>\n",
       "      <td>229</td>\n",
       "      <td>0</td>\n",
       "      <td>2</td>\n",
       "      <td>129</td>\n",
       "      <td>1</td>\n",
       "      <td>2.6</td>\n",
       "      <td>2</td>\n",
       "      <td>2</td>\n",
       "      <td>7</td>\n",
       "      <td>1</td>\n",
       "    </tr>\n",
       "    <tr>\n",
       "      <th>3</th>\n",
       "      <td>37</td>\n",
       "      <td>1</td>\n",
       "      <td>3</td>\n",
       "      <td>130</td>\n",
       "      <td>250</td>\n",
       "      <td>0</td>\n",
       "      <td>0</td>\n",
       "      <td>187</td>\n",
       "      <td>0</td>\n",
       "      <td>3.5</td>\n",
       "      <td>3</td>\n",
       "      <td>0</td>\n",
       "      <td>3</td>\n",
       "      <td>0</td>\n",
       "    </tr>\n",
       "    <tr>\n",
       "      <th>4</th>\n",
       "      <td>41</td>\n",
       "      <td>0</td>\n",
       "      <td>2</td>\n",
       "      <td>130</td>\n",
       "      <td>204</td>\n",
       "      <td>0</td>\n",
       "      <td>2</td>\n",
       "      <td>172</td>\n",
       "      <td>0</td>\n",
       "      <td>1.4</td>\n",
       "      <td>1</td>\n",
       "      <td>0</td>\n",
       "      <td>3</td>\n",
       "      <td>0</td>\n",
       "    </tr>\n",
       "    <tr>\n",
       "      <th>5</th>\n",
       "      <td>56</td>\n",
       "      <td>1</td>\n",
       "      <td>2</td>\n",
       "      <td>120</td>\n",
       "      <td>236</td>\n",
       "      <td>0</td>\n",
       "      <td>0</td>\n",
       "      <td>178</td>\n",
       "      <td>0</td>\n",
       "      <td>0.8</td>\n",
       "      <td>1</td>\n",
       "      <td>0</td>\n",
       "      <td>3</td>\n",
       "      <td>0</td>\n",
       "    </tr>\n",
       "    <tr>\n",
       "      <th>6</th>\n",
       "      <td>62</td>\n",
       "      <td>0</td>\n",
       "      <td>4</td>\n",
       "      <td>140</td>\n",
       "      <td>268</td>\n",
       "      <td>0</td>\n",
       "      <td>2</td>\n",
       "      <td>160</td>\n",
       "      <td>0</td>\n",
       "      <td>3.6</td>\n",
       "      <td>3</td>\n",
       "      <td>2</td>\n",
       "      <td>3</td>\n",
       "      <td>1</td>\n",
       "    </tr>\n",
       "  </tbody>\n",
       "</table>\n",
       "</div>"
      ],
      "text/plain": [
       "   age  sex  cp  trestbps  chol  fbs  restecg  thalach  exang  oldpeak  slope  \\\n",
       "0   63    1   1       145   233    1        2      150      0      2.3      3   \n",
       "1   67    1   4       160   286    0        2      108      1      1.5      2   \n",
       "2   67    1   4       120   229    0        2      129      1      2.6      2   \n",
       "3   37    1   3       130   250    0        0      187      0      3.5      3   \n",
       "4   41    0   2       130   204    0        2      172      0      1.4      1   \n",
       "5   56    1   2       120   236    0        0      178      0      0.8      1   \n",
       "6   62    0   4       140   268    0        2      160      0      3.6      3   \n",
       "\n",
       "   ca  thal  num  \n",
       "0   0     6    0  \n",
       "1   3     3    1  \n",
       "2   2     7    1  \n",
       "3   0     3    0  \n",
       "4   0     3    0  \n",
       "5   0     3    0  \n",
       "6   2     3    1  "
      ]
     },
     "execution_count": 6,
     "metadata": {},
     "output_type": "execute_result"
    }
   ],
   "source": [
    "#Print the first 7 rows of the data\n",
    "df.head(7)"
   ]
  },
  {
   "cell_type": "markdown",
   "id": "51bf43c9",
   "metadata": {},
   "source": [
    "### 4.5 Create dummy or indicator features<a id='4.5_Create_Dummy'></a>"
   ]
  },
  {
   "cell_type": "markdown",
   "id": "a772be94",
   "metadata": {},
   "source": [
    "#### 4.5.1 Transformation of categorical features<a id='4.5.1_Transformation_of_categorical_features'></a>"
   ]
  },
  {
   "cell_type": "code",
   "execution_count": 7,
   "id": "32a00703",
   "metadata": {},
   "outputs": [
    {
     "name": "stdout",
     "output_type": "stream",
     "text": [
      "The data have  297  rows and  24  columns\n",
      "\n",
      "column names: \n",
      "\n",
      "age\n",
      "cp\n",
      "trestbps\n",
      "chol\n",
      "fbs\n",
      "thalach\n",
      "exang\n",
      "oldpeak\n",
      "num\n",
      "sex_0\n",
      "sex_1\n",
      "ca_0\n",
      "ca_1\n",
      "ca_2\n",
      "ca_3\n",
      "restecg_0\n",
      "restecg_1\n",
      "restecg_2\n",
      "slope_1\n",
      "slope_2\n",
      "slope_3\n",
      "thal_3\n",
      "thal_6\n",
      "thal_7\n"
     ]
    }
   ],
   "source": [
    "categorical_features = ['sex',\n",
    "                        'ca',\n",
    "                        'restecg',\n",
    "                        'slope',\n",
    "                        'thal']\n",
    "df = pd.get_dummies(df, columns = categorical_features)\n",
    "print('The data have ', df.shape[0], ' rows and ', df.shape[1], ' columns\\n')\n",
    "print('column names: \\n')\n",
    "print('\\n'.join(list(df.columns)))"
   ]
  },
  {
   "cell_type": "markdown",
   "id": "e15626e1",
   "metadata": {},
   "source": [
    "#### 4.5.2 Proportion of classes<a id='4.5.2_Portion_of_clesses'></a>\n",
    "When building classification models, it is always a good idea to know right away the number of samples per class, proportionally to the total number of samples. First we get the counts of each class."
   ]
  },
  {
   "cell_type": "code",
   "execution_count": 8,
   "id": "56b34883",
   "metadata": {},
   "outputs": [
    {
     "data": {
      "text/plain": [
       "0    160\n",
       "1    137\n",
       "Name: num, dtype: int64"
      ]
     },
     "execution_count": 8,
     "metadata": {},
     "output_type": "execute_result"
    }
   ],
   "source": [
    "class_counts = df['num'].value_counts()\n",
    "class_counts"
   ]
  },
  {
   "cell_type": "code",
   "execution_count": 9,
   "id": "f9b1ccea",
   "metadata": {},
   "outputs": [
    {
     "data": {
      "text/plain": [
       "pandas.core.series.Series"
      ]
     },
     "execution_count": 9,
     "metadata": {},
     "output_type": "execute_result"
    }
   ],
   "source": [
    "type(class_counts)"
   ]
  },
  {
   "cell_type": "markdown",
   "id": "8061eb96",
   "metadata": {},
   "source": [
    "To better quantify differences in the incidences of the classes, we compute the relative frequencies (percentages) "
   ]
  },
  {
   "cell_type": "code",
   "execution_count": 10,
   "id": "2bde8a99",
   "metadata": {},
   "outputs": [
    {
     "data": {
      "text/plain": [
       "0    53.872054\n",
       "1    46.127946\n",
       "dtype: float64"
      ]
     },
     "execution_count": 10,
     "metadata": {},
     "output_type": "execute_result"
    }
   ],
   "source": [
    "class_percentages = pd.Series([(x / df.shape[0]) * 100.00 for x in class_counts])\n",
    "class_percentages"
   ]
  },
  {
   "cell_type": "markdown",
   "id": "b749dfa6",
   "metadata": {},
   "source": [
    "We can use the percentages as labels and plot the distribution of the two classes:"
   ]
  },
  {
   "cell_type": "code",
   "execution_count": 11,
   "id": "a8ee2fa3",
   "metadata": {},
   "outputs": [
    {
     "data": {
      "image/png": "[encoded data removed]",
      "text/plain": [
       "<Figure size 750x750 with 1 Axes>"
      ]
     },
     "metadata": {
      "needs_background": "light"
     },
     "output_type": "display_data"
    }
   ],
   "source": [
    "fig, ax = plt.subplots()\n",
    "ax.bar(class_counts.index, class_counts)\n",
    "ax.set_xticks([0, 1])\n",
    "ax.set_xticklabels(class_percentages.index.astype(str) + '\\n' + ' ' +\n",
    "                   class_percentages.round(0).astype(str) + '%')\n",
    "ax.set_ylabel('Count')\n",
    "ax.set_xlabel('Heart Disease')\n",
    "ax.set_title('Heart Disease class distribution where 1 means presence of heart disease',\n",
    "              fontsize = 10)\n",
    "plt.show()"
   ]
  },
  {
   "cell_type": "markdown",
   "id": "b20d7b13",
   "metadata": {},
   "source": [
    "#### 4.5.3 Ceate a scatter plot of  Total Cholesterol Level vs Number or vessels involve<a id='4.5.3_Scatter'></a>\n",
    "\n",
    "we are choosing the amount of Total Cholesterol in Patients Blood ('chol') and Type of Chest Pain ('cp') \n",
    "```\n",
    "age\n",
    "trestbps\n",
    "chol\n",
    "fbs\n",
    "thalach\n",
    "exang\n",
    "oldpeak\n",
    "ca\n",
    "num\n",
    "sex_0\n",
    "sex_1\n",
    "cp_1\n",
    "cp_2\n",
    "cp_3\n",
    "cp_4\n",
    "restecg_0\n",
    "restecg_1\n",
    "restecg_2\n",
    "slope_1\n",
    "slope_2\n",
    "slope_3\n",
    "thal_3\n",
    "thal_6\n",
    "thal_7\n",
    "```"
   ]
  },
  {
   "cell_type": "markdown",
   "id": "69f78e3a",
   "metadata": {},
   "source": [
    "#### 4.5.4 Model building cycle<a id='4.5.4_Model_building_cycle'></a>\n",
    "Split your data into testing and training datasets"
   ]
  },
  {
   "cell_type": "markdown",
   "id": "75f18245",
   "metadata": {},
   "source": [
    "how the parameters passed to train_test_split are computed \"on-the-fly\", what their types are expected to be, and what are the values of the parameters that are not passed explicitly, which will take the default values per the documentation of the method train_test_split ... "
   ]
  },
  {
   "cell_type": "code",
   "execution_count": 12,
   "id": "318fda96",
   "metadata": {},
   "outputs": [],
   "source": [
    "Xtrain, Xtest, ytrain, ytest = train_test_split(df[['chol','cp']],\n",
    "                                                df['num'],\n",
    "                                                train_size = 0.80,\n",
    "                                                random_state = 42)"
   ]
  },
  {
   "cell_type": "markdown",
   "id": "f2506046",
   "metadata": {},
   "source": [
    "create an object of the class associated with the algorithm to be used--in this case LogisticRegression: also, compare the parameters passed against the expected parameters, and default parameters being used per the documentation of the constructor of class LogisticRegression"
   ]
  },
  {
   "cell_type": "code",
   "execution_count": 13,
   "id": "0e7d62d8",
   "metadata": {},
   "outputs": [],
   "source": [
    "classifier = LogisticRegression(solver = 'liblinear', max_iter = 1000, C = 1000)"
   ]
  },
  {
   "cell_type": "markdown",
   "id": "9707617b",
   "metadata": {},
   "source": [
    "create an actual model using the \"fit\" method for the class applied to the training set"
   ]
  },
  {
   "cell_type": "code",
   "execution_count": 14,
   "id": "de864547",
   "metadata": {},
   "outputs": [
    {
     "data": {
      "text/plain": [
       "LogisticRegression(C=1000, max_iter=1000, solver='liblinear')"
      ]
     },
     "execution_count": 14,
     "metadata": {},
     "output_type": "execute_result"
    }
   ],
   "source": [
    "classifier.fit(Xtrain, ytrain)"
   ]
  },
  {
   "cell_type": "markdown",
   "id": "c79f5f88",
   "metadata": {},
   "source": [
    "compute performance metrics (in this case, accuracy) for the training and test predictions... notice how accuracy_score receives the result from classifier.predict(Xtrain), and compares it with ytrain to produce the training accuracy"
   ]
  },
  {
   "cell_type": "code",
   "execution_count": 15,
   "id": "6c0e6443",
   "metadata": {},
   "outputs": [
    {
     "name": "stdout",
     "output_type": "stream",
     "text": [
      "Accuracy on training data: 0.73\n"
     ]
    }
   ],
   "source": [
    "print(f'Accuracy on training data: {accuracy_score(classifier.predict(Xtrain), ytrain):.2f}')"
   ]
  },
  {
   "cell_type": "markdown",
   "id": "7ced097f",
   "metadata": {},
   "source": [
    "compute performance metrics (in this case, accuracy) for the training and test predictions... notice how accuracy_score receives the result from classifier.predict(Xtest), and compares it with ytest to produce the testing accuracy"
   ]
  },
  {
   "cell_type": "code",
   "execution_count": 16,
   "id": "7ce5fae3",
   "metadata": {},
   "outputs": [
    {
     "name": "stdout",
     "output_type": "stream",
     "text": [
      "Accuracy on test data: 0.80\n"
     ]
    }
   ],
   "source": [
    "print(f'Accuracy on test data: {accuracy_score(classifier.predict(Xtest), ytest):.2f}')"
   ]
  },
  {
   "cell_type": "markdown",
   "id": "e0b879dd",
   "metadata": {},
   "source": [
    "as mentioned above, we can now see graphically how the model is differentiating elements of both classes after being built with only two features (Cholesterol Level, and Chest Pain)"
   ]
  },
  {
   "cell_type": "code",
   "execution_count": 17,
   "id": "469f863b",
   "metadata": {},
   "outputs": [
    {
     "data": {
      "image/png": "[encoded data removed]",
      "text/plain": [
       "<Figure size 750x750 with 1 Axes>"
      ]
     },
     "metadata": {
      "needs_background": "light"
     },
     "output_type": "display_data"
    }
   ],
   "source": [
    "#### We call funtion \"points_plot\" makes our code efficient to re-use, as well as easier to maintain and fine-tune over time\n",
    "plt.figure()\n",
    "ax = plt.gca()\n",
    "ax.set_ylabel('Tpyes of Chest Pain\\n' + '1.Typical | 2.Atypical | 3.Non-anginal| 4.Asymptomatic')\n",
    "ax.set_xlabel('Cholesterol level (mg/dl)')\n",
    "ax.set_title('Computed Decision Boundary:\\n ' +\n",
    "             'Cholesterol Level (mg/dl) VS Types of Chest Pain' +\n",
    "             '\\n Red: Heart Disease | Blue: No Heart Disease' +\n",
    "             '\\n Circles: Training Set | Squares: Testing Set\\n',\n",
    "            fontsize = 10)\n",
    "_ = points_plot(ax, Xtrain, Xtest, ytrain, ytest, classifier, alpha = 0.2)"
   ]
  },
  {
   "cell_type": "markdown",
   "id": "eee5562c",
   "metadata": {},
   "source": [
    "To see more details about the clasiffier will use sklearn's clasification_report()"
   ]
  },
  {
   "cell_type": "code",
   "execution_count": 18,
   "id": "45c8b661",
   "metadata": {},
   "outputs": [
    {
     "name": "stdout",
     "output_type": "stream",
     "text": [
      "Classification Report for Training Data\n",
      "              precision    recall  f1-score   support\n",
      "\n",
      "           0       0.76      0.71      0.73       124\n",
      "           1       0.70      0.75      0.73       113\n",
      "\n",
      "    accuracy                           0.73       237\n",
      "   macro avg       0.73      0.73      0.73       237\n",
      "weighted avg       0.73      0.73      0.73       237\n",
      "\n"
     ]
    }
   ],
   "source": [
    "print(\"Classification Report for Training Data\")\n",
    "print(classification_report(ytrain, classifier.predict(Xtrain)))"
   ]
  },
  {
   "cell_type": "code",
   "execution_count": 19,
   "id": "638e62fa",
   "metadata": {},
   "outputs": [
    {
     "name": "stdout",
     "output_type": "stream",
     "text": [
      "Classification Report for Test Data\n",
      "              precision    recall  f1-score   support\n",
      "\n",
      "           0       0.85      0.81      0.83        36\n",
      "           1       0.73      0.79      0.76        24\n",
      "\n",
      "    accuracy                           0.80        60\n",
      "   macro avg       0.79      0.80      0.79        60\n",
      "weighted avg       0.80      0.80      0.80        60\n",
      "\n"
     ]
    }
   ],
   "source": [
    "print(\"Classification Report for Test Data\")\n",
    "print(classification_report(ytest, classifier.predict(Xtest)))"
   ]
  },
  {
   "cell_type": "markdown",
   "id": "f70b0505",
   "metadata": {},
   "source": [
    "#### 4.5.5 Comments on this Result<a id='4.5.5_Comments'></a>"
   ]
  },
  {
   "cell_type": "markdown",
   "id": "a6d0c754",
   "metadata": {},
   "source": [
    "In the figure, class 0 (no heart disease) is shaded red, and class 1 (heart disease) is shaded blue.  The train labels are plotted as circles, using the same color scheme, while the test data are plotted as squares.  Some points that are evident for this simple classifier:\n",
    "\n",
    "- The classifier tends to suggest heart disease either with Chest Pain or choleterol increase.  This seems possibly correct.\n",
    "\n",
    "- The classifier good and realistic!  The accuracy on the training data is only 73%, and the accuracy on the testing data is 80%.\n",
    "\n",
    "- The model perfroms good when trying to recognize inputs that belong to class 1 (*the class of interest*) , we have good values of precision, recall and f1-score for class 1 on training and test set.\n",
    "\n",
    "- The \"decision boundary\" is a line. As we add more features, we won't be able to represent the boundary this way. The boundary becomes what is called a hyperplane, which is the generalization of a line into 3 or more dimensions. But here,a patient measured with a combination of cholesterol and Chest Pain to the right of the line in the blue region would be classified as likely having heart disease. Asymptomatic patient even with out feeling of Chest Pain but labworks, ekg/ecg are remarkable.\n",
    "\n",
    "We now move on to investigate how to get a better classifier that is optimized on the data and will perform well in the future."
   ]
  },
  {
   "cell_type": "markdown",
   "id": "6340e51b",
   "metadata": {},
   "source": [
    "### 5.1 Building a Logistic Regression Model with all Features<a id='5.1_Building_LReg'></a>"
   ]
  },
  {
   "cell_type": "markdown",
   "id": "453e84a8",
   "metadata": {},
   "source": [
    "We will follow the same pattern we used before, only this time we are explicitly defining two objects X and y, which were defined implicitly when we built the first model.\n",
    "#### 5.1.1 Define ``X`` and ``y``  <a id='5.1.1_Building_LReg'></a>"
   ]
  },
  {
   "cell_type": "markdown",
   "id": "9eeb4378",
   "metadata": {},
   "source": [
    "X contains the independent variables--a.k.a. features, but not the target. X is usually referred to as the \"Design Matrix\", in this case it will be represented as a data frame.\n",
    "\n",
    "The following is a very convenient way to express this using Pandas--indeed, the .drop(...), means \"remove the column 'num' ...\""
   ]
  },
  {
   "cell_type": "code",
   "execution_count": 20,
   "id": "ffb0da27",
   "metadata": {},
   "outputs": [
    {
     "name": "stdout",
     "output_type": "stream",
     "text": [
      "X:  <class 'pandas.core.frame.DataFrame'> (297, 23)\n"
     ]
    }
   ],
   "source": [
    "X = df.drop(columns = ['num'])\n",
    "print(\"X: \", type(X), X.shape)"
   ]
  },
  {
   "cell_type": "markdown",
   "id": "01af1546",
   "metadata": {},
   "source": [
    "Notice that ``X`` is a ``pandas`` DataFrame with 297 rows and 23 columns (a.k.a. a matrix).\n",
    "y is the dependent variable, sometimes known as the response, target, or labels. In this case, it is the presence or absence of heart disease."
   ]
  },
  {
   "cell_type": "code",
   "execution_count": 21,
   "id": "f23808a2",
   "metadata": {},
   "outputs": [
    {
     "name": "stdout",
     "output_type": "stream",
     "text": [
      "y:  <class 'pandas.core.series.Series'> (297,)\n"
     ]
    }
   ],
   "source": [
    "y = df['num']\n",
    "print(\"y: \", type(y), y.shape)"
   ]
  },
  {
   "cell_type": "markdown",
   "id": "d5a7ac2f",
   "metadata": {},
   "source": [
    "y will have value True (1) in positions where  the value for the 'num' column of the dataframe is 1, otherwise it will be False (0). and checking the columns contain all the features but not the target."
   ]
  },
  {
   "cell_type": "code",
   "execution_count": 22,
   "id": "4e58dff8",
   "metadata": {},
   "outputs": [
    {
     "data": {
      "text/plain": [
       "['age',\n",
       " 'cp',\n",
       " 'trestbps',\n",
       " 'chol',\n",
       " 'fbs',\n",
       " 'thalach',\n",
       " 'exang',\n",
       " 'oldpeak',\n",
       " 'sex_0',\n",
       " 'sex_1',\n",
       " 'ca_0',\n",
       " 'ca_1',\n",
       " 'ca_2',\n",
       " 'ca_3',\n",
       " 'restecg_0',\n",
       " 'restecg_1',\n",
       " 'restecg_2',\n",
       " 'slope_1',\n",
       " 'slope_2',\n",
       " 'slope_3',\n",
       " 'thal_3',\n",
       " 'thal_6',\n",
       " 'thal_7']"
      ]
     },
     "execution_count": 22,
     "metadata": {},
     "output_type": "execute_result"
    }
   ],
   "source": [
    "list(X.columns)"
   ]
  },
  {
   "cell_type": "markdown",
   "id": "c1e8a72b",
   "metadata": {},
   "source": [
    "#### 5.1.2 Perform train/test split on $(X, y)$<a id='5.1.2_Perform'></a>"
   ]
  },
  {
   "cell_type": "code",
   "execution_count": 23,
   "id": "f2b7f1a6",
   "metadata": {},
   "outputs": [
    {
     "name": "stdout",
     "output_type": "stream",
     "text": [
      "Training split has  222  rows\n",
      " and the corresponding labels have an equal number of values. (222)\n",
      "Test split has  75  rows\n",
      " and the corresponding labels have an equal number of values. (75)\n"
     ]
    }
   ],
   "source": [
    "Xlr, Xtestlr, ylr, ytestlr = train_test_split(X, y, random_state = 2, stratify=y)\n",
    "print('Training split has ', Xlr.shape[0], ' rows\\n',\n",
    "      'and the corresponding labels have an equal number of values.', \n",
    "      '(' + str(len(ylr))+ ')')\n",
    "print('Test split has ', Xtestlr.shape[0], ' rows\\n',\n",
    "      'and the corresponding labels have an equal number of values.', \n",
    "      '(' + str(len(ytestlr)) + ')')"
   ]
  },
  {
   "cell_type": "markdown",
   "id": "4ca6c9a3",
   "metadata": {},
   "source": [
    "in our first model talked about the importance of exploring the proportion among the classes in terms of their sizes, but we did not talk about what could happen to that proportion after the train/test split is executed. In our case, we saw before that the proportion between classes 0 (no heart disease), and 1 (heart disease) is about 54% for class 0, and 46% for class 1--and thus, this is a slightly imbalanced classification problem, where class 1 is the minority class. So, it makes sense to ask whether this proportion is preserved in ylr, ytestlr."
   ]
  },
  {
   "cell_type": "markdown",
   "id": "e26036ba",
   "metadata": {},
   "source": [
    "Here we define a function to plot the class ratios between two splits of the data."
   ]
  },
  {
   "cell_type": "code",
   "execution_count": 24,
   "id": "bc788bab",
   "metadata": {},
   "outputs": [],
   "source": [
    "def plot_y_ratios(y, ytest):\n",
    "    fig, ax = plt.subplots(2, sharex = True)\n",
    "    ax[0].bar(x = [0, 1], height = [y[y == 0].count(), \n",
    "                                    y[y == 1].count()])\n",
    "    ax[0].set_ylabel('train', fontsize = 8)\n",
    "    ax[0].set_ylim(0, 125)\n",
    "    ax[1].bar(x = [0, 1], height = [ytest[ytest == 0].count(),\n",
    "                                    ytest[ytest == 1].count()])\n",
    "    ax[1].set_ylabel('test', fontsize = 8)\n",
    "    ax[1].set_ylim(0, 125)\n",
    "    ax[1].set_xticks([0, 1])\n",
    "    ax[0].tick_params(which = 'both', labelsize = 8)\n",
    "    ax[1].tick_params(which = 'both', labelsize = 8)\n",
    "    ax[1].set_xlabel('heart disease\\n(0 = no disease)', fontsize = 8)\n",
    "    ax[0].set_title('% heart disease (where 1 means presence of heart diseases):\\n' +\n",
    "                    'train: ' + str(round(100 * (y[y ==1].count()/y.shape[0]), 0)) +\n",
    "                    '\\ntest: ' + str(round(100 * (ytest[ytest ==1].count()/ytest.shape[0]), 0)),\n",
    "                   fontsize = 10)\n",
    "    plt.show() "
   ]
  },
  {
   "cell_type": "markdown",
   "id": "0c8a35b0",
   "metadata": {},
   "source": [
    "Now we can inpsect the train response data (ylr) compared to the test response data (ytestlr)."
   ]
  },
  {
   "cell_type": "code",
   "execution_count": 25,
   "id": "0f757521",
   "metadata": {},
   "outputs": [
    {
     "data": {
      "image/png": "[encoded data removed]",
      "text/plain": [
       "<Figure size 750x750 with 2 Axes>"
      ]
     },
     "metadata": {
      "needs_background": "light"
     },
     "output_type": "display_data"
    }
   ],
   "source": [
    "plot_y_ratios(ylr, ytestlr)"
   ]
  },
  {
   "cell_type": "markdown",
   "id": "3f42ec1d",
   "metadata": {},
   "source": [
    "'ytestlr' has one point higher percentage of heart disease (47%), compared to the percentage in the original dataset (46%). train/test split made the imbalance, we would like to perform a split preserving the original proportions among the classes, so we do not have to worry about the possibility of getting poor results due to this fact.\n",
    "\n",
    "It turns out that 'train_test_split' provides a way to compute splits that try to preserve the proportions among the classes in the original dataset.\n"
   ]
  },
  {
   "cell_type": "code",
   "execution_count": 26,
   "id": "951db1ca",
   "metadata": {},
   "outputs": [
    {
     "data": {
      "image/png": "[encoded data removed]",
      "text/plain": [
       "<Figure size 750x750 with 2 Axes>"
      ]
     },
     "metadata": {
      "needs_background": "light"
     },
     "output_type": "display_data"
    }
   ],
   "source": [
    "Xlrstrat, Xtestlrstrat, ylrstrat, ytestlrstrat = train_test_split(X, y, \n",
    "                                                                  random_state = 2, \n",
    "                                                                  stratify = y)\n",
    "plot_y_ratios(ylrstrat, ytestlrstrat)"
   ]
  },
  {
   "cell_type": "markdown",
   "id": "51714e9b",
   "metadata": {},
   "source": [
    "#### 5.1.3 Create an object of the class associated with the algorithm to be used--in this case LogisticRegression<a id='5.1.3_Create_an_object.'></a>"
   ]
  },
  {
   "cell_type": "code",
   "execution_count": 27,
   "id": "be822a62",
   "metadata": {},
   "outputs": [],
   "source": [
    "# Implementing regularized logistic regression using 'newton-cg'\n",
    "clf = LogisticRegression(solver = 'newton-cg', max_iter = 500)"
   ]
  },
  {
   "cell_type": "markdown",
   "id": "beb1288a",
   "metadata": {},
   "source": [
    "#### 5.1.4 Build an actual model using the ``fit `` method from the class associated with the algorithm to be used (using the training set)<a id='5.1.4_Build_using_fit'></a>"
   ]
  },
  {
   "cell_type": "code",
   "execution_count": 28,
   "id": "0b39c5db",
   "metadata": {},
   "outputs": [
    {
     "data": {
      "text/plain": [
       "LogisticRegression(max_iter=500, solver='newton-cg')"
      ]
     },
     "execution_count": 28,
     "metadata": {},
     "output_type": "execute_result"
    }
   ],
   "source": [
    "clf.fit(Xlrstrat, ylrstrat)"
   ]
  },
  {
   "cell_type": "markdown",
   "id": "ab614273",
   "metadata": {},
   "source": [
    "#### 5.1.5 Predict with the built model using the ``predict`` method from the class (training set and test set)<a id='5.1.5_Predict'></a>"
   ]
  },
  {
   "cell_type": "code",
   "execution_count": 29,
   "id": "945c4f4e",
   "metadata": {},
   "outputs": [],
   "source": [
    "y_predict_test = clf.predict(Xtestlrstrat)\n",
    "y_predict_training = clf.predict(Xlrstrat)"
   ]
  },
  {
   "cell_type": "markdown",
   "id": "e8e2ece4",
   "metadata": {},
   "source": [
    "####  5.1.6 Compute performance metrics in this case, accuracy for the training and test predictions. In general, the metrics to be used and their interpretation will depend on the application at hand<a id='5.1.6_Compute_metrix'></a>"
   ]
  },
  {
   "cell_type": "code",
   "execution_count": 30,
   "id": "0d3a2c58",
   "metadata": {},
   "outputs": [
    {
     "name": "stdout",
     "output_type": "stream",
     "text": [
      "[Test] Accuracy score (y_predict_test, ytestlrstrat): 0.83\n"
     ]
    }
   ],
   "source": [
    "print(\"[Test] Accuracy score (y_predict_test, ytestlrstrat):\",\n",
    "      f'{accuracy_score(y_predict_test, ytestlrstrat):.2f}')"
   ]
  },
  {
   "cell_type": "markdown",
   "id": "1781e2aa",
   "metadata": {},
   "source": [
    "Lets Re-compute with switched order to confirm what we expect"
   ]
  },
  {
   "cell_type": "code",
   "execution_count": 31,
   "id": "9ccf746a",
   "metadata": {},
   "outputs": [
    {
     "name": "stdout",
     "output_type": "stream",
     "text": [
      "[Test] Accuracy score: (ytestlrstrat, y_predict_test) 0.83\n"
     ]
    }
   ],
   "source": [
    "print(\"[Test] Accuracy score: (ytestlrstrat, y_predict_test)\", \n",
    "      f'{accuracy_score(ytestlrstrat, y_predict_test):.2f}')"
   ]
  },
  {
   "cell_type": "markdown",
   "id": "be1f1de8",
   "metadata": {},
   "source": [
    "And compute the metric on the training data:"
   ]
  },
  {
   "cell_type": "code",
   "execution_count": 32,
   "id": "ca66cc62",
   "metadata": {},
   "outputs": [
    {
     "name": "stdout",
     "output_type": "stream",
     "text": [
      "[Training] Accuracy score: (ylrstrat, y_predict_training) 0.87\n"
     ]
    }
   ],
   "source": [
    "print(\"[Training] Accuracy score: (ylrstrat, y_predict_training)\", \n",
    "      f'{accuracy_score(ylrstrat, y_predict_training):.2f}')"
   ]
  },
  {
   "cell_type": "markdown",
   "id": "dffa146c",
   "metadata": {},
   "source": [
    "#### 5.1.7 Determine if the model can be improved--repeat as needed with additional algorithms and/or by applying hyper-parameter tuning<a id='5.1.7_Determine'></a>"
   ]
  },
  {
   "cell_type": "markdown",
   "id": "e5f8aa2b",
   "metadata": {},
   "source": [
    "Since the model's **training accuracy** (``0.87``) is pretty good (meaning, close to 1--or 100%), then one says there is only a small \"bias\" in the model.\n",
    "\n",
    "Since the model's **test accuracy** (``0.83``) is decently close to the training accuracy, we would say that there is a small \"variance\" between the training accuracy and the test accuracy. This is an indication that the model will \"generalize well\", which means that the model will be well-behaved when new data is presented to it.\n",
    "\n",
    "Since the gap between training and testing accuracy is about 4%, one might say that the model is slightly over-fitting the data. Thus, in general, one says that a model is *over-fitting* (or just overfitting), when there is an important gap between its training performance and its test performance."
   ]
  },
  {
   "cell_type": "markdown",
   "id": "f76a38fe",
   "metadata": {},
   "source": [
    "#### 5.1.8 Side-Bar: NEVER EVER use just Accuracy to Measure the Performance of a Classification Algorithm!<a id='5.2_Side-bar'></a>\n"
   ]
  },
  {
   "cell_type": "code",
   "execution_count": 33,
   "id": "f2d99a97",
   "metadata": {},
   "outputs": [
    {
     "data": {
      "text/plain": [
       "<sklearn.metrics._plot.confusion_matrix.ConfusionMatrixDisplay at 0x7fd6601385e0>"
      ]
     },
     "execution_count": 33,
     "metadata": {},
     "output_type": "execute_result"
    },
    {
     "data": {
      "image/png": "[encoded data removed]",
      "text/plain": [
       "<Figure size 750x750 with 2 Axes>"
      ]
     },
     "metadata": {
      "needs_background": "light"
     },
     "output_type": "display_data"
    }
   ],
   "source": [
    "cm = confusion_matrix(ytestlrstrat, y_predict_test, labels = clf.classes_)\n",
    "_, ax = plt.subplots()\n",
    "display_cm = ConfusionMatrixDisplay(confusion_matrix = cm, \n",
    "                                    display_labels = ['no heart disease', 'heart disease'])\n",
    "ax.set_xticks([0, 1])\n",
    "ax.set_yticks([0, 1])\n",
    "ax.set_xticklabels(labels = ['no heart disease', 'heart disease'], fontsize = 8)\n",
    "ax.set_yticklabels(labels = ['no heart disease', 'heart disease'], fontsize = 8)\n",
    "display_cm.plot(ax = ax)"
   ]
  },
  {
   "cell_type": "markdown",
   "id": "d4127987",
   "metadata": {},
   "source": [
    "This information can be discussed with stakeholders to decide which is more important, reducing false positives or false negatives.\n",
    "\n",
    "From the chart we can see that while the overall accuracy was 83%, when we predict heart disease: \n",
    "20% of the time we are predicting a false positive.\n",
    "18% we are predicting false negatives."
   ]
  },
  {
   "cell_type": "code",
   "execution_count": 34,
   "id": "162781ef",
   "metadata": {},
   "outputs": [
    {
     "name": "stdout",
     "output_type": "stream",
     "text": [
      "              precision    recall  f1-score   support\n",
      "\n",
      "           0       0.87      0.91      0.89       120\n",
      "           1       0.89      0.83      0.86       102\n",
      "\n",
      "    accuracy                           0.87       222\n",
      "   macro avg       0.88      0.87      0.87       222\n",
      "weighted avg       0.87      0.87      0.87       222\n",
      "\n"
     ]
    }
   ],
   "source": [
    "print(classification_report(ylrstrat, y_predict_training))"
   ]
  },
  {
   "cell_type": "code",
   "execution_count": 35,
   "id": "3ad4289e",
   "metadata": {},
   "outputs": [
    {
     "name": "stdout",
     "output_type": "stream",
     "text": [
      "              precision    recall  f1-score   support\n",
      "\n",
      "           0       0.85      0.82      0.84        40\n",
      "           1       0.81      0.83      0.82        35\n",
      "\n",
      "    accuracy                           0.83        75\n",
      "   macro avg       0.83      0.83      0.83        75\n",
      "weighted avg       0.83      0.83      0.83        75\n",
      "\n"
     ]
    }
   ],
   "source": [
    "print(classification_report(ytestlrstrat, y_predict_test))"
   ]
  },
  {
   "cell_type": "markdown",
   "id": "ddd6600c",
   "metadata": {},
   "source": [
    "When the test accuracy is significally better than the training accuracy, this would justify a review of the code to see if there is a bug. In such a case, plotting the performance results with multiple splits of the same data would be one way to start investigating."
   ]
  },
  {
   "cell_type": "code",
   "execution_count": 36,
   "id": "18a2f79c",
   "metadata": {},
   "outputs": [],
   "source": [
    "#\n",
    "# here we try multiple splits and see the effects, with the same proportion 75% train and 25% test\n",
    "#\n",
    "# keep lists for training accuracy, \n",
    "#                test accuracy, \n",
    "#                and the difference between the latter and the former\n",
    "#\n",
    "training_accuracy = []\n",
    "test_accuracy = []\n",
    "accuracy_difference = []\n",
    "#\n",
    "# define number of trials\n",
    "#\n",
    "n_splits = 25\n",
    "#\n",
    "# define LogisticRegression object\n",
    "#\n",
    "clf = LogisticRegression(solver = 'newton-cg', max_iter = 500)\n",
    "#\n",
    "# loop over multiple trials\n",
    "#\n",
    "for i in range(0, n_splits):\n",
    "#\n",
    "# perform a split for this iteration, \n",
    "# using different random_state for every iteration\n",
    "# this ensures each split is likely to be unique\n",
    "#\n",
    "    Xlr, Xtestlr, ylr, ytestlr = train_test_split(X, y, stratify = y, random_state = i)\n",
    "#    \n",
    "# fit the Classifier on the training set\n",
    "#\n",
    "    clf.fit(Xlr, ylr)\n",
    "#\n",
    "# predict the labels for the training data\n",
    "#\n",
    "    y_predict_training = clf.predict(Xlr)\n",
    "#\n",
    "# predict the labels for the test data\n",
    "#\n",
    "    y_predict_test = clf.predict(Xtestlr)\n",
    "#\n",
    "# save training set accuracy for this split\n",
    "#\n",
    "    tr_accuracy = accuracy_score(y_predict_training, ylr)\n",
    "    training_accuracy.append(tr_accuracy)\n",
    "#\n",
    "# save test set accuracy for this split\n",
    "#\n",
    "    tst_accuracy = accuracy_score(y_predict_test, ytestlr)\n",
    "    test_accuracy.append(tst_accuracy)\n",
    "#\n",
    "# save difference between the two acuracy values\n",
    "#\n",
    "    accuracy_difference.append(tst_accuracy - tr_accuracy)"
   ]
  },
  {
   "cell_type": "markdown",
   "id": "3d4cfbe6",
   "metadata": {},
   "source": [
    "The above code generates 25 unique experiments varying the train-test split indices within the original data.  Now we plot all the trials for both the training and test data, to compare the results."
   ]
  },
  {
   "cell_type": "code",
   "execution_count": 37,
   "id": "10362a3e",
   "metadata": {},
   "outputs": [
    {
     "data": {
      "image/png": "[encoded data removed]",
      "text/plain": [
       "<Figure size 750x750 with 1 Axes>"
      ]
     },
     "metadata": {
      "needs_background": "light"
     },
     "output_type": "display_data"
    }
   ],
   "source": [
    "fig, ax = plt.subplots()\n",
    "ax.scatter(range(len(training_accuracy)),\n",
    "           training_accuracy, \n",
    "           color = 'blue', \n",
    "           alpha = 0.5,\n",
    "           label = 'Train data results')\n",
    "ax.plot(range(len(training_accuracy)),\n",
    "        training_accuracy, \n",
    "        color = 'blue', \n",
    "        linestyle = '-.',\n",
    "        linewidth = 0.5)\n",
    "ax.scatter(range(len(test_accuracy)),\n",
    "           test_accuracy, \n",
    "           color = 'red', \n",
    "           alpha = 0.35, \n",
    "           label = 'Test data results')\n",
    "ax.plot(range(len(test_accuracy)),\n",
    "        test_accuracy, \n",
    "        color = 'red', \n",
    "        linestyle = '-.',\n",
    "        linewidth = 0.5)\n",
    "ax.legend(fontsize = 8, loc = \"lower right\")\n",
    "ax.set_ylabel('Training vs Test Accuracy')\n",
    "ax.set_ylim(0, 1)\n",
    "ax.set_xlabel('trial number')\n",
    "plt.show()"
   ]
  },
  {
   "cell_type": "markdown",
   "id": "251e91b5",
   "metadata": {},
   "source": [
    "The accuracy on the train split is relatively constant. This is generally expected since the model is given the train data to fit. On the other hand, the test results vary somewhat more. Another way to look at these results is to plot the difference between the test accuracy and the train accuracy, which is done here."
   ]
  },
  {
   "cell_type": "code",
   "execution_count": 38,
   "id": "84543572",
   "metadata": {},
   "outputs": [
    {
     "data": {
      "image/png": "[encoded data removed]",
      "text/plain": [
       "<Figure size 750x750 with 1 Axes>"
      ]
     },
     "metadata": {
      "needs_background": "light"
     },
     "output_type": "display_data"
    }
   ],
   "source": [
    "fig, ax = plt.subplots()\n",
    "ax.scatter(range(len(accuracy_difference)),\n",
    "           accuracy_difference, \n",
    "           color = 'green', \n",
    "           label = 'Difference in Accuracy [test - train]')\n",
    "ax.plot([0, len(accuracy_difference)], [0, 0], 'red')\n",
    "ax.legend(fontsize = 6)\n",
    "ax.set_ylabel('Test/Training Accuracy Difference')\n",
    "ax.set_ylim(-0.25, 0.25)\n",
    "ax.set_xlabel('trial number')\n",
    "plt.show()"
   ]
  },
  {
   "cell_type": "code",
   "execution_count": 39,
   "id": "151b6793",
   "metadata": {},
   "outputs": [
    {
     "name": "stdout",
     "output_type": "stream",
     "text": [
      "[Training Classification Report]\n",
      "              precision    recall  f1-score   support\n",
      "\n",
      "           0       0.84      0.88      0.86       120\n",
      "           1       0.85      0.80      0.83       102\n",
      "\n",
      "    accuracy                           0.85       222\n",
      "   macro avg       0.85      0.84      0.85       222\n",
      "weighted avg       0.85      0.85      0.85       222\n",
      "\n",
      "[Test Classification Report]\n",
      "              precision    recall  f1-score   support\n",
      "\n",
      "           0       0.90      0.93      0.91        40\n",
      "           1       0.91      0.89      0.90        35\n",
      "\n",
      "    accuracy                           0.91        75\n",
      "   macro avg       0.91      0.91      0.91        75\n",
      "weighted avg       0.91      0.91      0.91        75\n",
      "\n"
     ]
    }
   ],
   "source": [
    "print(\"[Training Classification Report]\")\n",
    "print(classification_report(ylr, y_predict_training))\n",
    "#\n",
    "print(\"[Test Classification Report]\")\n",
    "print(classification_report(ytestlr, y_predict_test))"
   ]
  },
  {
   "cell_type": "markdown",
   "id": "e5cd33f7",
   "metadata": {},
   "source": [
    "In this case, the test accuracy is sometimes better."
   ]
  },
  {
   "cell_type": "code",
   "execution_count": 40,
   "id": "3a7975ff",
   "metadata": {},
   "outputs": [
    {
     "name": "stdout",
     "output_type": "stream",
     "text": [
      "A file already exists with this name.\n",
      "\n",
      "Do you want to overwrite? (Y/N)y\n",
      "Writing file.  \"../data/Cleveland_Model.csv\"\n"
     ]
    }
   ],
   "source": [
    "# Save the data \n",
    "datapath = '../data'\n",
    "save_file(df, 'Cleveland_Model.csv', datapath)\n"
   ]
  },
  {
   "cell_type": "markdown",
   "id": "659ae682",
   "metadata": {},
   "source": [
    "#### 5.3 Summary<a id='5.3_Summary'></a>"
   ]
  },
  {
   "cell_type": "markdown",
   "id": "91b2202a",
   "metadata": {},
   "source": [
    "In our first model between classes 55% on (0) No heart disease and 46% on (1) Heart disease. And because of class (1) is the minority class this is slightly imbalance classification problem, we compare if the proportion is preserved between train reponse data (ylr) and test response data (ytestlr). Compare to our original dataset the percentage is 46% and ytestlr has one point higher 47%. To preserve the original proportion among classes we performed split.\n",
    "In performance matrix we computed accuracy for training and test predictions, in test accuracy report we have 83% accurate and in training accuracy report is 87%, since the gap between training and testing is decently close by 4% its slightly overfitting and also this is an indication that our model will well-behave when new data is presented.\n",
    "We investigate further by plotting the performance results with multiple splits our test accuracy report is 91% accurate and in training accuracy report is 85%.\n",
    "\n"
   ]
  },
  {
   "cell_type": "code",
   "execution_count": null,
   "id": "369fd24d",
   "metadata": {},
   "outputs": [],
   "source": []
  }
 ],
 "metadata": {
  "kernelspec": {
   "display_name": "Python 3 (ipykernel)",
   "language": "python",
   "name": "python3"
  },
  "language_info": {
   "codemirror_mode": {
    "name": "ipython",
    "version": 3
   },
   "file_extension": ".py",
   "mimetype": "text/x-python",
   "name": "python",
   "nbconvert_exporter": "python",
   "pygments_lexer": "ipython3",
   "version": "3.9.12"
  }
 },
 "nbformat": 4,
 "nbformat_minor": 5
}
