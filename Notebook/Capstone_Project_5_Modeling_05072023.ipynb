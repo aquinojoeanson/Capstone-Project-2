{
 "cells": [
  {
   "cell_type": "markdown",
   "id": "372de494",
   "metadata": {},
   "source": [
    "## 5 Modelling"
   ]
  },
  {
   "cell_type": "markdown",
   "id": "fc5a01e6",
   "metadata": {},
   "source": [
    "### 5.1 Table of Contents<a id='5.1_Contents'></a>\n",
    "* [5.1 Table of Contents](#5.1_Table_Contents)  \n",
    "* [5.2 Introduction](5.2_Intro)\n",
    "* [5.3 Libraries that will be used](#5.3_Libraries_that_will_be_used)\n",
    "* [5.4 Loading the data](#5.4_Loading_the_data)\n",
    "* [5.5 Logistic Regression Classifier](#5.5_logisticregression)\n",
    "    * [5.5.1 Logistic Regression with GridSearchCV](#5.5.1_logisticregressionGS) \n",
    "    * [5.5.2 Logistic Regression Table](#5.5.2_logisticregressionTB)\n",
    "* [5.6 Random Forest Classifier ](#5.6_randomforest) \n",
    "    * [5.6.1 Random Forest with GridSearchCV](#5.6.1_RandomForestwGS)\n",
    "    * [5.6.2 Random Forest Table](#5.6.2_RFTB)\n",
    "* [5.7 Light GBM Classifier](#5.7_lgbm) \n",
    "    * [5.7.1 LGBM with GridSearchCV](#5.7.1_LGBMGS)\n",
    "    * [5.7.2 LGBM Table](#5.7.2_LGBMTB)\n",
    "* [5.8 xgBoost Classifier](#5.8_xgboost) \n",
    "    * [5.8.1 xgBoost with GridSearchCV](#5.8.1_xgBoostGS)\n",
    "    * [5.8.2 Random Forest Table](#5.8.2_xgBoostTB)\n",
    "* [5.9 Decision Tree](#5.9_Decision_Tree)\n",
    "    * [5.9.1 Decision Tree with GridSearchCV](#5.9.1_DtreeGS)\n",
    "    * [5.9.2 Random Forest Table](#5.9.2_DTreeTB)\n",
    "    \n",
    "    ### Summary Values  <a id='5.5 '></a>\n",
    "\n",
    "\n"
   ]
  },
  {
   "cell_type": "markdown",
   "id": "46ea5a23",
   "metadata": {},
   "source": [
    "### 5.2 Introduction"
   ]
  },
  {
   "cell_type": "markdown",
   "id": "f1291de8",
   "metadata": {},
   "source": [
    "  \n",
    "* Logistic Regression Classifier\n",
    "* Random Forest Classifier \n",
    "* Light GBM Classifier\n",
    "* xgBoost Classifier\n",
    "* Decision Tree"
   ]
  },
  {
   "cell_type": "markdown",
   "id": "5c1bf4c0",
   "metadata": {},
   "source": [
    "### 5.3 Libraries that will be used<a id='5.3_Libraries_that_will_be_used'></a>"
   ]
  },
  {
   "cell_type": "code",
   "execution_count": 1,
   "id": "4befe076",
   "metadata": {},
   "outputs": [
    {
     "name": "stderr",
     "output_type": "stream",
     "text": [
      "/Users/aquinojoeanson/opt/anaconda3/lib/python3.9/site-packages/xgboost/compat.py:36: FutureWarning:\n",
      "\n",
      "pandas.Int64Index is deprecated and will be removed from pandas in a future version. Use pandas.Index with the appropriate dtype instead.\n",
      "\n"
     ]
    }
   ],
   "source": [
    "import numpy as np \n",
    "import pandas as pd\n",
    "import matplotlib.pyplot as plt\n",
    "import seaborn as sns\n",
    "sns.set(style='darkgrid')\n",
    "import plotly.graph_objs as go\n",
    "import plotly.offline as py\n",
    "import pickle\n",
    "\n",
    "# For Data Preprocessing\n",
    "from sklearn.model_selection import train_test_split\n",
    "\n",
    "# For Model Building\n",
    "from sklearn.tree import DecisionTreeClassifier\n",
    "from sklearn.linear_model import LogisticRegression\n",
    "from sklearn.ensemble import RandomForestClassifier\n",
    "from xgboost import XGBClassifier\n",
    "from sklearn.model_selection import GridSearchCV\n",
    "from sklearn.metrics import classification_report\n",
    "from sklearn.metrics import accuracy_score\n",
    "from sklearn.metrics import precision_score\n",
    "from sklearn.metrics import recall_score\n",
    "from sklearn.metrics import f1_score\n",
    "\n",
    "# For Model Evaluation\n",
    "from sklearn.metrics import confusion_matrix\n",
    "#from sklearn.metrics import plot_roc_curve, auc\n",
    "#from sklearn.model_selection import learning_curve\n",
    "\n",
    "import warnings\n",
    "warnings.filterwarnings(\"ignore\")"
   ]
  },
  {
   "cell_type": "markdown",
   "id": "9ea6fe32",
   "metadata": {},
   "source": [
    "### 5.4 Loading Data <a id='5.4_Loading_the_data'></a>"
   ]
  },
  {
   "cell_type": "code",
   "execution_count": 2,
   "id": "6329b95c",
   "metadata": {},
   "outputs": [],
   "source": [
    "# Load Data\n",
    "df = pd.read_csv('/Users/aquinojoeanson/Desktop/SPRINGBOARD/Capstone_Project_2/Data/Cleveland_Model.csv')\n",
    "X = df.iloc[:, :-1].values\n",
    "y = df.iloc[:, -1].values\n",
    "\n",
    "Xlr, Xtestlr, ylr, ytestlr = train_test_split(X, y, random_state = 2, stratify=y)\n"
   ]
  },
  {
   "cell_type": "markdown",
   "id": "ca78ae8b",
   "metadata": {},
   "source": [
    "### 5.5 Logistic Regression model  <a id='5.5_logisticregression'></a>"
   ]
  },
  {
   "cell_type": "code",
   "execution_count": 3,
   "id": "d60a9626",
   "metadata": {},
   "outputs": [],
   "source": [
    "# Build and fit Logistic Regression model\n",
    "logreg = LogisticRegression()\n",
    "logreg = logreg.fit(Xlr, ylr)"
   ]
  },
  {
   "cell_type": "code",
   "execution_count": 4,
   "id": "875290a9",
   "metadata": {},
   "outputs": [],
   "source": [
    "def get_model_accuracy(model, Xtestlr, ytestlr):\n",
    "    \"\"\"\n",
    "    Return the mean accuracy of model on X_test and y_test\n",
    "    \"\"\"\n",
    "    logreg_accuracy= logreg.score(Xtestlr, ytestlr)\n",
    "    return logreg_accuracy"
   ]
  },
  {
   "cell_type": "code",
   "execution_count": 5,
   "id": "a14dc678",
   "metadata": {},
   "outputs": [
    {
     "name": "stdout",
     "output_type": "stream",
     "text": [
      "Logistic Regression Accuracy: 0.96\n",
      "\n",
      "              precision    recall  f1-score   support\n",
      "\n",
      "           0       0.93      1.00      0.97        43\n",
      "           1       1.00      0.91      0.95        32\n",
      "\n",
      "    accuracy                           0.96        75\n",
      "   macro avg       0.97      0.95      0.96        75\n",
      "weighted avg       0.96      0.96      0.96        75\n",
      "\n"
     ]
    }
   ],
   "source": [
    "# Accuracy in Logistic Regression model\n",
    "logreg_accuracy = get_model_accuracy(logreg, Xtestlr, ytestlr)\n",
    "print(f'Logistic Regression Accuracy: {logreg_accuracy:.4}')\n",
    "print()\n",
    "\n",
    "# Predict class for X_test\n",
    "y_predict_logreg = logreg.predict(Xtestlr)\n",
    "\n",
    "#Pickle\n",
    "newfilename_pickle = 'cp_predict_model'\n",
    "pickle.dump(logreg,open(newfilename_pickle,'wb'))\n",
    "\n",
    "loaded_model = pickle.load(open(newfilename_pickle,'rb'))\n",
    "loaded_model.predict(Xtestlr)\n",
    "y_predict_train = logreg.predict(Xlr)\n",
    "\n",
    "# Classification Report of logistic regression model\n",
    "print(classification_report(y_predict_logreg, ytestlr))"
   ]
  },
  {
   "cell_type": "markdown",
   "id": "725ad16f",
   "metadata": {},
   "source": [
    "### 5.5.1 Logistic Regression with GridSearchCV <a id='5.5.1_logisticregressionGS'></a>"
   ]
  },
  {
   "cell_type": "code",
   "execution_count": 6,
   "id": "984c5712",
   "metadata": {},
   "outputs": [],
   "source": [
    "def get_best_parameters_GridSearchCV(logreg, params, Xlr, ylr):\n",
    "    logreg = GridSearchCV(logreg, params, cv=5)\n",
    "    logreg.fit(Xlr, ylr)\n",
    "    \n",
    "    best_params = logreg.best_params_\n",
    "    print(f'Best Parameters in {logreg}: {best_params}')\n",
    "    print()\n",
    "    \n",
    "    best_estimator = logreg.best_estimator_\n",
    "    return best_estimator"
   ]
  },
  {
   "cell_type": "code",
   "execution_count": 7,
   "id": "2d4d2d6b",
   "metadata": {},
   "outputs": [],
   "source": [
    "params_logreg = {'penalty': ['l1', 'l2', 'elasticnet'],\n",
    "                 'C': np.logspace(-4, 4, 20),\n",
    "                 'solver' : ['newton-cg', 'lbfgs', 'liblinear', 'sag', 'saga']}"
   ]
  },
  {
   "cell_type": "code",
   "execution_count": 8,
   "id": "c5e103ff",
   "metadata": {},
   "outputs": [
    {
     "name": "stdout",
     "output_type": "stream",
     "text": [
      "Best Parameters in GridSearchCV(cv=5, estimator=LogisticRegression(),\n",
      "             param_grid={'C': array([1.00000000e-04, 2.63665090e-04, 6.95192796e-04, 1.83298071e-03,\n",
      "       4.83293024e-03, 1.27427499e-02, 3.35981829e-02, 8.85866790e-02,\n",
      "       2.33572147e-01, 6.15848211e-01, 1.62377674e+00, 4.28133240e+00,\n",
      "       1.12883789e+01, 2.97635144e+01, 7.84759970e+01, 2.06913808e+02,\n",
      "       5.45559478e+02, 1.43844989e+03, 3.79269019e+03, 1.00000000e+04]),\n",
      "                         'penalty': ['l1', 'l2', 'elasticnet'],\n",
      "                         'solver': ['newton-cg', 'lbfgs', 'liblinear', 'sag',\n",
      "                                    'saga']}): {'C': 0.615848211066026, 'penalty': 'l1', 'solver': 'liblinear'}\n",
      "\n",
      "Logistic Regression Model with GridSearchCV Accuracy: 0.96\n",
      "\n",
      "              precision    recall  f1-score   support\n",
      "\n",
      "           0       1.00      1.00      1.00        46\n",
      "           1       1.00      1.00      1.00        29\n",
      "\n",
      "    accuracy                           1.00        75\n",
      "   macro avg       1.00      1.00      1.00        75\n",
      "weighted avg       1.00      1.00      1.00        75\n",
      "\n"
     ]
    }
   ],
   "source": [
    "# Build and fit parameter tuned Logistic Regression model\n",
    "logreg_gscv = get_best_parameters_GridSearchCV(logreg, params_logreg, Xlr, ylr) \n",
    "logreg_gscv = logreg_gscv.fit(Xlr, ylr)\n",
    "\n",
    "# Accuracy test score for logreg_cv\n",
    "logreg_gscv_accuracy = get_model_accuracy(logreg_gscv, Xtestlr, ytestlr)\n",
    "print(f'Logistic Regression Model with GridSearchCV Accuracy: {logreg_gscv_accuracy:.4}')\n",
    "print()\n",
    "\n",
    "# Make prediction on test dataset\n",
    "y_predict_logreg_gscv = logreg_gscv.predict(Xtestlr)\n",
    "\n",
    "# Classification Report of logreg_cv\n",
    "print(classification_report(y_predict_logreg_gscv, ytestlr))"
   ]
  },
  {
   "cell_type": "markdown",
   "id": "e45bf5af",
   "metadata": {},
   "source": [
    "### 5.2.2 Logistic Regression Table  <a id='5.5.2_logisticregressionTB'></a>"
   ]
  },
  {
   "cell_type": "code",
   "execution_count": 9,
   "id": "beee1b37",
   "metadata": {},
   "outputs": [
    {
     "data": {
      "text/html": [
       "<div>\n",
       "<style scoped>\n",
       "    .dataframe tbody tr th:only-of-type {\n",
       "        vertical-align: middle;\n",
       "    }\n",
       "\n",
       "    .dataframe tbody tr th {\n",
       "        vertical-align: top;\n",
       "    }\n",
       "\n",
       "    .dataframe thead th {\n",
       "        text-align: right;\n",
       "    }\n",
       "</style>\n",
       "<table border=\"1\" class=\"dataframe\">\n",
       "  <thead>\n",
       "    <tr style=\"text-align: right;\">\n",
       "      <th></th>\n",
       "      <th>Train_Accuracy</th>\n",
       "      <th>Test_Accuracy</th>\n",
       "      <th>Train_Precision</th>\n",
       "      <th>Test_Precision</th>\n",
       "      <th>Train_Recall</th>\n",
       "      <th>Test_Recall</th>\n",
       "      <th>Train_F1-score</th>\n",
       "      <th>Test_F1-score</th>\n",
       "    </tr>\n",
       "  </thead>\n",
       "  <tbody>\n",
       "    <tr>\n",
       "      <th>Logistic_Regression</th>\n",
       "      <td>0.995495</td>\n",
       "      <td>0.96</td>\n",
       "      <td>0.988506</td>\n",
       "      <td>0.90625</td>\n",
       "      <td>1.0</td>\n",
       "      <td>1.0</td>\n",
       "      <td>0.9955</td>\n",
       "      <td>0.960309</td>\n",
       "    </tr>\n",
       "  </tbody>\n",
       "</table>\n",
       "</div>"
      ],
      "text/plain": [
       "                     Train_Accuracy  Test_Accuracy  Train_Precision  \\\n",
       "Logistic_Regression        0.995495           0.96         0.988506   \n",
       "\n",
       "                     Test_Precision  Train_Recall  Test_Recall  \\\n",
       "Logistic_Regression         0.90625           1.0          1.0   \n",
       "\n",
       "                     Train_F1-score  Test_F1-score  \n",
       "Logistic_Regression          0.9955       0.960309  "
      ]
     },
     "execution_count": 9,
     "metadata": {},
     "output_type": "execute_result"
    }
   ],
   "source": [
    "# Training set performance\n",
    "LR_train_accuracy = accuracy_score(ylr, y_predict_train) # Calculate Accuracy\n",
    "LR_train_precision = precision_score(ylr, y_predict_train) # Calculate Precision\n",
    "LR_train_recall = recall_score(ylr, y_predict_train) # Calculate Recall\n",
    "LR_train_f1 = f1_score(ylr, y_predict_train, average='weighted') # Calculate F1-score\n",
    "\n",
    "# Test set performance\n",
    "LR_test_accuracy = accuracy_score(ytestlr, y_predict_logreg) # Calculate Accuracy\n",
    "LR_test_precision = precision_score(ytestlr, y_predict_logreg) # Calculate Precision\n",
    "LR_test_recall = recall_score(ytestlr, y_predict_logreg) # Calculate Recall\n",
    "LR_test_f1 = f1_score(ytestlr, y_predict_logreg, average='weighted') # Calculate F1-score\n",
    "\n",
    "\n",
    "\n",
    "#Train Results\n",
    "accuracy_train_list = {'Logistic_Regression': LR_train_accuracy}\n",
    "precision_train_list = {'Logistic_Regression': LR_train_precision}\n",
    "recall_train_list = {'Logistic_Regression': LR_train_recall}\n",
    "f1score_train_list = {'Logistic_Regression': LR_train_f1}\n",
    "\n",
    "\n",
    "#Test Results\n",
    "accuracy_test_list = {'Logistic_Regression': LR_test_accuracy}\n",
    "precision_test_list = {'Logistic_Regression': LR_test_precision}\n",
    "recall_test_list = {'Logistic_Regression': LR_test_recall}\n",
    "f1score_test_list = {'Logistic_Regression': LR_test_f1}\n",
    "\n",
    "\n",
    "# Model performance for Training set\n",
    "accuracy_train_df = pd.DataFrame.from_dict(accuracy_train_list, orient='index', columns=['Train_Accuracy'])\n",
    "precision_train_df = pd.DataFrame.from_dict(precision_train_list, orient='index', columns=['Train_Precision'])\n",
    "recall_train_df = pd.DataFrame.from_dict(recall_train_list, orient='index', columns=['Train_Recall'])\n",
    "f1_train_df = pd.DataFrame.from_dict(f1score_train_list, orient='index', columns=['Train_F1-score'])\n",
    "\n",
    "#Model performance for Test set\n",
    "accuracy_test_df = pd.DataFrame.from_dict(accuracy_test_list, orient='index', columns=['Test_Accuracy'])\n",
    "precision_test_df = pd.DataFrame.from_dict(precision_test_list, orient='index', columns=['Test_Precision'])\n",
    "recall_test_df = pd.DataFrame.from_dict(recall_test_list, orient='index', columns=['Test_Recall'])\n",
    "f1_test_df = pd.DataFrame.from_dict(f1score_test_list, orient='index', columns=['Test_F1-score'])\n",
    "LR_df = pd.concat([accuracy_train_df, accuracy_test_df, precision_train_df, precision_test_df, recall_train_df, recall_test_df, f1_train_df, f1_test_df], axis=1)                 \n",
    "LR_df\n",
    "\n"
   ]
  },
  {
   "cell_type": "markdown",
   "id": "829a2815",
   "metadata": {},
   "source": [
    "### 5.6 Random Forest  <a id='5.6_randomforest'></a>"
   ]
  },
  {
   "cell_type": "code",
   "execution_count": 10,
   "id": "81fd76b8",
   "metadata": {},
   "outputs": [
    {
     "name": "stdout",
     "output_type": "stream",
     "text": [
      "RandomForestClassifier Accuracy: 0.96\n",
      "\n",
      "              precision    recall  f1-score   support\n",
      "\n",
      "           0       0.98      1.00      0.99        45\n",
      "           1       1.00      0.97      0.98        30\n",
      "\n",
      "    accuracy                           0.99        75\n",
      "   macro avg       0.99      0.98      0.99        75\n",
      "weighted avg       0.99      0.99      0.99        75\n",
      "\n"
     ]
    }
   ],
   "source": [
    "# Build and fit Random Forest model\n",
    "ranfor = RandomForestClassifier()\n",
    "ranfor = ranfor.fit(Xlr, ylr)\n",
    "\n",
    "# Accuracy score for Random Forest\n",
    "ranfor_accuracy = get_model_accuracy(ranfor, Xtestlr, ytestlr)\n",
    "print(f'RandomForestClassifier Accuracy: {ranfor_accuracy:.4}')\n",
    "print()\n",
    "\n",
    "# Predict class for X_test\n",
    "y_predict_ranfor = ranfor.predict(Xtestlr)\n",
    "\n",
    "#Pickle\n",
    "newfilename_pickle = 'cp_predict_model'\n",
    "pickle.dump(ranfor,open(newfilename_pickle,'wb'))\n",
    "\n",
    "ranfor_cm_test = confusion_matrix(y_predict_ranfor, ytestlr)\n",
    "\n",
    "loaded_model = pickle.load(open(newfilename_pickle,'rb'))\n",
    "loaded_model.predict(Xtestlr)\n",
    "y_predict_train = ranfor.predict(Xlr)\n",
    "\n",
    "# Classification Report of Random Forest model\n",
    "print(classification_report(y_predict_ranfor, ytestlr))"
   ]
  },
  {
   "cell_type": "markdown",
   "id": "17cad90c",
   "metadata": {},
   "source": [
    "### 5.6.1 Rondom Forest with GridSearchCV  <a id='5.6.1_RandomForestwGS'></a>"
   ]
  },
  {
   "cell_type": "code",
   "execution_count": 11,
   "id": "71759130",
   "metadata": {},
   "outputs": [],
   "source": [
    "def get_best_parameters_GridSearchCV(ranfor, params, Xlr, ylr):\n",
    "    ranfor = GridSearchCV(ranfor, params, cv=5)\n",
    "    ranfor.fit(Xlr, ylr)\n",
    "    \n",
    "    best_params = ranfor.best_params_\n",
    "    print(f'Best Parameters in {ranfor}: {best_params}')\n",
    "    print()\n",
    "    \n",
    "    best_estimator = ranfor.best_estimator_\n",
    "    return best_estimator"
   ]
  },
  {
   "cell_type": "code",
   "execution_count": 12,
   "id": "e4b4070b",
   "metadata": {},
   "outputs": [],
   "source": [
    "params_rf = {'max_depth': [2, 3, 4, 5],\n",
    "               'max_features': ['auto', 'sqrt', 'log2'],\n",
    "               'n_estimators':[0, 10, 50],\n",
    "               'random_state': [0, 10, 42]}"
   ]
  },
  {
   "cell_type": "code",
   "execution_count": 13,
   "id": "464f18fa",
   "metadata": {},
   "outputs": [
    {
     "name": "stdout",
     "output_type": "stream",
     "text": [
      "Best Parameters in GridSearchCV(cv=5, estimator=RandomForestClassifier(),\n",
      "             param_grid={'max_depth': [2, 3, 4, 5],\n",
      "                         'max_features': ['auto', 'sqrt', 'log2'],\n",
      "                         'n_estimators': [0, 10, 50],\n",
      "                         'random_state': [0, 10, 42]}): {'max_depth': 5, 'max_features': 'auto', 'n_estimators': 50, 'random_state': 42}\n",
      "\n",
      "Random Forest with GridSearchCV Accuracy: 0.96\n",
      "\n",
      "              precision    recall  f1-score   support\n",
      "\n",
      "           0       1.00      0.98      0.99        47\n",
      "           1       0.97      1.00      0.98        28\n",
      "\n",
      "    accuracy                           0.99        75\n",
      "   macro avg       0.98      0.99      0.99        75\n",
      "weighted avg       0.99      0.99      0.99        75\n",
      "\n"
     ]
    }
   ],
   "source": [
    "# Build and fit Random Forest model with the best hyperparameters\n",
    "ranfor_gscv = get_best_parameters_GridSearchCV(ranfor, params_rf, Xlr, ylr)\n",
    "ranfor_gscv = ranfor_gscv.fit(Xlr, ylr)\n",
    "\n",
    "# Accuracy score for rf_gscv\n",
    "ranfor_gscv_accuracy = get_model_accuracy(ranfor_gscv, Xtestlr, ytestlr)\n",
    "print(f'Random Forest with GridSearchCV Accuracy: {ranfor_gscv_accuracy:.4}')\n",
    "print()\n",
    "\n",
    "# Make prediction on test dataset\n",
    "y_predict_ranfor_gscv = ranfor_gscv.predict(Xtestlr)\n",
    "\n",
    "# Classification Report of grid_rf_model\n",
    "print(classification_report(y_predict_ranfor_gscv, ytestlr))\n"
   ]
  },
  {
   "cell_type": "markdown",
   "id": "3f4215c5",
   "metadata": {},
   "source": [
    "### 5.6.2 Random Forest Table  <a id='5.6.2_RFTB'></a>"
   ]
  },
  {
   "cell_type": "code",
   "execution_count": 14,
   "id": "a324433e",
   "metadata": {},
   "outputs": [
    {
     "data": {
      "text/html": [
       "<div>\n",
       "<style scoped>\n",
       "    .dataframe tbody tr th:only-of-type {\n",
       "        vertical-align: middle;\n",
       "    }\n",
       "\n",
       "    .dataframe tbody tr th {\n",
       "        vertical-align: top;\n",
       "    }\n",
       "\n",
       "    .dataframe thead th {\n",
       "        text-align: right;\n",
       "    }\n",
       "</style>\n",
       "<table border=\"1\" class=\"dataframe\">\n",
       "  <thead>\n",
       "    <tr style=\"text-align: right;\">\n",
       "      <th></th>\n",
       "      <th>Train_Accuracy</th>\n",
       "      <th>Test_Accuracy</th>\n",
       "      <th>Train_Precision</th>\n",
       "      <th>Test_Precision</th>\n",
       "      <th>Train_Recall</th>\n",
       "      <th>Test_Recall</th>\n",
       "      <th>Train_F1-score</th>\n",
       "      <th>Test_F1-score</th>\n",
       "    </tr>\n",
       "  </thead>\n",
       "  <tbody>\n",
       "    <tr>\n",
       "      <th>Random_Forest</th>\n",
       "      <td>1.0</td>\n",
       "      <td>0.986667</td>\n",
       "      <td>1.0</td>\n",
       "      <td>0.966667</td>\n",
       "      <td>1.0</td>\n",
       "      <td>1.0</td>\n",
       "      <td>1.0</td>\n",
       "      <td>0.986706</td>\n",
       "    </tr>\n",
       "  </tbody>\n",
       "</table>\n",
       "</div>"
      ],
      "text/plain": [
       "               Train_Accuracy  Test_Accuracy  Train_Precision  Test_Precision  \\\n",
       "Random_Forest             1.0       0.986667              1.0        0.966667   \n",
       "\n",
       "               Train_Recall  Test_Recall  Train_F1-score  Test_F1-score  \n",
       "Random_Forest           1.0          1.0             1.0       0.986706  "
      ]
     },
     "execution_count": 14,
     "metadata": {},
     "output_type": "execute_result"
    }
   ],
   "source": [
    "# Training set performance\n",
    "RF_train_accuracy = accuracy_score(ylr, y_predict_train) # Calculate Accuracy\n",
    "RF_train_precision = precision_score(ylr, y_predict_train) # Calculate Precision\n",
    "RF_train_recall = recall_score(ylr, y_predict_train) # Calculate Recall\n",
    "RF_train_f1 = f1_score(ylr, y_predict_train, average='weighted') # Calculate F1-score\n",
    "\n",
    "# Test set performance\n",
    "RF_test_accuracy = accuracy_score(ytestlr, y_predict_ranfor) # Calculate Accuracy\n",
    "RF_test_precision = precision_score(ytestlr, y_predict_ranfor) # Calculate Precision\n",
    "RF_test_recall = recall_score(ytestlr, y_predict_ranfor) # Calculate Recall\n",
    "RF_test_f1 = f1_score(ytestlr, y_predict_ranfor, average='weighted') # Calculate F1-score\n",
    "\n",
    "\n",
    "\n",
    "#Train Results\n",
    "accuracy_train_list = {'Random_Forest': RF_train_accuracy}\n",
    "precision_train_list = {'Random_Forest': RF_train_precision}\n",
    "recall_train_list = {'Random_Forest': RF_train_recall}\n",
    "f1score_train_list = {'Random_Forest': RF_train_f1}\n",
    "\n",
    "\n",
    "#Test Results\n",
    "accuracy_test_list = {'Random_Forest': RF_test_accuracy}\n",
    "precision_test_list = {'Random_Forest': RF_test_precision}\n",
    "recall_test_list = {'Random_Forest': RF_test_recall}\n",
    "f1score_test_list = {'Random_Forest': RF_test_f1}\n",
    "\n",
    "\n",
    "# Model performance for Training set\n",
    "accuracy_train_df = pd.DataFrame.from_dict(accuracy_train_list, orient='index', columns=['Train_Accuracy'])\n",
    "precision_train_df = pd.DataFrame.from_dict(precision_train_list, orient='index', columns=['Train_Precision'])\n",
    "recall_train_df = pd.DataFrame.from_dict(recall_train_list, orient='index', columns=['Train_Recall'])\n",
    "f1_train_df = pd.DataFrame.from_dict(f1score_train_list, orient='index', columns=['Train_F1-score'])\n",
    "\n",
    "#Model performance for Test set\n",
    "accuracy_test_df = pd.DataFrame.from_dict(accuracy_test_list, orient='index', columns=['Test_Accuracy'])\n",
    "precision_test_df = pd.DataFrame.from_dict(precision_test_list, orient='index', columns=['Test_Precision'])\n",
    "recall_test_df = pd.DataFrame.from_dict(recall_test_list, orient='index', columns=['Test_Recall'])\n",
    "f1_test_df = pd.DataFrame.from_dict(f1score_test_list, orient='index', columns=['Test_F1-score'])\n",
    "RF_df = pd.concat([accuracy_train_df, accuracy_test_df, precision_train_df, precision_test_df, recall_train_df, recall_test_df, f1_train_df, f1_test_df], axis=1)                 \n",
    "RF_df\n",
    "\n"
   ]
  },
  {
   "cell_type": "markdown",
   "id": "f9367504",
   "metadata": {},
   "source": [
    "### 5.7 Light GBM  <a id='5.7_lgbm'></a>"
   ]
  },
  {
   "cell_type": "code",
   "execution_count": 15,
   "id": "b3647076",
   "metadata": {},
   "outputs": [
    {
     "data": {
      "text/plain": [
       "LGBMClassifier()"
      ]
     },
     "execution_count": 15,
     "metadata": {},
     "output_type": "execute_result"
    }
   ],
   "source": [
    "import lightgbm as lgb\n",
    "\n",
    "# Build and fit LightGBM model\n",
    "LGB = lgb.LGBMClassifier()\n",
    "LGB.fit(Xlr, ylr)"
   ]
  },
  {
   "cell_type": "code",
   "execution_count": 16,
   "id": "6fd68e4f",
   "metadata": {},
   "outputs": [],
   "source": [
    "def get_model_accuracy(LGB, Xtestlr, ytestlr):\n",
    "    \"\"\"\n",
    "    Return the mean accuracy of model on X_test and y_test\n",
    "    \"\"\"\n",
    "    LGB_accuracy= LGB.score(Xtestlr, ytestlr)\n",
    "    return LGB_accuracy"
   ]
  },
  {
   "cell_type": "code",
   "execution_count": 17,
   "id": "76cf7bdf",
   "metadata": {},
   "outputs": [
    {
     "name": "stdout",
     "output_type": "stream",
     "text": [
      "LGBM Accuracy: 0.8667\n",
      "\n",
      "              precision    recall  f1-score   support\n",
      "\n",
      "           0       0.87      0.91      0.89        44\n",
      "           1       0.86      0.81      0.83        31\n",
      "\n",
      "    accuracy                           0.87        75\n",
      "   macro avg       0.87      0.86      0.86        75\n",
      "weighted avg       0.87      0.87      0.87        75\n",
      "\n"
     ]
    }
   ],
   "source": [
    "# Accuracy in LGBM model\n",
    "LGB_accuracy = get_model_accuracy(LGB, Xtestlr, ytestlr)\n",
    "print(f'LGBM Accuracy: {LGB_accuracy:.4}')\n",
    "print()\n",
    "\n",
    "# Predict class for X_test\n",
    "y_predict_LGB = LGB.predict(Xtestlr)\n",
    "\n",
    "#Pickle\n",
    "newfilename_pickle = 'cp_predict_model'\n",
    "pickle.dump(LGB,open(newfilename_pickle,'wb'))\n",
    "\n",
    "LGB_cm_test = confusion_matrix(y_predict_LGB, ytestlr)\n",
    "\n",
    "loaded_model = pickle.load(open(newfilename_pickle,'rb'))\n",
    "loaded_model.predict(Xtestlr)\n",
    "y_predict_train = LGB.predict(Xlr)\n",
    "\n",
    "# Classification Report of logistic regression model\n",
    "print(classification_report(y_predict_LGB, ytestlr))"
   ]
  },
  {
   "cell_type": "markdown",
   "id": "dabffdcb",
   "metadata": {},
   "source": [
    "### 5.7.1 LGBM  with GridSearchCV <a id='5.7.1_LGBMGS'></a>"
   ]
  },
  {
   "cell_type": "code",
   "execution_count": 18,
   "id": "fabccea6",
   "metadata": {},
   "outputs": [],
   "source": [
    "def get_best_parameters_GridSearchCV(LGB, params, Xlr, ylr):\n",
    "    LGB = GridSearchCV(LGB, params, cv=5)\n",
    "    LGB.fit(Xlr, ylr)\n",
    "    \n",
    "    best_params = LGB.best_params_\n",
    "    print(f'Best Parameters in {LGB}: {best_params}')\n",
    "    print()\n",
    "    \n",
    "    best_estimator = LGB.best_estimator_\n",
    "    return best_estimator"
   ]
  },
  {
   "cell_type": "code",
   "execution_count": 19,
   "id": "54229add",
   "metadata": {},
   "outputs": [],
   "source": [
    "params_LGB = {'learning_rate': [0.1, 0.01],\n",
    "        'n_estimators': [50, 100, 150],\n",
    "        'max_depth': [4, 6],\n",
    "        'colsample_bytree': [0.7, 0.8, 0.9],\n",
    "        'subsample': [0.7, 0.8, 0.9],\n",
    "        'min_child_samples': [1, 5, 10]}"
   ]
  },
  {
   "cell_type": "code",
   "execution_count": 20,
   "id": "e3619677",
   "metadata": {},
   "outputs": [
    {
     "name": "stdout",
     "output_type": "stream",
     "text": [
      "Best Parameters in GridSearchCV(cv=5, estimator=LGBMClassifier(),\n",
      "             param_grid={'colsample_bytree': [0.7, 0.8, 0.9],\n",
      "                         'learning_rate': [0.1, 0.01], 'max_depth': [4, 6],\n",
      "                         'min_child_samples': [1, 5, 10],\n",
      "                         'n_estimators': [50, 100, 150],\n",
      "                         'subsample': [0.7, 0.8, 0.9]}): {'colsample_bytree': 0.7, 'learning_rate': 0.1, 'max_depth': 4, 'min_child_samples': 1, 'n_estimators': 50, 'subsample': 0.7}\n",
      "\n",
      "LGBM with GridSearchCV Accuracy: 1.0\n",
      "\n",
      "              precision    recall  f1-score   support\n",
      "\n",
      "           0       1.00      1.00      1.00        46\n",
      "           1       1.00      1.00      1.00        29\n",
      "\n",
      "    accuracy                           1.00        75\n",
      "   macro avg       1.00      1.00      1.00        75\n",
      "weighted avg       1.00      1.00      1.00        75\n",
      "\n"
     ]
    }
   ],
   "source": [
    "# Build and fit Random Forest model with the best hyperparameters\n",
    "LGB_gscv = get_best_parameters_GridSearchCV(LGB, params_LGB, Xlr, ylr)\n",
    "LGB_gscv = LGB_gscv.fit(Xlr, ylr)\n",
    "\n",
    "# Accuracy score for rf_gscv\n",
    "LGB_gscv_accuracy = get_model_accuracy(LGB_gscv, Xtestlr, ytestlr)\n",
    "print(f'LGBM with GridSearchCV Accuracy: {LGB_gscv_accuracy:.4}')\n",
    "print()\n",
    "\n",
    "# Make prediction on test dataset\n",
    "y_predict_LGB_gscv = LGB_gscv.predict(Xtestlr)\n",
    "\n",
    "#Pickle\n",
    "newfilename_pickle = 'cp_predict_model'\n",
    "pickle.dump(logreg,open(newfilename_pickle,'wb'))\n",
    "\n",
    "LGB_cm_test = confusion_matrix(y_predict_LGB_gscv, ytestlr)\n",
    "\n",
    "loaded_model = pickle.load(open(newfilename_pickle,'rb'))\n",
    "loaded_model.predict(Xtestlr)\n",
    "y_predict_train = LGB.predict(Xlr)\n",
    "\n",
    "# Classification Report of grid_rf_model\n",
    "print(classification_report(y_predict_LGB_gscv, ytestlr))"
   ]
  },
  {
   "cell_type": "markdown",
   "id": "8451b622",
   "metadata": {},
   "source": [
    "### 5.7.2 LGBM Table  <a id='5.7.2_LGBMTB'></a>"
   ]
  },
  {
   "cell_type": "code",
   "execution_count": 21,
   "id": "45ebeb1b",
   "metadata": {},
   "outputs": [
    {
     "data": {
      "text/html": [
       "<div>\n",
       "<style scoped>\n",
       "    .dataframe tbody tr th:only-of-type {\n",
       "        vertical-align: middle;\n",
       "    }\n",
       "\n",
       "    .dataframe tbody tr th {\n",
       "        vertical-align: top;\n",
       "    }\n",
       "\n",
       "    .dataframe thead th {\n",
       "        text-align: right;\n",
       "    }\n",
       "</style>\n",
       "<table border=\"1\" class=\"dataframe\">\n",
       "  <thead>\n",
       "    <tr style=\"text-align: right;\">\n",
       "      <th></th>\n",
       "      <th>Train_Accuracy</th>\n",
       "      <th>Test_Accuracy</th>\n",
       "      <th>Train_Precision</th>\n",
       "      <th>Test_Precision</th>\n",
       "      <th>Train_Recall</th>\n",
       "      <th>Test_Recall</th>\n",
       "      <th>Train_F1-score</th>\n",
       "      <th>Test_F1-score</th>\n",
       "    </tr>\n",
       "  </thead>\n",
       "  <tbody>\n",
       "    <tr>\n",
       "      <th>LGBM</th>\n",
       "      <td>0.995495</td>\n",
       "      <td>0.96</td>\n",
       "      <td>0.988506</td>\n",
       "      <td>0.90625</td>\n",
       "      <td>1.0</td>\n",
       "      <td>1.0</td>\n",
       "      <td>0.9955</td>\n",
       "      <td>0.960309</td>\n",
       "    </tr>\n",
       "  </tbody>\n",
       "</table>\n",
       "</div>"
      ],
      "text/plain": [
       "      Train_Accuracy  Test_Accuracy  Train_Precision  Test_Precision  \\\n",
       "LGBM        0.995495           0.96         0.988506         0.90625   \n",
       "\n",
       "      Train_Recall  Test_Recall  Train_F1-score  Test_F1-score  \n",
       "LGBM           1.0          1.0          0.9955       0.960309  "
      ]
     },
     "execution_count": 21,
     "metadata": {},
     "output_type": "execute_result"
    }
   ],
   "source": [
    "# Training set performance\n",
    "LGB_train_accuracy = accuracy_score(ylr, y_predict_train) # Calculate Accuracy\n",
    "LGB_train_precision = precision_score(ylr, y_predict_train) # Calculate Precision\n",
    "LGB_train_recall = recall_score(ylr, y_predict_train) # Calculate Recall\n",
    "LGB_train_f1 = f1_score(ylr, y_predict_train, average='weighted') # Calculate F1-score\n",
    "\n",
    "# Test set performance\n",
    "LGB_test_accuracy = accuracy_score(ytestlr, y_predict_LGB) # Calculate Accuracy\n",
    "LGB_test_precision = precision_score(ytestlr, y_predict_LGB) # Calculate Precision\n",
    "LGB_test_recall = recall_score(ytestlr, y_predict_LGB) # Calculate Recall\n",
    "LGB_test_f1 = f1_score(ytestlr, y_predict_LGB, average='weighted') # Calculate F1-score\n",
    "\n",
    "\n",
    "\n",
    "#Train Results\n",
    "accuracy_train_list = {'LGBM': LR_train_accuracy}\n",
    "precision_train_list = {'LGBM': LR_train_precision}\n",
    "recall_train_list = {'LGBM': LR_train_recall}\n",
    "f1score_train_list = {'LGBM': LR_train_f1}\n",
    "\n",
    "\n",
    "#Test Results\n",
    "accuracy_test_list = {'LGBM': LR_test_accuracy}\n",
    "precision_test_list = {'LGBM': LR_test_precision}\n",
    "recall_test_list = {'LGBM': LR_test_recall}\n",
    "f1score_test_list = {'LGBM': LR_test_f1}\n",
    "\n",
    "\n",
    "# Model performance for Training set\n",
    "accuracy_train_df = pd.DataFrame.from_dict(accuracy_train_list, orient='index', columns=['Train_Accuracy'])\n",
    "precision_train_df = pd.DataFrame.from_dict(precision_train_list, orient='index', columns=['Train_Precision'])\n",
    "recall_train_df = pd.DataFrame.from_dict(recall_train_list, orient='index', columns=['Train_Recall'])\n",
    "f1_train_df = pd.DataFrame.from_dict(f1score_train_list, orient='index', columns=['Train_F1-score'])\n",
    "\n",
    "#Model performance for Test set\n",
    "accuracy_test_df = pd.DataFrame.from_dict(accuracy_test_list, orient='index', columns=['Test_Accuracy'])\n",
    "precision_test_df = pd.DataFrame.from_dict(precision_test_list, orient='index', columns=['Test_Precision'])\n",
    "recall_test_df = pd.DataFrame.from_dict(recall_test_list, orient='index', columns=['Test_Recall'])\n",
    "f1_test_df = pd.DataFrame.from_dict(f1score_test_list, orient='index', columns=['Test_F1-score'])\n",
    "LGB_df = pd.concat([accuracy_train_df, accuracy_test_df, precision_train_df, precision_test_df, recall_train_df, recall_test_df, f1_train_df, f1_test_df], axis=1)                 \n",
    "LGB_df\n",
    "\n"
   ]
  },
  {
   "cell_type": "markdown",
   "id": "7a20188b",
   "metadata": {},
   "source": [
    "#### 5.8 XGBoost  <a id='5.8_xgboost'></a>"
   ]
  },
  {
   "cell_type": "code",
   "execution_count": 22,
   "id": "176704ef",
   "metadata": {},
   "outputs": [
    {
     "name": "stdout",
     "output_type": "stream",
     "text": [
      "XGBoost Classifier Accuracy: 1.0\n",
      "\n",
      "              precision    recall  f1-score   support\n",
      "\n",
      "           0       1.00      1.00      1.00        46\n",
      "           1       1.00      1.00      1.00        29\n",
      "\n",
      "    accuracy                           1.00        75\n",
      "   macro avg       1.00      1.00      1.00        75\n",
      "weighted avg       1.00      1.00      1.00        75\n",
      "\n"
     ]
    }
   ],
   "source": [
    "# Build and fit XGBoost model\n",
    "xgboost = XGBClassifier(eval_metric='error')\n",
    "xgboost = xgboost.fit(Xlr, ylr)\n",
    "\n",
    "# Accuracy score for xgb_model\n",
    "xgboost_accuracy = get_model_accuracy(xgboost, Xtestlr, ytestlr)\n",
    "print(f'XGBoost Classifier Accuracy: {xgboost_accuracy:.4}')\n",
    "print()\n",
    "\n",
    "\n",
    "# Predict class for X_test\n",
    "y_predict_xgboost = xgboost.predict(Xtestlr)\n",
    "\n",
    "#Pickle\n",
    "newfilename_pickle = 'cp_predict_model'\n",
    "pickle.dump(xgboost,open(newfilename_pickle,'wb'))\n",
    "\n",
    "xgboost_cm_test = confusion_matrix(y_predict_xgboost, ytestlr)\n",
    "\n",
    "loaded_model = pickle.load(open(newfilename_pickle,'rb'))\n",
    "loaded_model.predict(Xtestlr)\n",
    "y_predict_train = xgboost.predict(Xlr)\n",
    "\n",
    "# Classification Report of xgb_model\n",
    "print(classification_report(y_predict_xgboost, ytestlr))"
   ]
  },
  {
   "cell_type": "code",
   "execution_count": 23,
   "id": "f5ad14bd",
   "metadata": {},
   "outputs": [],
   "source": [
    "def get_model_accuracy(xgboost, Xtestlr, ytestlr):\n",
    "    \"\"\"\n",
    "    Return the mean accuracy of model on X_test and y_test\n",
    "    \"\"\"\n",
    "    xgboost_accuracy= xgboost.score(Xtestlr, ytestlr)\n",
    "    return xgboost_accuracy"
   ]
  },
  {
   "cell_type": "markdown",
   "id": "ed77dc63",
   "metadata": {},
   "source": [
    "### 5.8.1 XGBoost  with GridSearchCV <a id='5.8.1_xgBoostGS'></a>"
   ]
  },
  {
   "cell_type": "code",
   "execution_count": 24,
   "id": "09433e47",
   "metadata": {},
   "outputs": [],
   "source": [
    "def get_best_parameters_GridSearchCV(xgboost, params, Xlr, ylr):\n",
    "    xgboost = GridSearchCV(xgboost, params, cv=5)\n",
    "    xgboost.fit(Xlr, ylr)\n",
    "    \n",
    "    best_params = xgboost.best_params_\n",
    "    print(f'Best Parameters in {xgboost}: {best_params}')\n",
    "    print()\n",
    "    \n",
    "    best_estimator = xgboost.best_estimator_\n",
    "    return best_estimator"
   ]
  },
  {
   "cell_type": "code",
   "execution_count": 25,
   "id": "8897a53e",
   "metadata": {},
   "outputs": [],
   "source": [
    "params_xgboost = {'learning_rate': [4, 5, 6], \n",
    "              'max_depth': [4, 5, 6],\n",
    "              'min_child_weight': [4, 5, 6],\n",
    "              'colsample_bytree': [0.5, 0.6, 0.7, 0.8, 0.9, 1],\n",
    "              'eval_metric': ['error']}"
   ]
  },
  {
   "cell_type": "code",
   "execution_count": 26,
   "id": "f904e495",
   "metadata": {},
   "outputs": [
    {
     "name": "stdout",
     "output_type": "stream",
     "text": [
      "Best Parameters in GridSearchCV(cv=5,\n",
      "             estimator=XGBClassifier(base_score=0.5, booster='gbtree',\n",
      "                                     colsample_bylevel=1, colsample_bynode=1,\n",
      "                                     colsample_bytree=1,\n",
      "                                     enable_categorical=False,\n",
      "                                     eval_metric='error', gamma=0, gpu_id=-1,\n",
      "                                     importance_type=None,\n",
      "                                     interaction_constraints='',\n",
      "                                     learning_rate=0.300000012,\n",
      "                                     max_delta_step=0, max_depth=6,\n",
      "                                     min_child_weight=1, missing=nan,\n",
      "                                     monotone_constraints='()',\n",
      "                                     n_estimators=100, n_jobs=8,\n",
      "                                     num_parallel_tree=1, predictor='auto',\n",
      "                                     random_state=0, reg_alpha=0, reg_lambda=1,\n",
      "                                     scale_pos_weight=1, subsample=1,\n",
      "                                     tree_method='exact', validate_parameters=1,\n",
      "                                     verbosity=None),\n",
      "             param_grid={'colsample_bytree': [0.5, 0.6, 0.7, 0.8, 0.9, 1],\n",
      "                         'eval_metric': ['error'], 'learning_rate': [4, 5, 6],\n",
      "                         'max_depth': [4, 5, 6],\n",
      "                         'min_child_weight': [4, 5, 6]}): {'colsample_bytree': 0.5, 'eval_metric': 'error', 'learning_rate': 4, 'max_depth': 4, 'min_child_weight': 4}\n",
      "\n",
      "XGBoost Classifier with GridSerchCV Accuracy: 0.92\n",
      "\n",
      "              precision    recall  f1-score   support\n",
      "\n",
      "           0       0.87      1.00      0.93        40\n",
      "           1       1.00      0.83      0.91        35\n",
      "\n",
      "    accuracy                           0.92        75\n",
      "   macro avg       0.93      0.91      0.92        75\n",
      "weighted avg       0.93      0.92      0.92        75\n",
      "\n"
     ]
    }
   ],
   "source": [
    "# Build and fit XGBoost Classifier model with the best parameters\n",
    "xgboost_gscv = get_best_parameters_GridSearchCV(xgboost, params_xgboost, Xlr, ylr)\n",
    "xgboost_gscv = xgboost_gscv.fit(Xlr, ylr)\n",
    "\n",
    "# Accuracy score for xgb_gscv\n",
    "xgboost_gscv_accuracy = get_model_accuracy(xgboost_gscv, Xtestlr, ytestlr)\n",
    "print(f'XGBoost Classifier with GridSerchCV Accuracy: {xgboost_gscv_accuracy:.4}')\n",
    "print()\n",
    "\n",
    "# Predict class for X_test\n",
    "y_predict_xgboost_gscv = xgboost_gscv.predict(Xtestlr)\n",
    "\n",
    "# Classification Report of xgb_cv\n",
    "print(classification_report(y_predict_xgboost_gscv, ytestlr))"
   ]
  },
  {
   "cell_type": "markdown",
   "id": "f899adab",
   "metadata": {},
   "source": [
    "### 5.8.2 XGBoost Table  <a id='5.8.2_xgBoostTB'></a>"
   ]
  },
  {
   "cell_type": "code",
   "execution_count": 27,
   "id": "9e15e0d4",
   "metadata": {},
   "outputs": [
    {
     "data": {
      "text/html": [
       "<div>\n",
       "<style scoped>\n",
       "    .dataframe tbody tr th:only-of-type {\n",
       "        vertical-align: middle;\n",
       "    }\n",
       "\n",
       "    .dataframe tbody tr th {\n",
       "        vertical-align: top;\n",
       "    }\n",
       "\n",
       "    .dataframe thead th {\n",
       "        text-align: right;\n",
       "    }\n",
       "</style>\n",
       "<table border=\"1\" class=\"dataframe\">\n",
       "  <thead>\n",
       "    <tr style=\"text-align: right;\">\n",
       "      <th></th>\n",
       "      <th>Train_Accuracy</th>\n",
       "      <th>Test_Accuracy</th>\n",
       "      <th>Train_Precision</th>\n",
       "      <th>Test_Precision</th>\n",
       "      <th>Train_Recall</th>\n",
       "      <th>Test_Recall</th>\n",
       "      <th>Train_F1-score</th>\n",
       "      <th>Test_F1-score</th>\n",
       "    </tr>\n",
       "  </thead>\n",
       "  <tbody>\n",
       "    <tr>\n",
       "      <th>XGBoost</th>\n",
       "      <td>0.995495</td>\n",
       "      <td>0.96</td>\n",
       "      <td>0.988506</td>\n",
       "      <td>0.90625</td>\n",
       "      <td>1.0</td>\n",
       "      <td>1.0</td>\n",
       "      <td>0.9955</td>\n",
       "      <td>0.960309</td>\n",
       "    </tr>\n",
       "  </tbody>\n",
       "</table>\n",
       "</div>"
      ],
      "text/plain": [
       "         Train_Accuracy  Test_Accuracy  Train_Precision  Test_Precision  \\\n",
       "XGBoost        0.995495           0.96         0.988506         0.90625   \n",
       "\n",
       "         Train_Recall  Test_Recall  Train_F1-score  Test_F1-score  \n",
       "XGBoost           1.0          1.0          0.9955       0.960309  "
      ]
     },
     "execution_count": 27,
     "metadata": {},
     "output_type": "execute_result"
    }
   ],
   "source": [
    "# Training set performance\n",
    "xgboost_train_accuracy = accuracy_score(ylr, y_predict_train) # Calculate Accuracy\n",
    "xgboost_train_precision = precision_score(ylr, y_predict_train) # Calculate Precision\n",
    "xgboost_train_recall = recall_score(ylr, y_predict_train) # Calculate Recall\n",
    "xgboost_train_f1 = f1_score(ylr, y_predict_train, average='weighted') # Calculate F1-score\n",
    "\n",
    "# Test set performance\n",
    "xgboost_test_accuracy = accuracy_score(ytestlr, y_predict_xgboost_gscv) # Calculate Accuracy\n",
    "xgboost_test_precision = precision_score(ytestlr, y_predict_xgboost_gscv) # Calculate Precision\n",
    "xgboost_test_recall = recall_score(ytestlr, y_predict_xgboost_gscv) # Calculate Recall\n",
    "xgboost_test_f1 = f1_score(ytestlr, y_predict_xgboost_gscv, average='weighted') # Calculate F1-score\n",
    "\n",
    "\n",
    "\n",
    "#Train Results\n",
    "accuracy_train_list = {'XGBoost': LR_train_accuracy}\n",
    "precision_train_list = {'XGBoost': LR_train_precision}\n",
    "recall_train_list = {'XGBoost': LR_train_recall}\n",
    "f1score_train_list = {'XGBoost': LR_train_f1}\n",
    "\n",
    "\n",
    "#Test Results\n",
    "accuracy_test_list = {'XGBoost': LR_test_accuracy}\n",
    "precision_test_list = {'XGBoost': LR_test_precision}\n",
    "recall_test_list = {'XGBoost': LR_test_recall}\n",
    "f1score_test_list = {'XGBoost': LR_test_f1}\n",
    "\n",
    "\n",
    "# Model performance for Training set\n",
    "accuracy_train_df = pd.DataFrame.from_dict(accuracy_train_list, orient='index', columns=['Train_Accuracy'])\n",
    "precision_train_df = pd.DataFrame.from_dict(precision_train_list, orient='index', columns=['Train_Precision'])\n",
    "recall_train_df = pd.DataFrame.from_dict(recall_train_list, orient='index', columns=['Train_Recall'])\n",
    "f1_train_df = pd.DataFrame.from_dict(f1score_train_list, orient='index', columns=['Train_F1-score'])\n",
    "\n",
    "#Model performance for Test set\n",
    "accuracy_test_df = pd.DataFrame.from_dict(accuracy_test_list, orient='index', columns=['Test_Accuracy'])\n",
    "precision_test_df = pd.DataFrame.from_dict(precision_test_list, orient='index', columns=['Test_Precision'])\n",
    "recall_test_df = pd.DataFrame.from_dict(recall_test_list, orient='index', columns=['Test_Recall'])\n",
    "f1_test_df = pd.DataFrame.from_dict(f1score_test_list, orient='index', columns=['Test_F1-score'])\n",
    "xgboost_df = pd.concat([accuracy_train_df, accuracy_test_df, precision_train_df, precision_test_df, recall_train_df, recall_test_df, f1_train_df, f1_test_df], axis=1)                 \n",
    "xgboost_df\n",
    "\n"
   ]
  },
  {
   "cell_type": "markdown",
   "id": "e5e4cb57",
   "metadata": {},
   "source": [
    "### 5.9 Decision Tree  <a id='5.9_Decision_Tree'></a>"
   ]
  },
  {
   "cell_type": "code",
   "execution_count": 28,
   "id": "dc02924b",
   "metadata": {},
   "outputs": [
    {
     "name": "stdout",
     "output_type": "stream",
     "text": [
      "Decision Tree Accuracy: 1.0\n",
      "\n",
      "              precision    recall  f1-score   support\n",
      "\n",
      "           0       1.00      1.00      1.00        46\n",
      "           1       1.00      1.00      1.00        29\n",
      "\n",
      "    accuracy                           1.00        75\n",
      "   macro avg       1.00      1.00      1.00        75\n",
      "weighted avg       1.00      1.00      1.00        75\n",
      "\n"
     ]
    }
   ],
   "source": [
    "# Build and fit Decision Tree model\n",
    "dt = DecisionTreeClassifier()\n",
    "dt = dt.fit(Xlr, ylr)\n",
    "\n",
    "# Accuracy score for Random Forest\n",
    "dt_accuracy = get_model_accuracy(dt, Xtestlr, ytestlr)\n",
    "print(f'Decision Tree Accuracy: {dt_accuracy:.4}')\n",
    "print()\n",
    "\n",
    "# Predict class for X_test\n",
    "y_predict_dt= dt.predict(Xtestlr)\n",
    "\n",
    "#Pickle\n",
    "newfilename_pickle = 'cp_predict_model'\n",
    "pickle.dump(dt,open(newfilename_pickle,'wb'))\n",
    "\n",
    "dt_cm_test = confusion_matrix(y_predict_dt, ytestlr)\n",
    "\n",
    "loaded_model = pickle.load(open(newfilename_pickle,'rb'))\n",
    "loaded_model.predict(Xtestlr)\n",
    "y_predict_train = dt.predict(Xlr)\n",
    "\n",
    "# Classification Report of Random Forest model\n",
    "print(classification_report(y_predict_dt, ytestlr))"
   ]
  },
  {
   "cell_type": "markdown",
   "id": "bcd8415a",
   "metadata": {},
   "source": [
    "### 5.9.1 Decision Tree Model with GridSearchCV  <a id='5.9.1_DtreeGS'></a>"
   ]
  },
  {
   "cell_type": "code",
   "execution_count": 29,
   "id": "40862258",
   "metadata": {},
   "outputs": [],
   "source": [
    "def get_best_parameters_GridSearchCV(dt, params, Xlr, ylr):\n",
    "    dt = GridSearchCV(dt, params, cv=5)\n",
    "    dt.fit(Xlr, ylr)\n",
    "    \n",
    "    best_params = dt.best_params_\n",
    "    print(f'Best Parameters in {dt}: {best_params}')\n",
    "    print()\n",
    "    \n",
    "    best_estimator = dt.best_estimator_\n",
    "    return best_estimator"
   ]
  },
  {
   "cell_type": "code",
   "execution_count": 30,
   "id": "cc48a1e9",
   "metadata": {},
   "outputs": [],
   "source": [
    "params_dt = {'max_depth': [2, 3, 5],\n",
    "            'min_samples_leaf': [5, 10, 20],\n",
    "            'criterion': [\"gini\", \"entropy\"]}"
   ]
  },
  {
   "cell_type": "code",
   "execution_count": 31,
   "id": "d5de9fc8",
   "metadata": {},
   "outputs": [
    {
     "name": "stdout",
     "output_type": "stream",
     "text": [
      "Best Parameters in GridSearchCV(cv=5, estimator=DecisionTreeClassifier(),\n",
      "             param_grid={'criterion': ['gini', 'entropy'],\n",
      "                         'max_depth': [2, 3, 5],\n",
      "                         'min_samples_leaf': [5, 10, 20]}): {'criterion': 'gini', 'max_depth': 2, 'min_samples_leaf': 5}\n",
      "\n",
      "Decision Tree with GridSerchCV Accuracy: 1.0\n",
      "\n",
      "              precision    recall  f1-score   support\n",
      "\n",
      "           0       1.00      1.00      1.00        46\n",
      "           1       1.00      1.00      1.00        29\n",
      "\n",
      "    accuracy                           1.00        75\n",
      "   macro avg       1.00      1.00      1.00        75\n",
      "weighted avg       1.00      1.00      1.00        75\n",
      "\n"
     ]
    }
   ],
   "source": [
    "# Build and fit Decision Tree model with the best parameters\n",
    "dt_gscv = get_best_parameters_GridSearchCV(dt, params_dt, Xlr, ylr)\n",
    "dt_gscv = dt_gscv.fit(Xlr, ylr)\n",
    "\n",
    "# Accuracy test score for svm_gscv\n",
    "dt_gscv_acc = get_model_accuracy(dt_gscv, Xtestlr, ytestlr)\n",
    "print(f'Decision Tree with GridSerchCV Accuracy: {dt_gscv_acc:.4}')\n",
    "print()\n",
    "\n",
    "# Predict class for X_test\n",
    "y_pred_dt_gscv = dt_gscv.predict(Xtestlr)\n",
    "\n",
    "# Classification Report of svm_gscv\n",
    "print(classification_report(y_pred_dt_gscv, ytestlr))\n"
   ]
  },
  {
   "cell_type": "markdown",
   "id": "2d1dc809",
   "metadata": {},
   "source": [
    "### 5.9.2 Decision Tree Table  <a id='5.9.2_DTreeTB'></a>"
   ]
  },
  {
   "cell_type": "code",
   "execution_count": 32,
   "id": "5228d50e",
   "metadata": {},
   "outputs": [
    {
     "data": {
      "text/html": [
       "<div>\n",
       "<style scoped>\n",
       "    .dataframe tbody tr th:only-of-type {\n",
       "        vertical-align: middle;\n",
       "    }\n",
       "\n",
       "    .dataframe tbody tr th {\n",
       "        vertical-align: top;\n",
       "    }\n",
       "\n",
       "    .dataframe thead th {\n",
       "        text-align: right;\n",
       "    }\n",
       "</style>\n",
       "<table border=\"1\" class=\"dataframe\">\n",
       "  <thead>\n",
       "    <tr style=\"text-align: right;\">\n",
       "      <th></th>\n",
       "      <th>Train_Accuracy</th>\n",
       "      <th>Test_Accuracy</th>\n",
       "      <th>Train_Precision</th>\n",
       "      <th>Test_Precision</th>\n",
       "      <th>Train_Recall</th>\n",
       "      <th>Test_Recall</th>\n",
       "      <th>Train_F1-score</th>\n",
       "      <th>Test_F1-score</th>\n",
       "    </tr>\n",
       "  </thead>\n",
       "  <tbody>\n",
       "    <tr>\n",
       "      <th>Decision_Tree</th>\n",
       "      <td>1.0</td>\n",
       "      <td>1.0</td>\n",
       "      <td>1.0</td>\n",
       "      <td>1.0</td>\n",
       "      <td>1.0</td>\n",
       "      <td>1.0</td>\n",
       "      <td>1.0</td>\n",
       "      <td>1.0</td>\n",
       "    </tr>\n",
       "  </tbody>\n",
       "</table>\n",
       "</div>"
      ],
      "text/plain": [
       "               Train_Accuracy  Test_Accuracy  Train_Precision  Test_Precision  \\\n",
       "Decision_Tree             1.0            1.0              1.0             1.0   \n",
       "\n",
       "               Train_Recall  Test_Recall  Train_F1-score  Test_F1-score  \n",
       "Decision_Tree           1.0          1.0             1.0            1.0  "
      ]
     },
     "execution_count": 32,
     "metadata": {},
     "output_type": "execute_result"
    }
   ],
   "source": [
    "# Training set performance\n",
    "DT_train_accuracy = accuracy_score(ylr, y_predict_train) # Calculate Accuracy\n",
    "DT_train_precision = precision_score(ylr, y_predict_train) # Calculate Precision\n",
    "DT_train_recall = recall_score(ylr, y_predict_train) # Calculate Recall\n",
    "DT_train_f1 = f1_score(ylr, y_predict_train, average='weighted') # Calculate F1-score\n",
    "\n",
    "# Test set performance\n",
    "DT_test_accuracy = accuracy_score(ytestlr, y_pred_dt_gscv) # Calculate Accuracy\n",
    "DT_test_precision = precision_score(ytestlr, y_pred_dt_gscv) # Calculate Precision\n",
    "DT_test_recall = recall_score(ytestlr, y_pred_dt_gscv) # Calculate Recall\n",
    "DT_test_f1 = f1_score(ytestlr, y_pred_dt_gscv, average='weighted') # Calculate F1-score\n",
    "\n",
    "\n",
    "\n",
    "#Train Results\n",
    "accuracy_train_list = {'Decision_Tree': DT_train_accuracy}\n",
    "precision_train_list = {'Decision_Tree': DT_train_precision}\n",
    "recall_train_list = {'Decision_Tree': DT_train_recall}\n",
    "f1score_train_list = {'Decision_Tree': DT_train_f1}\n",
    "\n",
    "\n",
    "#Test Results\n",
    "accuracy_test_list = {'Decision_Tree': DT_test_accuracy}\n",
    "precision_test_list = {'Decision_Tree': DT_test_precision}\n",
    "recall_test_list = {'Decision_Tree': DT_test_recall}\n",
    "f1score_test_list = {'Decision_Tree': DT_test_f1}\n",
    "\n",
    "\n",
    "# Model performance for Training set\n",
    "accuracy_train_df = pd.DataFrame.from_dict(accuracy_train_list, orient='index', columns=['Train_Accuracy'])\n",
    "precision_train_df = pd.DataFrame.from_dict(precision_train_list, orient='index', columns=['Train_Precision'])\n",
    "recall_train_df = pd.DataFrame.from_dict(recall_train_list, orient='index', columns=['Train_Recall'])\n",
    "f1_train_df = pd.DataFrame.from_dict(f1score_train_list, orient='index', columns=['Train_F1-score'])\n",
    "\n",
    "#Model performance for Test set\n",
    "accuracy_test_df = pd.DataFrame.from_dict(accuracy_test_list, orient='index', columns=['Test_Accuracy'])\n",
    "precision_test_df = pd.DataFrame.from_dict(precision_test_list, orient='index', columns=['Test_Precision'])\n",
    "recall_test_df = pd.DataFrame.from_dict(recall_test_list, orient='index', columns=['Test_Recall'])\n",
    "f1_test_df = pd.DataFrame.from_dict(f1score_test_list, orient='index', columns=['Test_F1-score'])\n",
    "\n",
    "DT_df = pd.concat([accuracy_train_df, accuracy_test_df, precision_train_df, precision_test_df, recall_train_df, recall_test_df, f1_train_df, f1_test_df], axis=1)                 \n",
    "DT_df\n",
    "\n"
   ]
  },
  {
   "cell_type": "markdown",
   "id": "a705d780",
   "metadata": {},
   "source": [
    "### 5.10 Confusion Matrix  <a id='5.10_ConfusionMatrix'></a>"
   ]
  },
  {
   "cell_type": "code",
   "execution_count": 33,
   "id": "56824b81",
   "metadata": {},
   "outputs": [],
   "source": [
    "def plot_confusion_matrix(ytestlr, y_predict, color, title):\n",
    "    \"\"\"\n",
    "    Confusion matrix to evaluate the accuracy of Models\n",
    "    \"\"\"\n",
    "    cm = confusion_matrix(ytestlr, y_predict)\n",
    "    sns.heatmap(cm, annot=True, fmt='d', cmap=color)\n",
    "    plt.title(title)\n",
    "    plt.xlabel('Predicted', fontsize=15)\n",
    "    plt.ylabel('Actual', fontsize=15)\n",
    "    plt.tight_layout()\n",
    "    plt.show()\n",
    "    "
   ]
  },
  {
   "cell_type": "markdown",
   "id": "62bea7f7",
   "metadata": {},
   "source": [
    "#### 5.10.1 Logistic Regression <a id='5.10.1_ogisticRegressionCM'></a>"
   ]
  },
  {
   "cell_type": "code",
   "execution_count": 34,
   "id": "8ec50228",
   "metadata": {},
   "outputs": [
    {
     "data": {
      "image/png": "[encoded data removed]",
      "text/plain": [
       "<Figure size 432x288 with 2 Axes>"
      ]
     },
     "metadata": {},
     "output_type": "display_data"
    },
    {
     "data": {
      "image/png": "[encoded data removed]",
      "text/plain": [
       "<Figure size 432x288 with 2 Axes>"
      ]
     },
     "metadata": {},
     "output_type": "display_data"
    }
   ],
   "source": [
    "title = 'Confusion Matrix of Logistic Regression'\n",
    "plot_confusion_matrix(ytestlr, y_predict_logreg, 'Blues', title);\n",
    "\n",
    "# Logistic Regression with GridSearchCV\n",
    "title = 'Confusion Matrix of Logistic Regression with GridSearchCV'\n",
    "plot_confusion_matrix(ytestlr, y_predict_logreg_gscv, 'Greens', title)"
   ]
  },
  {
   "cell_type": "markdown",
   "id": "02876877",
   "metadata": {},
   "source": [
    "#### 5.10.2 Random Forest <a id='5.10.2_RandomForestCM'></a>"
   ]
  },
  {
   "cell_type": "code",
   "execution_count": 35,
   "id": "9281511b",
   "metadata": {},
   "outputs": [
    {
     "data": {
      "image/png": "[encoded data removed]",
      "text/plain": [
       "<Figure size 432x288 with 2 Axes>"
      ]
     },
     "metadata": {},
     "output_type": "display_data"
    },
    {
     "data": {
      "image/png": "[encoded data removed]",
      "text/plain": [
       "<Figure size 432x288 with 2 Axes>"
      ]
     },
     "metadata": {},
     "output_type": "display_data"
    }
   ],
   "source": [
    "title = 'Confusion Matrix of Random Forest'\n",
    "plot_confusion_matrix(ytestlr, y_predict_ranfor, 'Blues', title);\n",
    "\n",
    "# Random Forest with hyperparameter tuning\n",
    "title = 'Confusion Matrix of Random Forest with GridSearchCV'\n",
    "plot_confusion_matrix(ytestlr, y_predict_ranfor_gscv, 'Greens', title)\n"
   ]
  },
  {
   "cell_type": "markdown",
   "id": "4209b588",
   "metadata": {},
   "source": [
    "#### 5.10.3 LGBM Classifier  <a id='5.10.3_LGBMCM'></a>"
   ]
  },
  {
   "cell_type": "code",
   "execution_count": 36,
   "id": "ba520cbe",
   "metadata": {},
   "outputs": [
    {
     "data": {
      "image/png": "[encoded data removed]",
      "text/plain": [
       "<Figure size 432x288 with 2 Axes>"
      ]
     },
     "metadata": {},
     "output_type": "display_data"
    },
    {
     "data": {
      "image/png": "[encoded data removed]",
      "text/plain": [
       "<Figure size 432x288 with 2 Axes>"
      ]
     },
     "metadata": {},
     "output_type": "display_data"
    }
   ],
   "source": [
    "title = 'Confusion Matrix of LGBM Classifier'\n",
    "plot_confusion_matrix(ytestlr, y_predict_LGB, 'Blues', title);\n",
    "\n",
    "# XGBoost Classifier with hyperparameter tuning\n",
    "title = 'Confusion Matrix of LGBM Model with GridSearchCV'\n",
    "plot_confusion_matrix(ytestlr, y_predict_LGB_gscv, 'Greens', title)"
   ]
  },
  {
   "cell_type": "markdown",
   "id": "10d43952",
   "metadata": {},
   "source": [
    "#### 5.10.4 XGBoost Classifier  <a id='5.10.4_xgBoostCM5'></a>"
   ]
  },
  {
   "cell_type": "code",
   "execution_count": 37,
   "id": "8555da73",
   "metadata": {},
   "outputs": [
    {
     "data": {
      "image/png": "[encoded data removed]",
      "text/plain": [
       "<Figure size 432x288 with 2 Axes>"
      ]
     },
     "metadata": {},
     "output_type": "display_data"
    },
    {
     "data": {
      "image/png": "[encoded data removed]",
      "text/plain": [
       "<Figure size 432x288 with 2 Axes>"
      ]
     },
     "metadata": {},
     "output_type": "display_data"
    }
   ],
   "source": [
    "title = 'Confusion Matrix of XGBoost Classifier'\n",
    "plot_confusion_matrix(ytestlr, y_predict_xgboost, 'Blues', title);\n",
    "\n",
    "# XGBoost Classifier with hyperparameter tuning\n",
    "title = 'Confusion Matrix of XGBoost Model with GridSearchCV'\n",
    "plot_confusion_matrix(ytestlr, y_predict_xgboost_gscv, 'Greens', title)"
   ]
  },
  {
   "cell_type": "markdown",
   "id": "bf2b3335",
   "metadata": {},
   "source": [
    "#### 5.10.5 Decision Tree Classifier  <a id='5.10.5_DtreeCM'></a>"
   ]
  },
  {
   "cell_type": "code",
   "execution_count": 38,
   "id": "2c0251d9",
   "metadata": {},
   "outputs": [
    {
     "data": {
      "image/png": "[encoded data removed]",
      "text/plain": [
       "<Figure size 432x288 with 2 Axes>"
      ]
     },
     "metadata": {},
     "output_type": "display_data"
    },
    {
     "data": {
      "image/png": "[encoded data removed]",
      "text/plain": [
       "<Figure size 432x288 with 2 Axes>"
      ]
     },
     "metadata": {},
     "output_type": "display_data"
    }
   ],
   "source": [
    "title = 'Confusion Matrix of Decision Tree Classifier'\n",
    "plot_confusion_matrix(ytestlr, y_predict_dt, 'Blues', title);\n",
    "\n",
    "# XGBoost Classifier with hyperparameter tuning\n",
    "title = 'Confusion Matrix of Decision Tree Model with GridSearchCV'\n",
    "plot_confusion_matrix(ytestlr, y_pred_dt_gscv, 'Greens', title)"
   ]
  },
  {
   "cell_type": "markdown",
   "id": "df223823",
   "metadata": {},
   "source": [
    "### 5. 11 Model Comparison¶  <a id='5.11_ModelComoparision'></a>"
   ]
  },
  {
   "cell_type": "code",
   "execution_count": 43,
   "id": "a3953539",
   "metadata": {},
   "outputs": [
    {
     "name": "stdout",
     "output_type": "stream",
     "text": [
      "                model   Default  with GridSearchCV\n",
      "0  LogisticRegression  0.960000               0.96\n",
      "1        RandomForest  0.960000               0.96\n",
      "2                LGBM  0.866667               1.00\n",
      "3       XGBClassifier  1.000000               0.92\n",
      "4       Decision Tree  1.000000               1.00\n"
     ]
    },
    {
     "data": {
      "application/vnd.plotly.v1+json": {
       "config": {
        "plotlyServerURL": "https://plot.ly"
       },
       "data": [
        {
         "marker": {
          "line": {
           "color": "Black",
           "width": 1
          }
         },
         "name": "Test Results",
         "textposition": "outside",
         "texttemplate": "%{y:20,.4f}",
         "type": "bar",
         "x": [
          "LogisticRegression",
          "RandomForest",
          "LGBM",
          "XGBClassifier",
          "Decision Tree"
         ],
         "y": [
          0.96,
          0.96,
          0.8666666666666667,
          1,
          1
         ]
        },
        {
         "marker": {
          "line": {
           "color": "Black",
           "width": 1
          }
         },
         "name": "Model Tuning Test Results",
         "textposition": "outside",
         "texttemplate": "%{y:20,.4f}",
         "type": "bar",
         "x": [
          "LogisticRegression",
          "RandomForest",
          "LGBM",
          "XGBClassifier",
          "Decision Tree"
         ],
         "y": [
          0.96,
          0.96,
          1,
          0.92,
          1
         ]
        }
       ],
       "layout": {
        "template": {
         "data": {
          "bar": [
           {
            "error_x": {
             "color": "#2a3f5f"
            },
            "error_y": {
             "color": "#2a3f5f"
            },
            "marker": {
             "line": {
              "color": "#E5ECF6",
              "width": 0.5
             },
             "pattern": {
              "fillmode": "overlay",
              "size": 10,
              "solidity": 0.2
             }
            },
            "type": "bar"
           }
          ],
          "barpolar": [
           {
            "marker": {
             "line": {
              "color": "#E5ECF6",
              "width": 0.5
             },
             "pattern": {
              "fillmode": "overlay",
              "size": 10,
              "solidity": 0.2
             }
            },
            "type": "barpolar"
           }
          ],
          "carpet": [
           {
            "aaxis": {
             "endlinecolor": "#2a3f5f",
             "gridcolor": "white",
             "linecolor": "white",
             "minorgridcolor": "white",
             "startlinecolor": "#2a3f5f"
            },
            "baxis": {
             "endlinecolor": "#2a3f5f",
             "gridcolor": "white",
             "linecolor": "white",
             "minorgridcolor": "white",
             "startlinecolor": "#2a3f5f"
            },
            "type": "carpet"
           }
          ],
          "choropleth": [
           {
            "colorbar": {
             "outlinewidth": 0,
             "ticks": ""
            },
            "type": "choropleth"
           }
          ],
          "contour": [
           {
            "colorbar": {
             "outlinewidth": 0,
             "ticks": ""
            },
            "colorscale": [
             [
              0,
              "#0d0887"
             ],
             [
              0.1111111111111111,
              "#46039f"
             ],
             [
              0.2222222222222222,
              "#7201a8"
             ],
             [
              0.3333333333333333,
              "#9c179e"
             ],
             [
              0.4444444444444444,
              "#bd3786"
             ],
             [
              0.5555555555555556,
              "#d8576b"
             ],
             [
              0.6666666666666666,
              "#ed7953"
             ],
             [
              0.7777777777777778,
              "#fb9f3a"
             ],
             [
              0.8888888888888888,
              "#fdca26"
             ],
             [
              1,
              "#f0f921"
             ]
            ],
            "type": "contour"
           }
          ],
          "contourcarpet": [
           {
            "colorbar": {
             "outlinewidth": 0,
             "ticks": ""
            },
            "type": "contourcarpet"
           }
          ],
          "heatmap": [
           {
            "colorbar": {
             "outlinewidth": 0,
             "ticks": ""
            },
            "colorscale": [
             [
              0,
              "#0d0887"
             ],
             [
              0.1111111111111111,
              "#46039f"
             ],
             [
              0.2222222222222222,
              "#7201a8"
             ],
             [
              0.3333333333333333,
              "#9c179e"
             ],
             [
              0.4444444444444444,
              "#bd3786"
             ],
             [
              0.5555555555555556,
              "#d8576b"
             ],
             [
              0.6666666666666666,
              "#ed7953"
             ],
             [
              0.7777777777777778,
              "#fb9f3a"
             ],
             [
              0.8888888888888888,
              "#fdca26"
             ],
             [
              1,
              "#f0f921"
             ]
            ],
            "type": "heatmap"
           }
          ],
          "heatmapgl": [
           {
            "colorbar": {
             "outlinewidth": 0,
             "ticks": ""
            },
            "colorscale": [
             [
              0,
              "#0d0887"
             ],
             [
              0.1111111111111111,
              "#46039f"
             ],
             [
              0.2222222222222222,
              "#7201a8"
             ],
             [
              0.3333333333333333,
              "#9c179e"
             ],
             [
              0.4444444444444444,
              "#bd3786"
             ],
             [
              0.5555555555555556,
              "#d8576b"
             ],
             [
              0.6666666666666666,
              "#ed7953"
             ],
             [
              0.7777777777777778,
              "#fb9f3a"
             ],
             [
              0.8888888888888888,
              "#fdca26"
             ],
             [
              1,
              "#f0f921"
             ]
            ],
            "type": "heatmapgl"
           }
          ],
          "histogram": [
           {
            "marker": {
             "pattern": {
              "fillmode": "overlay",
              "size": 10,
              "solidity": 0.2
             }
            },
            "type": "histogram"
           }
          ],
          "histogram2d": [
           {
            "colorbar": {
             "outlinewidth": 0,
             "ticks": ""
            },
            "colorscale": [
             [
              0,
              "#0d0887"
             ],
             [
              0.1111111111111111,
              "#46039f"
             ],
             [
              0.2222222222222222,
              "#7201a8"
             ],
             [
              0.3333333333333333,
              "#9c179e"
             ],
             [
              0.4444444444444444,
              "#bd3786"
             ],
             [
              0.5555555555555556,
              "#d8576b"
             ],
             [
              0.6666666666666666,
              "#ed7953"
             ],
             [
              0.7777777777777778,
              "#fb9f3a"
             ],
             [
              0.8888888888888888,
              "#fdca26"
             ],
             [
              1,
              "#f0f921"
             ]
            ],
            "type": "histogram2d"
           }
          ],
          "histogram2dcontour": [
           {
            "colorbar": {
             "outlinewidth": 0,
             "ticks": ""
            },
            "colorscale": [
             [
              0,
              "#0d0887"
             ],
             [
              0.1111111111111111,
              "#46039f"
             ],
             [
              0.2222222222222222,
              "#7201a8"
             ],
             [
              0.3333333333333333,
              "#9c179e"
             ],
             [
              0.4444444444444444,
              "#bd3786"
             ],
             [
              0.5555555555555556,
              "#d8576b"
             ],
             [
              0.6666666666666666,
              "#ed7953"
             ],
             [
              0.7777777777777778,
              "#fb9f3a"
             ],
             [
              0.8888888888888888,
              "#fdca26"
             ],
             [
              1,
              "#f0f921"
             ]
            ],
            "type": "histogram2dcontour"
           }
          ],
          "mesh3d": [
           {
            "colorbar": {
             "outlinewidth": 0,
             "ticks": ""
            },
            "type": "mesh3d"
           }
          ],
          "parcoords": [
           {
            "line": {
             "colorbar": {
              "outlinewidth": 0,
              "ticks": ""
             }
            },
            "type": "parcoords"
           }
          ],
          "pie": [
           {
            "automargin": true,
            "type": "pie"
           }
          ],
          "scatter": [
           {
            "marker": {
             "colorbar": {
              "outlinewidth": 0,
              "ticks": ""
             }
            },
            "type": "scatter"
           }
          ],
          "scatter3d": [
           {
            "line": {
             "colorbar": {
              "outlinewidth": 0,
              "ticks": ""
             }
            },
            "marker": {
             "colorbar": {
              "outlinewidth": 0,
              "ticks": ""
             }
            },
            "type": "scatter3d"
           }
          ],
          "scattercarpet": [
           {
            "marker": {
             "colorbar": {
              "outlinewidth": 0,
              "ticks": ""
             }
            },
            "type": "scattercarpet"
           }
          ],
          "scattergeo": [
           {
            "marker": {
             "colorbar": {
              "outlinewidth": 0,
              "ticks": ""
             }
            },
            "type": "scattergeo"
           }
          ],
          "scattergl": [
           {
            "marker": {
             "colorbar": {
              "outlinewidth": 0,
              "ticks": ""
             }
            },
            "type": "scattergl"
           }
          ],
          "scattermapbox": [
           {
            "marker": {
             "colorbar": {
              "outlinewidth": 0,
              "ticks": ""
             }
            },
            "type": "scattermapbox"
           }
          ],
          "scatterpolar": [
           {
            "marker": {
             "colorbar": {
              "outlinewidth": 0,
              "ticks": ""
             }
            },
            "type": "scatterpolar"
           }
          ],
          "scatterpolargl": [
           {
            "marker": {
             "colorbar": {
              "outlinewidth": 0,
              "ticks": ""
             }
            },
            "type": "scatterpolargl"
           }
          ],
          "scatterternary": [
           {
            "marker": {
             "colorbar": {
              "outlinewidth": 0,
              "ticks": ""
             }
            },
            "type": "scatterternary"
           }
          ],
          "surface": [
           {
            "colorbar": {
             "outlinewidth": 0,
             "ticks": ""
            },
            "colorscale": [
             [
              0,
              "#0d0887"
             ],
             [
              0.1111111111111111,
              "#46039f"
             ],
             [
              0.2222222222222222,
              "#7201a8"
             ],
             [
              0.3333333333333333,
              "#9c179e"
             ],
             [
              0.4444444444444444,
              "#bd3786"
             ],
             [
              0.5555555555555556,
              "#d8576b"
             ],
             [
              0.6666666666666666,
              "#ed7953"
             ],
             [
              0.7777777777777778,
              "#fb9f3a"
             ],
             [
              0.8888888888888888,
              "#fdca26"
             ],
             [
              1,
              "#f0f921"
             ]
            ],
            "type": "surface"
           }
          ],
          "table": [
           {
            "cells": {
             "fill": {
              "color": "#EBF0F8"
             },
             "line": {
              "color": "white"
             }
            },
            "header": {
             "fill": {
              "color": "#C8D4E3"
             },
             "line": {
              "color": "white"
             }
            },
            "type": "table"
           }
          ]
         },
         "layout": {
          "annotationdefaults": {
           "arrowcolor": "#2a3f5f",
           "arrowhead": 0,
           "arrowwidth": 1
          },
          "autotypenumbers": "strict",
          "coloraxis": {
           "colorbar": {
            "outlinewidth": 0,
            "ticks": ""
           }
          },
          "colorscale": {
           "diverging": [
            [
             0,
             "#8e0152"
            ],
            [
             0.1,
             "#c51b7d"
            ],
            [
             0.2,
             "#de77ae"
            ],
            [
             0.3,
             "#f1b6da"
            ],
            [
             0.4,
             "#fde0ef"
            ],
            [
             0.5,
             "#f7f7f7"
            ],
            [
             0.6,
             "#e6f5d0"
            ],
            [
             0.7,
             "#b8e186"
            ],
            [
             0.8,
             "#7fbc41"
            ],
            [
             0.9,
             "#4d9221"
            ],
            [
             1,
             "#276419"
            ]
           ],
           "sequential": [
            [
             0,
             "#0d0887"
            ],
            [
             0.1111111111111111,
             "#46039f"
            ],
            [
             0.2222222222222222,
             "#7201a8"
            ],
            [
             0.3333333333333333,
             "#9c179e"
            ],
            [
             0.4444444444444444,
             "#bd3786"
            ],
            [
             0.5555555555555556,
             "#d8576b"
            ],
            [
             0.6666666666666666,
             "#ed7953"
            ],
            [
             0.7777777777777778,
             "#fb9f3a"
            ],
            [
             0.8888888888888888,
             "#fdca26"
            ],
            [
             1,
             "#f0f921"
            ]
           ],
           "sequentialminus": [
            [
             0,
             "#0d0887"
            ],
            [
             0.1111111111111111,
             "#46039f"
            ],
            [
             0.2222222222222222,
             "#7201a8"
            ],
            [
             0.3333333333333333,
             "#9c179e"
            ],
            [
             0.4444444444444444,
             "#bd3786"
            ],
            [
             0.5555555555555556,
             "#d8576b"
            ],
            [
             0.6666666666666666,
             "#ed7953"
            ],
            [
             0.7777777777777778,
             "#fb9f3a"
            ],
            [
             0.8888888888888888,
             "#fdca26"
            ],
            [
             1,
             "#f0f921"
            ]
           ]
          },
          "colorway": [
           "#636efa",
           "#EF553B",
           "#00cc96",
           "#ab63fa",
           "#FFA15A",
           "#19d3f3",
           "#FF6692",
           "#B6E880",
           "#FF97FF",
           "#FECB52"
          ],
          "font": {
           "color": "#2a3f5f"
          },
          "geo": {
           "bgcolor": "white",
           "lakecolor": "white",
           "landcolor": "#E5ECF6",
           "showlakes": true,
           "showland": true,
           "subunitcolor": "white"
          },
          "hoverlabel": {
           "align": "left"
          },
          "hovermode": "closest",
          "mapbox": {
           "style": "light"
          },
          "paper_bgcolor": "white",
          "plot_bgcolor": "#E5ECF6",
          "polar": {
           "angularaxis": {
            "gridcolor": "white",
            "linecolor": "white",
            "ticks": ""
           },
           "bgcolor": "#E5ECF6",
           "radialaxis": {
            "gridcolor": "white",
            "linecolor": "white",
            "ticks": ""
           }
          },
          "scene": {
           "xaxis": {
            "backgroundcolor": "#E5ECF6",
            "gridcolor": "white",
            "gridwidth": 2,
            "linecolor": "white",
            "showbackground": true,
            "ticks": "",
            "zerolinecolor": "white"
           },
           "yaxis": {
            "backgroundcolor": "#E5ECF6",
            "gridcolor": "white",
            "gridwidth": 2,
            "linecolor": "white",
            "showbackground": true,
            "ticks": "",
            "zerolinecolor": "white"
           },
           "zaxis": {
            "backgroundcolor": "#E5ECF6",
            "gridcolor": "white",
            "gridwidth": 2,
            "linecolor": "white",
            "showbackground": true,
            "ticks": "",
            "zerolinecolor": "white"
           }
          },
          "shapedefaults": {
           "line": {
            "color": "#2a3f5f"
           }
          },
          "ternary": {
           "aaxis": {
            "gridcolor": "white",
            "linecolor": "white",
            "ticks": ""
           },
           "baxis": {
            "gridcolor": "white",
            "linecolor": "white",
            "ticks": ""
           },
           "bgcolor": "#E5ECF6",
           "caxis": {
            "gridcolor": "white",
            "linecolor": "white",
            "ticks": ""
           }
          },
          "title": {
           "x": 0.05
          },
          "xaxis": {
           "automargin": true,
           "gridcolor": "white",
           "linecolor": "white",
           "ticks": "",
           "title": {
            "standoff": 15
           },
           "zerolinecolor": "white",
           "zerolinewidth": 2
          },
          "yaxis": {
           "automargin": true,
           "gridcolor": "white",
           "linecolor": "white",
           "ticks": "",
           "title": {
            "standoff": 15
           },
           "zerolinecolor": "white",
           "zerolinewidth": 2
          }
         }
        },
        "title": {
         "font": {
          "size": 20
         },
         "text": "Test and Model Tuning Test Results for each Model",
         "x": 0.5
        },
        "xaxis": {
         "title": {
          "font": {
           "size": 15
          },
          "text": "Models"
         }
        },
        "yaxis": {
         "title": {
          "font": {
           "size": 15
          },
          "text": "Score"
         }
        }
       }
      },
      "text/html": [
       "<div>                            <div id=\"5d986fa0-8fb0-4e66-b349-d32b1c9f7a21\" class=\"plotly-graph-div\" style=\"height:525px; width:100%;\"></div>            <script type=\"text/javascript\">                require([\"plotly\"], function(Plotly) {                    window.PLOTLYENV=window.PLOTLYENV || {};                                    if (document.getElementById(\"5d986fa0-8fb0-4e66-b349-d32b1c9f7a21\")) {                    Plotly.newPlot(                        \"5d986fa0-8fb0-4e66-b349-d32b1c9f7a21\",                        [{\"marker\":{\"line\":{\"width\":1,\"color\":\"Black\"}},\"name\":\"Test Results\",\"textposition\":\"outside\",\"texttemplate\":\"%{y:20,.4f}\",\"x\":[\"LogisticRegression\",\"RandomForest\",\"LGBM\",\"XGBClassifier\",\"Decision Tree\"],\"y\":[0.96,0.96,0.8666666666666667,1.0,1.0],\"type\":\"bar\"},{\"marker\":{\"line\":{\"width\":1,\"color\":\"Black\"}},\"name\":\"Model Tuning Test Results\",\"textposition\":\"outside\",\"texttemplate\":\"%{y:20,.4f}\",\"x\":[\"LogisticRegression\",\"RandomForest\",\"LGBM\",\"XGBClassifier\",\"Decision Tree\"],\"y\":[0.96,0.96,1.0,0.92,1.0],\"type\":\"bar\"}],                        {\"template\":{\"data\":{\"bar\":[{\"error_x\":{\"color\":\"#2a3f5f\"},\"error_y\":{\"color\":\"#2a3f5f\"},\"marker\":{\"line\":{\"color\":\"#E5ECF6\",\"width\":0.5},\"pattern\":{\"fillmode\":\"overlay\",\"size\":10,\"solidity\":0.2}},\"type\":\"bar\"}],\"barpolar\":[{\"marker\":{\"line\":{\"color\":\"#E5ECF6\",\"width\":0.5},\"pattern\":{\"fillmode\":\"overlay\",\"size\":10,\"solidity\":0.2}},\"type\":\"barpolar\"}],\"carpet\":[{\"aaxis\":{\"endlinecolor\":\"#2a3f5f\",\"gridcolor\":\"white\",\"linecolor\":\"white\",\"minorgridcolor\":\"white\",\"startlinecolor\":\"#2a3f5f\"},\"baxis\":{\"endlinecolor\":\"#2a3f5f\",\"gridcolor\":\"white\",\"linecolor\":\"white\",\"minorgridcolor\":\"white\",\"startlinecolor\":\"#2a3f5f\"},\"type\":\"carpet\"}],\"choropleth\":[{\"colorbar\":{\"outlinewidth\":0,\"ticks\":\"\"},\"type\":\"choropleth\"}],\"contour\":[{\"colorbar\":{\"outlinewidth\":0,\"ticks\":\"\"},\"colorscale\":[[0.0,\"#0d0887\"],[0.1111111111111111,\"#46039f\"],[0.2222222222222222,\"#7201a8\"],[0.3333333333333333,\"#9c179e\"],[0.4444444444444444,\"#bd3786\"],[0.5555555555555556,\"#d8576b\"],[0.6666666666666666,\"#ed7953\"],[0.7777777777777778,\"#fb9f3a\"],[0.8888888888888888,\"#fdca26\"],[1.0,\"#f0f921\"]],\"type\":\"contour\"}],\"contourcarpet\":[{\"colorbar\":{\"outlinewidth\":0,\"ticks\":\"\"},\"type\":\"contourcarpet\"}],\"heatmap\":[{\"colorbar\":{\"outlinewidth\":0,\"ticks\":\"\"},\"colorscale\":[[0.0,\"#0d0887\"],[0.1111111111111111,\"#46039f\"],[0.2222222222222222,\"#7201a8\"],[0.3333333333333333,\"#9c179e\"],[0.4444444444444444,\"#bd3786\"],[0.5555555555555556,\"#d8576b\"],[0.6666666666666666,\"#ed7953\"],[0.7777777777777778,\"#fb9f3a\"],[0.8888888888888888,\"#fdca26\"],[1.0,\"#f0f921\"]],\"type\":\"heatmap\"}],\"heatmapgl\":[{\"colorbar\":{\"outlinewidth\":0,\"ticks\":\"\"},\"colorscale\":[[0.0,\"#0d0887\"],[0.1111111111111111,\"#46039f\"],[0.2222222222222222,\"#7201a8\"],[0.3333333333333333,\"#9c179e\"],[0.4444444444444444,\"#bd3786\"],[0.5555555555555556,\"#d8576b\"],[0.6666666666666666,\"#ed7953\"],[0.7777777777777778,\"#fb9f3a\"],[0.8888888888888888,\"#fdca26\"],[1.0,\"#f0f921\"]],\"type\":\"heatmapgl\"}],\"histogram\":[{\"marker\":{\"pattern\":{\"fillmode\":\"overlay\",\"size\":10,\"solidity\":0.2}},\"type\":\"histogram\"}],\"histogram2d\":[{\"colorbar\":{\"outlinewidth\":0,\"ticks\":\"\"},\"colorscale\":[[0.0,\"#0d0887\"],[0.1111111111111111,\"#46039f\"],[0.2222222222222222,\"#7201a8\"],[0.3333333333333333,\"#9c179e\"],[0.4444444444444444,\"#bd3786\"],[0.5555555555555556,\"#d8576b\"],[0.6666666666666666,\"#ed7953\"],[0.7777777777777778,\"#fb9f3a\"],[0.8888888888888888,\"#fdca26\"],[1.0,\"#f0f921\"]],\"type\":\"histogram2d\"}],\"histogram2dcontour\":[{\"colorbar\":{\"outlinewidth\":0,\"ticks\":\"\"},\"colorscale\":[[0.0,\"#0d0887\"],[0.1111111111111111,\"#46039f\"],[0.2222222222222222,\"#7201a8\"],[0.3333333333333333,\"#9c179e\"],[0.4444444444444444,\"#bd3786\"],[0.5555555555555556,\"#d8576b\"],[0.6666666666666666,\"#ed7953\"],[0.7777777777777778,\"#fb9f3a\"],[0.8888888888888888,\"#fdca26\"],[1.0,\"#f0f921\"]],\"type\":\"histogram2dcontour\"}],\"mesh3d\":[{\"colorbar\":{\"outlinewidth\":0,\"ticks\":\"\"},\"type\":\"mesh3d\"}],\"parcoords\":[{\"line\":{\"colorbar\":{\"outlinewidth\":0,\"ticks\":\"\"}},\"type\":\"parcoords\"}],\"pie\":[{\"automargin\":true,\"type\":\"pie\"}],\"scatter\":[{\"marker\":{\"colorbar\":{\"outlinewidth\":0,\"ticks\":\"\"}},\"type\":\"scatter\"}],\"scatter3d\":[{\"line\":{\"colorbar\":{\"outlinewidth\":0,\"ticks\":\"\"}},\"marker\":{\"colorbar\":{\"outlinewidth\":0,\"ticks\":\"\"}},\"type\":\"scatter3d\"}],\"scattercarpet\":[{\"marker\":{\"colorbar\":{\"outlinewidth\":0,\"ticks\":\"\"}},\"type\":\"scattercarpet\"}],\"scattergeo\":[{\"marker\":{\"colorbar\":{\"outlinewidth\":0,\"ticks\":\"\"}},\"type\":\"scattergeo\"}],\"scattergl\":[{\"marker\":{\"colorbar\":{\"outlinewidth\":0,\"ticks\":\"\"}},\"type\":\"scattergl\"}],\"scattermapbox\":[{\"marker\":{\"colorbar\":{\"outlinewidth\":0,\"ticks\":\"\"}},\"type\":\"scattermapbox\"}],\"scatterpolar\":[{\"marker\":{\"colorbar\":{\"outlinewidth\":0,\"ticks\":\"\"}},\"type\":\"scatterpolar\"}],\"scatterpolargl\":[{\"marker\":{\"colorbar\":{\"outlinewidth\":0,\"ticks\":\"\"}},\"type\":\"scatterpolargl\"}],\"scatterternary\":[{\"marker\":{\"colorbar\":{\"outlinewidth\":0,\"ticks\":\"\"}},\"type\":\"scatterternary\"}],\"surface\":[{\"colorbar\":{\"outlinewidth\":0,\"ticks\":\"\"},\"colorscale\":[[0.0,\"#0d0887\"],[0.1111111111111111,\"#46039f\"],[0.2222222222222222,\"#7201a8\"],[0.3333333333333333,\"#9c179e\"],[0.4444444444444444,\"#bd3786\"],[0.5555555555555556,\"#d8576b\"],[0.6666666666666666,\"#ed7953\"],[0.7777777777777778,\"#fb9f3a\"],[0.8888888888888888,\"#fdca26\"],[1.0,\"#f0f921\"]],\"type\":\"surface\"}],\"table\":[{\"cells\":{\"fill\":{\"color\":\"#EBF0F8\"},\"line\":{\"color\":\"white\"}},\"header\":{\"fill\":{\"color\":\"#C8D4E3\"},\"line\":{\"color\":\"white\"}},\"type\":\"table\"}]},\"layout\":{\"annotationdefaults\":{\"arrowcolor\":\"#2a3f5f\",\"arrowhead\":0,\"arrowwidth\":1},\"autotypenumbers\":\"strict\",\"coloraxis\":{\"colorbar\":{\"outlinewidth\":0,\"ticks\":\"\"}},\"colorscale\":{\"diverging\":[[0,\"#8e0152\"],[0.1,\"#c51b7d\"],[0.2,\"#de77ae\"],[0.3,\"#f1b6da\"],[0.4,\"#fde0ef\"],[0.5,\"#f7f7f7\"],[0.6,\"#e6f5d0\"],[0.7,\"#b8e186\"],[0.8,\"#7fbc41\"],[0.9,\"#4d9221\"],[1,\"#276419\"]],\"sequential\":[[0.0,\"#0d0887\"],[0.1111111111111111,\"#46039f\"],[0.2222222222222222,\"#7201a8\"],[0.3333333333333333,\"#9c179e\"],[0.4444444444444444,\"#bd3786\"],[0.5555555555555556,\"#d8576b\"],[0.6666666666666666,\"#ed7953\"],[0.7777777777777778,\"#fb9f3a\"],[0.8888888888888888,\"#fdca26\"],[1.0,\"#f0f921\"]],\"sequentialminus\":[[0.0,\"#0d0887\"],[0.1111111111111111,\"#46039f\"],[0.2222222222222222,\"#7201a8\"],[0.3333333333333333,\"#9c179e\"],[0.4444444444444444,\"#bd3786\"],[0.5555555555555556,\"#d8576b\"],[0.6666666666666666,\"#ed7953\"],[0.7777777777777778,\"#fb9f3a\"],[0.8888888888888888,\"#fdca26\"],[1.0,\"#f0f921\"]]},\"colorway\":[\"#636efa\",\"#EF553B\",\"#00cc96\",\"#ab63fa\",\"#FFA15A\",\"#19d3f3\",\"#FF6692\",\"#B6E880\",\"#FF97FF\",\"#FECB52\"],\"font\":{\"color\":\"#2a3f5f\"},\"geo\":{\"bgcolor\":\"white\",\"lakecolor\":\"white\",\"landcolor\":\"#E5ECF6\",\"showlakes\":true,\"showland\":true,\"subunitcolor\":\"white\"},\"hoverlabel\":{\"align\":\"left\"},\"hovermode\":\"closest\",\"mapbox\":{\"style\":\"light\"},\"paper_bgcolor\":\"white\",\"plot_bgcolor\":\"#E5ECF6\",\"polar\":{\"angularaxis\":{\"gridcolor\":\"white\",\"linecolor\":\"white\",\"ticks\":\"\"},\"bgcolor\":\"#E5ECF6\",\"radialaxis\":{\"gridcolor\":\"white\",\"linecolor\":\"white\",\"ticks\":\"\"}},\"scene\":{\"xaxis\":{\"backgroundcolor\":\"#E5ECF6\",\"gridcolor\":\"white\",\"gridwidth\":2,\"linecolor\":\"white\",\"showbackground\":true,\"ticks\":\"\",\"zerolinecolor\":\"white\"},\"yaxis\":{\"backgroundcolor\":\"#E5ECF6\",\"gridcolor\":\"white\",\"gridwidth\":2,\"linecolor\":\"white\",\"showbackground\":true,\"ticks\":\"\",\"zerolinecolor\":\"white\"},\"zaxis\":{\"backgroundcolor\":\"#E5ECF6\",\"gridcolor\":\"white\",\"gridwidth\":2,\"linecolor\":\"white\",\"showbackground\":true,\"ticks\":\"\",\"zerolinecolor\":\"white\"}},\"shapedefaults\":{\"line\":{\"color\":\"#2a3f5f\"}},\"ternary\":{\"aaxis\":{\"gridcolor\":\"white\",\"linecolor\":\"white\",\"ticks\":\"\"},\"baxis\":{\"gridcolor\":\"white\",\"linecolor\":\"white\",\"ticks\":\"\"},\"bgcolor\":\"#E5ECF6\",\"caxis\":{\"gridcolor\":\"white\",\"linecolor\":\"white\",\"ticks\":\"\"}},\"title\":{\"x\":0.05},\"xaxis\":{\"automargin\":true,\"gridcolor\":\"white\",\"linecolor\":\"white\",\"ticks\":\"\",\"title\":{\"standoff\":15},\"zerolinecolor\":\"white\",\"zerolinewidth\":2},\"yaxis\":{\"automargin\":true,\"gridcolor\":\"white\",\"linecolor\":\"white\",\"ticks\":\"\",\"title\":{\"standoff\":15},\"zerolinecolor\":\"white\",\"zerolinewidth\":2}}},\"title\":{\"font\":{\"size\":20},\"text\":\"Test and Model Tuning Test Results for each Model\",\"x\":0.5},\"xaxis\":{\"title\":{\"font\":{\"size\":15},\"text\":\"Models\"}},\"yaxis\":{\"title\":{\"font\":{\"size\":15},\"text\":\"Score\"}}},                        {\"responsive\": true}                    ).then(function(){\n",
       "                            \n",
       "var gd = document.getElementById('5d986fa0-8fb0-4e66-b349-d32b1c9f7a21');\n",
       "var x = new MutationObserver(function (mutations, observer) {{\n",
       "        var display = window.getComputedStyle(gd).display;\n",
       "        if (!display || display === 'none') {{\n",
       "            console.log([gd, 'removed!']);\n",
       "            Plotly.purge(gd);\n",
       "            observer.disconnect();\n",
       "        }}\n",
       "}});\n",
       "\n",
       "// Listen for the removal of the full notebook cells\n",
       "var notebookContainer = gd.closest('#notebook-container');\n",
       "if (notebookContainer) {{\n",
       "    x.observe(notebookContainer, {childList: true});\n",
       "}}\n",
       "\n",
       "// Listen for the clearing of the current output cell\n",
       "var outputEl = gd.closest('.output');\n",
       "if (outputEl) {{\n",
       "    x.observe(outputEl, {childList: true});\n",
       "}}\n",
       "\n",
       "                        })                };                });            </script>        </div>"
      ]
     },
     "metadata": {},
     "output_type": "display_data"
    },
    {
     "data": {
      "image/jpeg": "[encoded data removed]",
      "text/plain": [
       "<IPython.core.display.Image object>"
      ]
     },
     "execution_count": 43,
     "metadata": {},
     "output_type": "execute_result"
    }
   ],
   "source": [
    "#Get test and model tuning test score for each model\n",
    "# Make lits of test score for each model and a model name list\n",
    "test_list = [logreg_accuracy, ranfor_accuracy, LGB_accuracy, xgboost_accuracy, dt_accuracy]\n",
    "tuning_test_list = [logreg_gscv_accuracy, ranfor_gscv_accuracy, LGB_gscv_accuracy, xgboost_gscv_accuracy, dt_gscv_acc]\n",
    "model_names = ['LogisticRegression', 'RandomForest', 'LGBM','XGBClassifier', 'Decision Tree']\n",
    "\n",
    "# Make dataframes of each test score\n",
    "test_list = pd.DataFrame(test_list)\n",
    "tuning_test_list = pd.DataFrame(tuning_test_list)\n",
    "model_names = pd.DataFrame(model_names)\n",
    "\n",
    "# Name each column\n",
    "test_list.columns = ['Default']\n",
    "tuning_test_list.columns = ['with GridSearchCV']\n",
    "model_names.columns = ['model']\n",
    "\n",
    "# Concatenate each column\n",
    "over_all_score = pd.concat([model_names, test_list, tuning_test_list], axis=1)\n",
    "print(over_all_score)\n",
    "\n",
    "    \n",
    "# Plot bar chart of each test score results\n",
    "fig = go.Figure(data=[go.Bar(x=over_all_score['model'], y=over_all_score['Default'], \n",
    "                             name='Test Results', texttemplate='%{y:20,.4f}', \n",
    "                             textposition='outside', marker={'line': {'width': 5}}),\n",
    "                      go.Bar(x=over_all_score['model'], y=over_all_score['with GridSearchCV'], \n",
    "                             name='Model Tuning Test Results', texttemplate='%{y:20,.4f}', \n",
    "                             textposition='outside', marker={'line': {'width': 5}})])\n",
    "fig.update_layout(title_text='Test and Model Tuning Test Results for each Model',\n",
    "                  title_x=0.5, title_font=dict(size=20))\n",
    "fig.update_xaxes(title_text='Models', title_font={'size': 15})\n",
    "fig.update_yaxes(title_text='Score', title_font={'size': 15})\n",
    "fig.update_traces(marker={'line': {'color': 'Black', 'width': 1}})\n",
    "fig.show()\n",
    "\n",
    "from IPython.display import Image\n",
    "img = 'newplot.jpg'\n",
    "Image(url=img)\n",
    "Image('/Users/aquinojoeanson/Desktop/SPRINGBOARD/Capstone_Project_2/newplot.jpg'\n",
    ")"
   ]
  },
  {
   "cell_type": "markdown",
   "id": "f6033325",
   "metadata": {},
   "source": [
    "### 5.12 Summary Values  <a id='5.12_SummryValues'></a>"
   ]
  },
  {
   "cell_type": "code",
   "execution_count": 41,
   "id": "22275480",
   "metadata": {},
   "outputs": [],
   "source": [
    "dfSummary = pd.read_csv('/Users/aquinojoeanson/Desktop/SPRINGBOARD/Capstone_Project_2/Data/HD_summary_report.csv')\n"
   ]
  },
  {
   "cell_type": "code",
   "execution_count": 42,
   "id": "e5af7382",
   "metadata": {
    "scrolled": true
   },
   "outputs": [
    {
     "data": {
      "text/html": [
       "<div>\n",
       "<style scoped>\n",
       "    .dataframe tbody tr th:only-of-type {\n",
       "        vertical-align: middle;\n",
       "    }\n",
       "\n",
       "    .dataframe tbody tr th {\n",
       "        vertical-align: top;\n",
       "    }\n",
       "\n",
       "    .dataframe thead th {\n",
       "        text-align: right;\n",
       "    }\n",
       "</style>\n",
       "<table border=\"1\" class=\"dataframe\">\n",
       "  <thead>\n",
       "    <tr style=\"text-align: right;\">\n",
       "      <th></th>\n",
       "      <th>Models</th>\n",
       "      <th>Train_Accuracy</th>\n",
       "      <th>Test_Accuracy</th>\n",
       "      <th>Train_Precision</th>\n",
       "      <th>Test_Precision</th>\n",
       "      <th>Train_Recall</th>\n",
       "      <th>Test_Recall</th>\n",
       "      <th>Train_F1-score</th>\n",
       "      <th>Test_F1-score</th>\n",
       "    </tr>\n",
       "  </thead>\n",
       "  <tbody>\n",
       "    <tr>\n",
       "      <th>0</th>\n",
       "      <td>Logistic_Regression</td>\n",
       "      <td>0.995495</td>\n",
       "      <td>0.96</td>\n",
       "      <td>0.988506</td>\n",
       "      <td>0.90625</td>\n",
       "      <td>1</td>\n",
       "      <td>1</td>\n",
       "      <td>0.9955</td>\n",
       "      <td>0.960309</td>\n",
       "    </tr>\n",
       "    <tr>\n",
       "      <th>1</th>\n",
       "      <td>Random_Forest</td>\n",
       "      <td>1.000000</td>\n",
       "      <td>0.96</td>\n",
       "      <td>1.000000</td>\n",
       "      <td>0.90625</td>\n",
       "      <td>1</td>\n",
       "      <td>1</td>\n",
       "      <td>1.0000</td>\n",
       "      <td>0.960309</td>\n",
       "    </tr>\n",
       "    <tr>\n",
       "      <th>2</th>\n",
       "      <td>LGBM</td>\n",
       "      <td>0.995495</td>\n",
       "      <td>0.96</td>\n",
       "      <td>0.988506</td>\n",
       "      <td>0.90625</td>\n",
       "      <td>1</td>\n",
       "      <td>1</td>\n",
       "      <td>0.9955</td>\n",
       "      <td>0.960309</td>\n",
       "    </tr>\n",
       "    <tr>\n",
       "      <th>3</th>\n",
       "      <td>GBoost</td>\n",
       "      <td>0.995495</td>\n",
       "      <td>0.96</td>\n",
       "      <td>0.988506</td>\n",
       "      <td>0.90625</td>\n",
       "      <td>1</td>\n",
       "      <td>1</td>\n",
       "      <td>0.9955</td>\n",
       "      <td>0.960309</td>\n",
       "    </tr>\n",
       "    <tr>\n",
       "      <th>4</th>\n",
       "      <td>ecision_Tree</td>\n",
       "      <td>1.000000</td>\n",
       "      <td>1.00</td>\n",
       "      <td>1.000000</td>\n",
       "      <td>1.00000</td>\n",
       "      <td>1</td>\n",
       "      <td>1</td>\n",
       "      <td>1.0000</td>\n",
       "      <td>1.000000</td>\n",
       "    </tr>\n",
       "  </tbody>\n",
       "</table>\n",
       "</div>"
      ],
      "text/plain": [
       "                Models  Train_Accuracy  Test_Accuracy  Train_Precision  \\\n",
       "0  Logistic_Regression        0.995495           0.96         0.988506   \n",
       "1        Random_Forest        1.000000           0.96         1.000000   \n",
       "2                 LGBM        0.995495           0.96         0.988506   \n",
       "3               GBoost        0.995495           0.96         0.988506   \n",
       "4         ecision_Tree        1.000000           1.00         1.000000   \n",
       "\n",
       "   Test_Precision  Train_Recall  Test_Recall  Train_F1-score  Test_F1-score  \n",
       "0         0.90625             1            1          0.9955       0.960309  \n",
       "1         0.90625             1            1          1.0000       0.960309  \n",
       "2         0.90625             1            1          0.9955       0.960309  \n",
       "3         0.90625             1            1          0.9955       0.960309  \n",
       "4         1.00000             1            1          1.0000       1.000000  "
      ]
     },
     "execution_count": 42,
     "metadata": {},
     "output_type": "execute_result"
    }
   ],
   "source": [
    "dfSummary"
   ]
  }
 ],
 "metadata": {
  "kernelspec": {
   "display_name": "Python 3 (ipykernel)",
   "language": "python",
   "name": "python3"
  },
  "language_info": {
   "codemirror_mode": {
    "name": "ipython",
    "version": 3
   },
   "file_extension": ".py",
   "mimetype": "text/x-python",
   "name": "python",
   "nbconvert_exporter": "python",
   "pygments_lexer": "ipython3",
   "version": "3.9.12"
  }
 },
 "nbformat": 4,
 "nbformat_minor": 5
}
