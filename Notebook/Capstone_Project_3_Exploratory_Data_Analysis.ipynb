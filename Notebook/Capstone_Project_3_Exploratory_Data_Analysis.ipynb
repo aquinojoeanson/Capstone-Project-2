{
 "cells": [
  {
   "cell_type": "markdown",
   "id": "f7af53da",
   "metadata": {},
   "source": [
    "# 3 Exploratory Data Analysis<a id='3_Exploratory_Data_Analysis'></a>"
   ]
  },
  {
   "cell_type": "markdown",
   "id": "4d12030d",
   "metadata": {},
   "source": [
    "# 3.1 Contents<a id='3.1_Contents'></a>\n",
    "* [3 Exploratory Data Analysis](#3_Exploratory_Data_Analysis)\n",
    "  * [3.1 Contents](#3.1_Contents)\n",
    "  * [3.2 Introduction](#3.2_Introduction)\n",
    "  * [3.3 Imports](#3.3_Imports)\n",
    "  * [3.4 Load The Data](#3.4_Load_The_Data)\n",
    "  * [3.5 Attribute Information](#3.5_Attribute_information)\n",
    "      * [3.5.1 Table 1. Cleveland dataset 14 features and descriptions.](#3.5.1_CDataset)\n",
    "  * [3.6 Data Cleaning](#3.6_DataCleaning)\n",
    "      * [3.6.1 Checking the Data types.](#3.6.1_CheckData)\n",
    "      * [3.6.2 Replacing '?' values using 'ffill' meathod and datatype from 'object' to 'int'](#3.6.2_Replacing)\n",
    "      * [3.6.3 Checking the rest of the Categorical features.](#3.6.3_CheckingCat)\n",
    "      * [3.6.4 Checking the rest of the Continuous features.](#3.6.4_CheckkingCon)\n",
    "  * [3.7 Explore The Data](#3.7_Explore_The_Data)\n",
    "      * [3.7.1 Finding the correlation among attributes](#3.7.1_FCorrelation)\n",
    "      * [3.7.2 Categorical Variables](#3.7.2_CatVar)\n",
    "      * [3.7.3 Continous Variables](#3.7.3_ConVar)\n",
    "      * [3.7.4 Scatter Plot](#3.7.4_ScatterPlot)\n",
    "      * [3.7.5 Heatmap](#3.7.5_Heatmap)\n",
    "      * [3.7.6 Bar Graph with or without Heart Desease](#3.7.6_BarGHD)\n",
    "  * [3.8 Summary](#3.8_Summary)"
   ]
  },
  {
   "cell_type": "markdown",
   "id": "225429a5",
   "metadata": {},
   "source": [
    "# 3.2 Introduction<a id='3.2_Introduction'></a>"
   ]
  },
  {
   "cell_type": "markdown",
   "id": "fbbab149",
   "metadata": {},
   "source": [
    "Predicting and diagnosing heart disease is the biggest challenge in the medical industry and relies on factors such as the physical examination, symptoms and signs of the patient.\n",
    "\n",
    "Factors that influence heart disease are body cholesterol levels, smoking habit and obesity, family history of illnesses, blood pressure, and work environment. Machine learning algorithms play an essential and precise role in the prediction of heart disease.\n",
    "\n",
    "Advances in technology allow machine language to combine with Big Data tools to manage unstructured and exponentially growing data. Heart disease is seen as the world’s deadliest disease of human life. In particular, in this type of disease, the heart is not able to push the required amount of blood to the remaining organs of the human body to perform regular functions.\n",
    "\n",
    "Heart disease can be predicted based on various symptoms such as age, gender, heart rate, etc. and reduces the death rate of heart patients.\n",
    "\n",
    "Due to the increasing use of technology and data collection, we can now predict heart disease using machine learning algorithms. Now let’s go further with the task of heart disease prediction using machine learning with Python."
   ]
  },
  {
   "cell_type": "markdown",
   "id": "12e180db",
   "metadata": {},
   "source": [
    "# 3.3 Imports<a id='3.3_Imports'></a>"
   ]
  },
  {
   "cell_type": "code",
   "execution_count": 1,
   "id": "7533c378",
   "metadata": {},
   "outputs": [],
   "source": [
    "## Algorithms\n",
    "from sklearn.ensemble import GradientBoostingClassifier\n",
    "from sklearn.ensemble import RandomForestClassifier\n",
    "from sklearn.svm import SVC\n",
    "from sklearn.ensemble import ExtraTreesClassifier\n",
    "from sklearn.linear_model import LogisticRegression\n",
    "from sklearn.neural_network import MLPClassifier\n",
    "\n",
    "## Sklearn\n",
    "from sklearn.metrics import classification_report, confusion_matrix, accuracy_score\n",
    "from sklearn.utils.multiclass import unique_labels\n",
    "from sklearn.preprocessing import StandardScaler\n",
    "from sklearn.metrics import roc_curve, auc\n",
    "from sklearn.model_selection import train_test_split\n",
    "from sklearn.model_selection import GridSearchCV\n",
    "from sklearn.metrics import accuracy_score, precision_score, recall_score\n",
    "from sklearn.preprocessing import MinMaxScaler\n",
    "\n",
    "## Plotting\n",
    "import matplotlib.pyplot as plt\n",
    "import seaborn as sns\n",
    "\n",
    "## Pandas\n",
    "import pandas as pd\n",
    "\n",
    "## Numpy\n",
    "import numpy as np\n",
    "\n",
    "## Misc\n",
    "from string import ascii_letters\n",
    "import warnings\n",
    "import os \n",
    "import joblib\n",
    "from time import time\n",
    "from scipy import stats\n",
    "import itertools\n",
    "import subprocess\n",
    "from library.sb_utils import save_file"
   ]
  },
  {
   "cell_type": "markdown",
   "id": "3310483c",
   "metadata": {},
   "source": [
    "# 3.4 Load The Data<a id='3.4_Load_The_Data'></a>"
   ]
  },
  {
   "cell_type": "code",
   "execution_count": 2,
   "id": "8f66f6bc",
   "metadata": {},
   "outputs": [
    {
     "name": "stdout",
     "output_type": "stream",
     "text": [
      "/Users/aquinojoeanson/Desktop/SPRINGBOARD/Capstone_Project_2/Notebook\n"
     ]
    }
   ],
   "source": [
    "#Get the current working directory of a process and print \n",
    "MyWorkingDir = os.getcwd()\n",
    "print(MyWorkingDir)"
   ]
  },
  {
   "cell_type": "code",
   "execution_count": 3,
   "id": "a82991b6",
   "metadata": {},
   "outputs": [],
   "source": [
    "# load and read the Dataset Cleveland.csv on woking directory\n",
    "# and fed into DataFrame or df\n",
    "path = MyWorkingDir = '/Users/aquinojoeanson/Desktop/SPRINGBOARD/Capstone_Project_2/Data/Cleveland.csv'\n",
    "df = pd.read_csv('/Users/aquinojoeanson/Desktop/SPRINGBOARD/Capstone_Project_2/Data/Cleveland.csv', header = None)"
   ]
  },
  {
   "cell_type": "markdown",
   "id": "cd4222ea",
   "metadata": {},
   "source": [
    "# 3.5 Attribute Information<a id='3.5_Attribute_information'></a>"
   ]
  },
  {
   "cell_type": "markdown",
   "id": "8ba57c95",
   "metadata": {},
   "source": [
    "Experiments with the Cleveland database have concentrated on simply attempting to distinguish the presence of Heart Disease from absence."
   ]
  },
  {
   "cell_type": "markdown",
   "id": "a2f92f07",
   "metadata": {},
   "source": [
    "### Table 1. Cleveland dataset 14 features and descriptions.<a id='3.5.1_CDataset'></a>"
   ]
  },
  {
   "cell_type": "markdown",
   "id": "1efb3f9a",
   "metadata": {},
   "source": [
    "| Features|Description|Values\n",
    "|----|----|----|\n",
    "|(age)            |Age in years|\n",
    "|(sex)            |Sex|1 = Male\n",
    "|    |            |0 = Female\n",
    "|(cp)             |Chest Pain type\n",
    "|     |           |\n",
    "|     |           |1: asymptomatic\n",
    "|     |           |2: atypical angina\n",
    "|     |           |3: non-anginal pain\n",
    "|     |           |4: typical angina\n",
    "|     |           |\n",
    "|(trestbps)       |Resting blood pressure (mm/hg)\n",
    "|(chol)           |Serum cholesterol (mg/dl)\n",
    "|(fbs)            |Fasting blood sugar > 120 mg/dl)  \n",
    "|     |           |1 = True\n",
    "|     |           |0 = False\n",
    "|(restecg)        | Resting Electrocardiographic results\n",
    "|     |           |0: normal\n",
    "|      |          |1: having ST-T wave abnormality \n",
    "|      |          |2: showing probable\n",
    "|(thalach)       | Maximum Heart Rate achieved\n",
    "|(exang)         |Exercise induced angina \n",
    "|      |         |1 = Yes\n",
    "|      |         |0 = No\n",
    "|(oldpeak)       |ST depression induced by exercise relative to rest\n",
    "|(slope)         |Slope of Peak Exercise ST Segment\t\n",
    "|      |         |1: Upsloping\n",
    "|      |         |2: Flat\n",
    "|      |         |3: Downsloping\n",
    "|(ca)|\tNumber of Major Vessels colored by Fluoroscopy\t\t\n",
    "|||0= Zero fluroscopy colored Major Vessels\n",
    "|||1= One fluroscopy colored Major Vessels\n",
    "|||2= Two fluroscopy colored Major Vessels\n",
    "|||3= Three fluroscopy colored Major Vessels\n",
    "|(thal)          |Thalassemia\n",
    "|||3 = Normal (Normal blood flow)\n",
    "|||6 = Fixed defect (no blood flow in some part of the heart)\n",
    "|||7 = Reversable defect (blood flow is observed but it is not normal)\n",
    "|(num) |\tDiagnosis\n",
    "|||0 = No Heart Disease\n",
    "|||>0 = with Heart Disease"
   ]
  },
  {
   "cell_type": "markdown",
   "id": "8d8a7712",
   "metadata": {},
   "source": [
    "# 3.6 Data Cleaning<a id='3.6_DataCleaning'></a>"
   ]
  },
  {
   "cell_type": "markdown",
   "id": "44490e2d",
   "metadata": {},
   "source": [
    "Lets add our features to the data..."
   ]
  },
  {
   "cell_type": "code",
   "execution_count": 4,
   "id": "e537adaf",
   "metadata": {},
   "outputs": [],
   "source": [
    "#Adding features to the dataset for more visual understanding.\n",
    "df.columns = ['age', 'sex', 'cp', 'trestbps', 'chol',\n",
    "              'fbs', 'restecg', 'thalach', 'exang', \n",
    "              'oldpeak', 'slope', 'ca', 'thal', 'num']"
   ]
  },
  {
   "cell_type": "code",
   "execution_count": 5,
   "id": "316ed74f",
   "metadata": {},
   "outputs": [],
   "source": [
    "def ca_simplifier(ca):\n",
    "    if '0' in ca.lower():\n",
    "        return '0'\n",
    "    elif '1' in ca.lower():\n",
    "        return '1'\n",
    "    elif '2' in ca.lower():\n",
    "        return '2'\n",
    "    elif '3' in ca.lower():\n",
    "        return'3'\n",
    "    else:\n",
    "        return '?'"
   ]
  },
  {
   "cell_type": "code",
   "execution_count": 6,
   "id": "01fcd237",
   "metadata": {},
   "outputs": [
    {
     "name": "stdout",
     "output_type": "stream",
     "text": [
      "['0', '3', '2', '0', '0', '0', '2', '0', '1', '0', '0', '0', '1', '0', '0', '0', '0', '0', '0', '0', '0', '0', '0', '2', '2', '0', '0', '0', '0', '0', '2', '2', '0', '0', '0', '0', '0', '1', '1', '0', '3', '0', '2', '0', '0', '1', '0', '0', '1', '0', '1', '0', '1', '0', '1', '1', '1', '0', '1', '1', '0', '0', '3', '0', '1', '2', '0', '0', '0', '0', '0', '2', '2', '2', '1', '0', '1', '1', '0', '0', '0', '0', '0', '0', '0', '0', '0', '0', '0', '0', '0', '3', '3', '0', '0', '1', '1', '2', '1', '0', '0', '0', '1', '1', '3', '0', '1', '1', '1', '0', '0', '1', '0', '0', '1', '0', '0', '0', '3', '1', '2', '3', '0', '0', '1', '0', '2', '1', '0', '0', '0', '1', '0', '0', '0', '0', '0', '1', '0', '0', '0', '0', '0', '0', '0', '0', '3', '0', '0', '1', '0', '0', '0', '1', '1', '3', '0', '2', '2', '1', '0', '3', '0', '0', '2', '0', '?', '1', '0', '0', '1', '0', '0', '0', '2', '1', '3', '1', '1', '3', '0', '2', '2', '0', '0', '2', '0', '3', '1', '3', '0', '3', '?', '3', '0', '2', '1', '0', '0', '0', '0', '0', '1', '0', '0', '3', '2', '0', '0', '0', '0', '0', '0', '2', '1', '0', '0', '0', '2', '0', '0', '0', '0', '2', '2', '0', '0', '1', '1', '1', '0', '0', '3', '1', '1', '2', '0', '0', '0', '0', '0', '0', '0', '2', '0', '0', '1', '1', '2', '0', '0', '1', '1', '0', '0', '0', '2', '0', '0', '0', '1', '2', '0', '0', '1', '0', '0', '1', '0', '0', '1', '0', '2', '0', '2', '0', '1', '0', '1', '0', '1', '0', '1', '0', '1', '3', '2', '?', '0', '0', '0', '0', '0', '2', '0', '0', '2', '0', '0', '2', '1', '1', '?']\n"
     ]
    }
   ],
   "source": [
    "#1 getting all \"ca' values in the column list\n",
    "col_list = df['ca'].tolist()\n",
    "print(col_list)"
   ]
  },
  {
   "cell_type": "markdown",
   "id": "16263e7a",
   "metadata": {},
   "source": [
    "### 3.6.1 Checking the Data types.<a id='3.6.1_CheckData'></a>"
   ]
  },
  {
   "cell_type": "markdown",
   "id": "83bde3a0",
   "metadata": {},
   "source": [
    "checking the data types, data characters mistakes, replacing missing values. "
   ]
  },
  {
   "cell_type": "code",
   "execution_count": 7,
   "id": "e4152612",
   "metadata": {},
   "outputs": [
    {
     "data": {
      "text/plain": [
       "array(['0', '3', '2', '1', '?'], dtype=object)"
      ]
     },
     "execution_count": 7,
     "metadata": {},
     "output_type": "execute_result"
    }
   ],
   "source": [
    "#getting all distinct values in the list\n",
    "df['ca'].unique()"
   ]
  },
  {
   "cell_type": "code",
   "execution_count": 8,
   "id": "ac3f8b77",
   "metadata": {},
   "outputs": [],
   "source": [
    "df['ca'] = df['ca'].apply(ca_simplifier)"
   ]
  },
  {
   "cell_type": "markdown",
   "id": "7b7a4b9b",
   "metadata": {},
   "source": [
    "### 3.6.2 Replacing '?' values using 'ffill' meathod and datatype from 'object' to 'int'<a id='3.6.2_Replacing'></a>"
   ]
  },
  {
   "cell_type": "code",
   "execution_count": 9,
   "id": "1e4d4e1d",
   "metadata": {},
   "outputs": [],
   "source": [
    "sum(df['ca'].values=='?')\n",
    "droplist=df.loc[df['ca']=='?'].index.tolist()\n",
    "df.drop(droplist,axis=0,inplace=True)\n",
    "df['ca']=df['ca'].astype(str).astype(float).astype(int)"
   ]
  },
  {
   "cell_type": "code",
   "execution_count": 10,
   "id": "39d670ac",
   "metadata": {},
   "outputs": [],
   "source": [
    "sum(df['thal'].values=='?')\n",
    "droplist=df.loc[df['thal']=='?'].index.tolist()\n",
    "df.drop(droplist,axis=0,inplace=True)\n",
    "df['thal']=df['thal'].astype(str).astype(float).astype(int)"
   ]
  },
  {
   "cell_type": "code",
   "execution_count": 11,
   "id": "d8ffcc6a",
   "metadata": {},
   "outputs": [
    {
     "data": {
      "text/plain": [
       "0    174\n",
       "1     65\n",
       "2     38\n",
       "3     20\n",
       "Name: ca, dtype: int64"
      ]
     },
     "execution_count": 11,
     "metadata": {},
     "output_type": "execute_result"
    }
   ],
   "source": [
    "df.ca.value_counts()"
   ]
  },
  {
   "cell_type": "code",
   "execution_count": 12,
   "id": "b8894e91",
   "metadata": {},
   "outputs": [
    {
     "data": {
      "text/plain": [
       "3    164\n",
       "7    115\n",
       "6     18\n",
       "Name: thal, dtype: int64"
      ]
     },
     "execution_count": 12,
     "metadata": {},
     "output_type": "execute_result"
    }
   ],
   "source": [
    "df.thal.value_counts()"
   ]
  },
  {
   "cell_type": "code",
   "execution_count": 13,
   "id": "6033ede2",
   "metadata": {},
   "outputs": [
    {
     "data": {
      "text/html": [
       "<div>\n",
       "<style scoped>\n",
       "    .dataframe tbody tr th:only-of-type {\n",
       "        vertical-align: middle;\n",
       "    }\n",
       "\n",
       "    .dataframe tbody tr th {\n",
       "        vertical-align: top;\n",
       "    }\n",
       "\n",
       "    .dataframe thead th {\n",
       "        text-align: right;\n",
       "    }\n",
       "</style>\n",
       "<table border=\"1\" class=\"dataframe\">\n",
       "  <thead>\n",
       "    <tr style=\"text-align: right;\">\n",
       "      <th></th>\n",
       "      <th>age</th>\n",
       "      <th>sex</th>\n",
       "      <th>cp</th>\n",
       "      <th>trestbps</th>\n",
       "      <th>chol</th>\n",
       "      <th>fbs</th>\n",
       "      <th>restecg</th>\n",
       "      <th>thalach</th>\n",
       "      <th>exang</th>\n",
       "      <th>oldpeak</th>\n",
       "      <th>slope</th>\n",
       "      <th>ca</th>\n",
       "      <th>thal</th>\n",
       "      <th>num</th>\n",
       "    </tr>\n",
       "  </thead>\n",
       "  <tbody>\n",
       "    <tr>\n",
       "      <th>0</th>\n",
       "      <td>63</td>\n",
       "      <td>1</td>\n",
       "      <td>1</td>\n",
       "      <td>145</td>\n",
       "      <td>233</td>\n",
       "      <td>1</td>\n",
       "      <td>2</td>\n",
       "      <td>150</td>\n",
       "      <td>0</td>\n",
       "      <td>2.3</td>\n",
       "      <td>3</td>\n",
       "      <td>0</td>\n",
       "      <td>6</td>\n",
       "      <td>0</td>\n",
       "    </tr>\n",
       "    <tr>\n",
       "      <th>1</th>\n",
       "      <td>67</td>\n",
       "      <td>1</td>\n",
       "      <td>4</td>\n",
       "      <td>160</td>\n",
       "      <td>286</td>\n",
       "      <td>0</td>\n",
       "      <td>2</td>\n",
       "      <td>108</td>\n",
       "      <td>1</td>\n",
       "      <td>1.5</td>\n",
       "      <td>2</td>\n",
       "      <td>3</td>\n",
       "      <td>3</td>\n",
       "      <td>2</td>\n",
       "    </tr>\n",
       "    <tr>\n",
       "      <th>2</th>\n",
       "      <td>67</td>\n",
       "      <td>1</td>\n",
       "      <td>4</td>\n",
       "      <td>120</td>\n",
       "      <td>229</td>\n",
       "      <td>0</td>\n",
       "      <td>2</td>\n",
       "      <td>129</td>\n",
       "      <td>1</td>\n",
       "      <td>2.6</td>\n",
       "      <td>2</td>\n",
       "      <td>2</td>\n",
       "      <td>7</td>\n",
       "      <td>1</td>\n",
       "    </tr>\n",
       "    <tr>\n",
       "      <th>3</th>\n",
       "      <td>37</td>\n",
       "      <td>1</td>\n",
       "      <td>3</td>\n",
       "      <td>130</td>\n",
       "      <td>250</td>\n",
       "      <td>0</td>\n",
       "      <td>0</td>\n",
       "      <td>187</td>\n",
       "      <td>0</td>\n",
       "      <td>3.5</td>\n",
       "      <td>3</td>\n",
       "      <td>0</td>\n",
       "      <td>3</td>\n",
       "      <td>0</td>\n",
       "    </tr>\n",
       "    <tr>\n",
       "      <th>4</th>\n",
       "      <td>41</td>\n",
       "      <td>0</td>\n",
       "      <td>2</td>\n",
       "      <td>130</td>\n",
       "      <td>204</td>\n",
       "      <td>0</td>\n",
       "      <td>2</td>\n",
       "      <td>172</td>\n",
       "      <td>0</td>\n",
       "      <td>1.4</td>\n",
       "      <td>1</td>\n",
       "      <td>0</td>\n",
       "      <td>3</td>\n",
       "      <td>0</td>\n",
       "    </tr>\n",
       "    <tr>\n",
       "      <th>...</th>\n",
       "      <td>...</td>\n",
       "      <td>...</td>\n",
       "      <td>...</td>\n",
       "      <td>...</td>\n",
       "      <td>...</td>\n",
       "      <td>...</td>\n",
       "      <td>...</td>\n",
       "      <td>...</td>\n",
       "      <td>...</td>\n",
       "      <td>...</td>\n",
       "      <td>...</td>\n",
       "      <td>...</td>\n",
       "      <td>...</td>\n",
       "      <td>...</td>\n",
       "    </tr>\n",
       "    <tr>\n",
       "      <th>297</th>\n",
       "      <td>57</td>\n",
       "      <td>0</td>\n",
       "      <td>4</td>\n",
       "      <td>140</td>\n",
       "      <td>241</td>\n",
       "      <td>0</td>\n",
       "      <td>0</td>\n",
       "      <td>123</td>\n",
       "      <td>1</td>\n",
       "      <td>0.2</td>\n",
       "      <td>2</td>\n",
       "      <td>0</td>\n",
       "      <td>7</td>\n",
       "      <td>1</td>\n",
       "    </tr>\n",
       "    <tr>\n",
       "      <th>298</th>\n",
       "      <td>45</td>\n",
       "      <td>1</td>\n",
       "      <td>1</td>\n",
       "      <td>110</td>\n",
       "      <td>264</td>\n",
       "      <td>0</td>\n",
       "      <td>0</td>\n",
       "      <td>132</td>\n",
       "      <td>0</td>\n",
       "      <td>1.2</td>\n",
       "      <td>2</td>\n",
       "      <td>0</td>\n",
       "      <td>7</td>\n",
       "      <td>1</td>\n",
       "    </tr>\n",
       "    <tr>\n",
       "      <th>299</th>\n",
       "      <td>68</td>\n",
       "      <td>1</td>\n",
       "      <td>4</td>\n",
       "      <td>144</td>\n",
       "      <td>193</td>\n",
       "      <td>1</td>\n",
       "      <td>0</td>\n",
       "      <td>141</td>\n",
       "      <td>0</td>\n",
       "      <td>3.4</td>\n",
       "      <td>2</td>\n",
       "      <td>2</td>\n",
       "      <td>7</td>\n",
       "      <td>2</td>\n",
       "    </tr>\n",
       "    <tr>\n",
       "      <th>300</th>\n",
       "      <td>57</td>\n",
       "      <td>1</td>\n",
       "      <td>4</td>\n",
       "      <td>130</td>\n",
       "      <td>131</td>\n",
       "      <td>0</td>\n",
       "      <td>0</td>\n",
       "      <td>115</td>\n",
       "      <td>1</td>\n",
       "      <td>1.2</td>\n",
       "      <td>2</td>\n",
       "      <td>1</td>\n",
       "      <td>7</td>\n",
       "      <td>3</td>\n",
       "    </tr>\n",
       "    <tr>\n",
       "      <th>301</th>\n",
       "      <td>57</td>\n",
       "      <td>0</td>\n",
       "      <td>2</td>\n",
       "      <td>130</td>\n",
       "      <td>236</td>\n",
       "      <td>0</td>\n",
       "      <td>2</td>\n",
       "      <td>174</td>\n",
       "      <td>0</td>\n",
       "      <td>0.0</td>\n",
       "      <td>2</td>\n",
       "      <td>1</td>\n",
       "      <td>3</td>\n",
       "      <td>1</td>\n",
       "    </tr>\n",
       "  </tbody>\n",
       "</table>\n",
       "<p>297 rows × 14 columns</p>\n",
       "</div>"
      ],
      "text/plain": [
       "     age  sex  cp  trestbps  chol  fbs  restecg  thalach  exang  oldpeak  \\\n",
       "0     63    1   1       145   233    1        2      150      0      2.3   \n",
       "1     67    1   4       160   286    0        2      108      1      1.5   \n",
       "2     67    1   4       120   229    0        2      129      1      2.6   \n",
       "3     37    1   3       130   250    0        0      187      0      3.5   \n",
       "4     41    0   2       130   204    0        2      172      0      1.4   \n",
       "..   ...  ...  ..       ...   ...  ...      ...      ...    ...      ...   \n",
       "297   57    0   4       140   241    0        0      123      1      0.2   \n",
       "298   45    1   1       110   264    0        0      132      0      1.2   \n",
       "299   68    1   4       144   193    1        0      141      0      3.4   \n",
       "300   57    1   4       130   131    0        0      115      1      1.2   \n",
       "301   57    0   2       130   236    0        2      174      0      0.0   \n",
       "\n",
       "     slope  ca  thal  num  \n",
       "0        3   0     6    0  \n",
       "1        2   3     3    2  \n",
       "2        2   2     7    1  \n",
       "3        3   0     3    0  \n",
       "4        1   0     3    0  \n",
       "..     ...  ..   ...  ...  \n",
       "297      2   0     7    1  \n",
       "298      2   0     7    1  \n",
       "299      2   2     7    2  \n",
       "300      2   1     7    3  \n",
       "301      2   1     3    1  \n",
       "\n",
       "[297 rows x 14 columns]"
      ]
     },
     "execution_count": 13,
     "metadata": {},
     "output_type": "execute_result"
    }
   ],
   "source": [
    "df.replace(\"?\",np.nan, inplace = True)\n",
    "df = df.fillna(method='ffill')\n",
    "df"
   ]
  },
  {
   "cell_type": "code",
   "execution_count": 14,
   "id": "4bbec6ea",
   "metadata": {},
   "outputs": [
    {
     "name": "stdout",
     "output_type": "stream",
     "text": [
      "[0, 3, 2, 0, 0, 0, 2, 0, 1, 0, 0, 0, 1, 0, 0, 0, 0, 0, 0, 0, 0, 0, 0, 2, 2, 0, 0, 0, 0, 0, 2, 2, 0, 0, 0, 0, 0, 1, 1, 0, 3, 0, 2, 0, 0, 1, 0, 0, 1, 0, 1, 0, 1, 0, 1, 1, 1, 0, 1, 1, 0, 0, 3, 0, 1, 2, 0, 0, 0, 0, 0, 2, 2, 2, 1, 0, 1, 1, 0, 0, 0, 0, 0, 0, 0, 0, 0, 0, 0, 0, 3, 3, 0, 0, 1, 1, 2, 1, 0, 0, 0, 1, 1, 3, 0, 1, 1, 1, 0, 0, 1, 0, 0, 1, 0, 0, 0, 3, 1, 2, 3, 0, 0, 1, 0, 2, 1, 0, 0, 0, 1, 0, 0, 0, 0, 0, 1, 0, 0, 0, 0, 0, 0, 0, 0, 3, 0, 0, 1, 0, 0, 0, 1, 1, 3, 0, 2, 2, 1, 0, 3, 0, 0, 2, 0, 1, 0, 0, 1, 0, 0, 0, 2, 1, 3, 1, 1, 3, 0, 2, 2, 0, 0, 2, 0, 3, 1, 3, 0, 3, 3, 0, 2, 1, 0, 0, 0, 0, 0, 1, 0, 0, 3, 2, 0, 0, 0, 0, 0, 0, 2, 1, 0, 0, 0, 2, 0, 0, 0, 0, 2, 2, 0, 0, 1, 1, 1, 0, 0, 3, 1, 1, 2, 0, 0, 0, 0, 0, 0, 0, 2, 0, 0, 1, 1, 2, 0, 0, 1, 1, 0, 0, 0, 2, 0, 0, 0, 1, 2, 0, 0, 1, 0, 1, 0, 0, 1, 0, 2, 0, 2, 0, 1, 0, 1, 0, 1, 0, 1, 0, 1, 3, 2, 0, 0, 0, 0, 0, 2, 0, 0, 2, 0, 0, 2, 1, 1]\n"
     ]
    }
   ],
   "source": [
    "#1 getting all \"ca' values in the column list\n",
    "col_list = df['ca'].tolist()\n",
    "print(col_list)"
   ]
  },
  {
   "cell_type": "code",
   "execution_count": 15,
   "id": "ef9b1be5",
   "metadata": {},
   "outputs": [
    {
     "data": {
      "text/plain": [
       "array([0, 2, 1, 3, 4])"
      ]
     },
     "execution_count": 15,
     "metadata": {},
     "output_type": "execute_result"
    }
   ],
   "source": [
    "#getting all distinct values in the list\n",
    "df['num'].unique()"
   ]
  },
  {
   "cell_type": "code",
   "execution_count": 16,
   "id": "40602684",
   "metadata": {},
   "outputs": [],
   "source": [
    "# Change num values > 0 to 1 for a Diagnosis to get our data ready for the next steps.\n",
    "df['num'] = np.where((df['num']>0),1,0)"
   ]
  },
  {
   "cell_type": "code",
   "execution_count": 17,
   "id": "e5fdb5a8",
   "metadata": {},
   "outputs": [
    {
     "data": {
      "text/plain": [
       "array([0, 1])"
      ]
     },
     "execution_count": 17,
     "metadata": {},
     "output_type": "execute_result"
    }
   ],
   "source": [
    "#getting all distinct values in the list\n",
    "df['num'].unique()"
   ]
  },
  {
   "cell_type": "markdown",
   "id": "b69d9ede",
   "metadata": {},
   "source": [
    "### 3.6.3 Checking the rest of the Categorical features.<a id='3.6.3_CheckingCat'></a>"
   ]
  },
  {
   "cell_type": "code",
   "execution_count": 18,
   "id": "690df74f",
   "metadata": {},
   "outputs": [
    {
     "data": {
      "text/plain": [
       "array([1, 4, 3, 2])"
      ]
     },
     "execution_count": 18,
     "metadata": {},
     "output_type": "execute_result"
    }
   ],
   "source": [
    "#getting all distinct values in the list\n",
    "df['cp'].unique()"
   ]
  },
  {
   "cell_type": "code",
   "execution_count": 19,
   "id": "a7165150",
   "metadata": {},
   "outputs": [
    {
     "data": {
      "text/plain": [
       "array([2, 0, 1])"
      ]
     },
     "execution_count": 19,
     "metadata": {},
     "output_type": "execute_result"
    }
   ],
   "source": [
    "#getting all distinct values in the list\n",
    "df['restecg'].unique()"
   ]
  },
  {
   "cell_type": "code",
   "execution_count": 20,
   "id": "bdc9ea3d",
   "metadata": {},
   "outputs": [
    {
     "data": {
      "text/plain": [
       "array([0, 1])"
      ]
     },
     "execution_count": 20,
     "metadata": {},
     "output_type": "execute_result"
    }
   ],
   "source": [
    "#getting all distinct values in the list\n",
    "df['exang'].unique()"
   ]
  },
  {
   "cell_type": "code",
   "execution_count": 21,
   "id": "0d2d8ed6",
   "metadata": {},
   "outputs": [
    {
     "data": {
      "text/plain": [
       "array([3, 2, 1])"
      ]
     },
     "execution_count": 21,
     "metadata": {},
     "output_type": "execute_result"
    }
   ],
   "source": [
    "#getting all distinct values in the list\n",
    "df['slope'].unique()"
   ]
  },
  {
   "cell_type": "code",
   "execution_count": 22,
   "id": "f325eacc",
   "metadata": {},
   "outputs": [
    {
     "data": {
      "text/plain": [
       "array([0, 3, 2, 1])"
      ]
     },
     "execution_count": 22,
     "metadata": {},
     "output_type": "execute_result"
    }
   ],
   "source": [
    "#getting all distinct values in the list\n",
    "df['ca'].unique()"
   ]
  },
  {
   "cell_type": "code",
   "execution_count": 23,
   "id": "1e372ecb",
   "metadata": {},
   "outputs": [
    {
     "data": {
      "text/plain": [
       "array([6, 3, 7])"
      ]
     },
     "execution_count": 23,
     "metadata": {},
     "output_type": "execute_result"
    }
   ],
   "source": [
    "#getting all distinct values in the list\n",
    "df['thal'].unique()"
   ]
  },
  {
   "cell_type": "markdown",
   "id": "af9f9b82",
   "metadata": {},
   "source": [
    "### 3.6.4 Checking the rest of the Continuous features.<a id='3.6.4_ChwckingCon'></a>"
   ]
  },
  {
   "cell_type": "code",
   "execution_count": 24,
   "id": "c589f1b4",
   "metadata": {},
   "outputs": [
    {
     "data": {
      "text/plain": [
       "array([145, 160, 120, 130, 140, 172, 150, 110, 132, 117, 135, 112, 105,\n",
       "       124, 125, 142, 128, 170, 155, 104, 180, 138, 108, 134, 122, 115,\n",
       "       118, 100, 200,  94, 165, 102, 152, 101, 126, 174, 148, 178, 158,\n",
       "       192, 129, 144, 123, 136, 146, 106, 156, 154, 114, 164])"
      ]
     },
     "execution_count": 24,
     "metadata": {},
     "output_type": "execute_result"
    }
   ],
   "source": [
    "#getting all distinct values in the list\n",
    "df['trestbps'].unique()"
   ]
  },
  {
   "cell_type": "code",
   "execution_count": 25,
   "id": "413126cd",
   "metadata": {},
   "outputs": [
    {
     "data": {
      "text/plain": [
       "array([233, 286, 229, 250, 204, 236, 268, 354, 254, 203, 192, 294, 256,\n",
       "       263, 199, 168, 239, 275, 266, 211, 283, 284, 224, 206, 219, 340,\n",
       "       226, 247, 167, 230, 335, 234, 177, 276, 353, 243, 225, 302, 212,\n",
       "       330, 175, 417, 197, 198, 290, 253, 172, 273, 213, 305, 216, 304,\n",
       "       188, 282, 185, 232, 326, 231, 269, 267, 248, 360, 258, 308, 245,\n",
       "       270, 208, 264, 321, 274, 325, 235, 257, 164, 141, 252, 255, 201,\n",
       "       222, 260, 182, 303, 265, 309, 307, 249, 186, 341, 183, 407, 217,\n",
       "       288, 220, 209, 227, 261, 174, 281, 221, 205, 240, 289, 318, 298,\n",
       "       564, 246, 322, 299, 300, 293, 277, 214, 207, 160, 394, 184, 315,\n",
       "       409, 244, 195, 196, 126, 313, 259, 200, 262, 215, 228, 193, 271,\n",
       "       210, 327, 149, 295, 306, 178, 237, 218, 223, 242, 319, 166, 180,\n",
       "       311, 278, 342, 169, 187, 157, 176, 241, 131])"
      ]
     },
     "execution_count": 25,
     "metadata": {},
     "output_type": "execute_result"
    }
   ],
   "source": [
    "#getting all distinct values in the list\n",
    "df['chol'].unique()"
   ]
  },
  {
   "cell_type": "code",
   "execution_count": 26,
   "id": "76c28a92",
   "metadata": {},
   "outputs": [
    {
     "data": {
      "text/plain": [
       "array([150, 108, 129, 187, 172, 178, 160, 163, 147, 155, 148, 153, 142,\n",
       "       173, 162, 174, 168, 139, 171, 144, 132, 158, 114, 151, 161, 179,\n",
       "       120, 112, 137, 157, 169, 165, 123, 128, 152, 140, 188, 109, 125,\n",
       "       131, 170, 113,  99, 177, 141, 180, 111, 143, 182, 156, 149, 145,\n",
       "       146, 175, 186, 185, 159, 130, 190, 136,  97, 127, 154, 133, 126,\n",
       "       202, 103, 166, 164, 184, 124, 122,  96, 138,  88, 105, 194, 195,\n",
       "       106, 115, 167,  95, 192, 117, 121, 116,  71, 118, 181, 134,  90])"
      ]
     },
     "execution_count": 26,
     "metadata": {},
     "output_type": "execute_result"
    }
   ],
   "source": [
    "#getting all distinct values in the list\n",
    "df['thalach'].unique()"
   ]
  },
  {
   "cell_type": "code",
   "execution_count": 27,
   "id": "93abf2f5",
   "metadata": {},
   "outputs": [
    {
     "data": {
      "text/plain": [
       "array([2.3, 1.5, 2.6, 3.5, 1.4, 0.8, 3.6, 0.6, 3.1, 0.4, 1.3, 0. , 0.5,\n",
       "       1.6, 1. , 1.2, 0.2, 1.8, 3.2, 2.4, 2. , 2.5, 2.2, 2.8, 3. , 3.4,\n",
       "       6.2, 4. , 5.6, 2.9, 0.1, 2.1, 1.9, 4.2, 0.9, 1.1, 3.8, 0.7, 0.3,\n",
       "       4.4])"
      ]
     },
     "execution_count": 27,
     "metadata": {},
     "output_type": "execute_result"
    }
   ],
   "source": [
    "#getting all distinct values in the list\n",
    "df['oldpeak'].unique()"
   ]
  },
  {
   "cell_type": "markdown",
   "id": "77d299ea",
   "metadata": {},
   "source": [
    "# 3.7 Exploring the Data<a id='3.7_Explore_The_Data'></a>"
   ]
  },
  {
   "cell_type": "markdown",
   "id": "c02716b2",
   "metadata": {},
   "source": [
    "### 3.7.1 Finding the Correlation Among Attributes<a id='3.7.1_FCorrelation'></a>"
   ]
  },
  {
   "cell_type": "markdown",
   "id": "af78e6e8",
   "metadata": {},
   "source": [
    "Before training we need to observe and analyse the data to see what we are going to work with. The goal here is to learn more about the data and become a topic export on the dataset you are working with.\n",
    "\n",
    "Let's now move on to exploratory data analysis:"
   ]
  },
  {
   "cell_type": "code",
   "execution_count": 28,
   "id": "f11a9086",
   "metadata": {},
   "outputs": [
    {
     "data": {
      "text/html": [
       "<div>\n",
       "<style scoped>\n",
       "    .dataframe tbody tr th:only-of-type {\n",
       "        vertical-align: middle;\n",
       "    }\n",
       "\n",
       "    .dataframe tbody tr th {\n",
       "        vertical-align: top;\n",
       "    }\n",
       "\n",
       "    .dataframe thead th {\n",
       "        text-align: right;\n",
       "    }\n",
       "</style>\n",
       "<table border=\"1\" class=\"dataframe\">\n",
       "  <thead>\n",
       "    <tr style=\"text-align: right;\">\n",
       "      <th></th>\n",
       "      <th>age</th>\n",
       "      <th>sex</th>\n",
       "      <th>cp</th>\n",
       "      <th>trestbps</th>\n",
       "      <th>chol</th>\n",
       "      <th>fbs</th>\n",
       "      <th>restecg</th>\n",
       "      <th>thalach</th>\n",
       "      <th>exang</th>\n",
       "      <th>oldpeak</th>\n",
       "      <th>slope</th>\n",
       "      <th>ca</th>\n",
       "      <th>thal</th>\n",
       "      <th>num</th>\n",
       "    </tr>\n",
       "  </thead>\n",
       "  <tbody>\n",
       "    <tr>\n",
       "      <th>count</th>\n",
       "      <td>297.00</td>\n",
       "      <td>297.00</td>\n",
       "      <td>297.00</td>\n",
       "      <td>297.00</td>\n",
       "      <td>297.00</td>\n",
       "      <td>297.00</td>\n",
       "      <td>297.00</td>\n",
       "      <td>297.00</td>\n",
       "      <td>297.00</td>\n",
       "      <td>297.00</td>\n",
       "      <td>297.00</td>\n",
       "      <td>297.00</td>\n",
       "      <td>297.00</td>\n",
       "      <td>297.00</td>\n",
       "    </tr>\n",
       "    <tr>\n",
       "      <th>mean</th>\n",
       "      <td>54.54</td>\n",
       "      <td>0.68</td>\n",
       "      <td>3.16</td>\n",
       "      <td>131.69</td>\n",
       "      <td>247.35</td>\n",
       "      <td>0.14</td>\n",
       "      <td>1.00</td>\n",
       "      <td>149.60</td>\n",
       "      <td>0.33</td>\n",
       "      <td>1.06</td>\n",
       "      <td>1.60</td>\n",
       "      <td>0.68</td>\n",
       "      <td>4.73</td>\n",
       "      <td>0.46</td>\n",
       "    </tr>\n",
       "    <tr>\n",
       "      <th>std</th>\n",
       "      <td>9.05</td>\n",
       "      <td>0.47</td>\n",
       "      <td>0.96</td>\n",
       "      <td>17.76</td>\n",
       "      <td>52.00</td>\n",
       "      <td>0.35</td>\n",
       "      <td>0.99</td>\n",
       "      <td>22.94</td>\n",
       "      <td>0.47</td>\n",
       "      <td>1.17</td>\n",
       "      <td>0.62</td>\n",
       "      <td>0.94</td>\n",
       "      <td>1.94</td>\n",
       "      <td>0.50</td>\n",
       "    </tr>\n",
       "    <tr>\n",
       "      <th>min</th>\n",
       "      <td>29.00</td>\n",
       "      <td>0.00</td>\n",
       "      <td>1.00</td>\n",
       "      <td>94.00</td>\n",
       "      <td>126.00</td>\n",
       "      <td>0.00</td>\n",
       "      <td>0.00</td>\n",
       "      <td>71.00</td>\n",
       "      <td>0.00</td>\n",
       "      <td>0.00</td>\n",
       "      <td>1.00</td>\n",
       "      <td>0.00</td>\n",
       "      <td>3.00</td>\n",
       "      <td>0.00</td>\n",
       "    </tr>\n",
       "    <tr>\n",
       "      <th>25%</th>\n",
       "      <td>48.00</td>\n",
       "      <td>0.00</td>\n",
       "      <td>3.00</td>\n",
       "      <td>120.00</td>\n",
       "      <td>211.00</td>\n",
       "      <td>0.00</td>\n",
       "      <td>0.00</td>\n",
       "      <td>133.00</td>\n",
       "      <td>0.00</td>\n",
       "      <td>0.00</td>\n",
       "      <td>1.00</td>\n",
       "      <td>0.00</td>\n",
       "      <td>3.00</td>\n",
       "      <td>0.00</td>\n",
       "    </tr>\n",
       "    <tr>\n",
       "      <th>50%</th>\n",
       "      <td>56.00</td>\n",
       "      <td>1.00</td>\n",
       "      <td>3.00</td>\n",
       "      <td>130.00</td>\n",
       "      <td>243.00</td>\n",
       "      <td>0.00</td>\n",
       "      <td>1.00</td>\n",
       "      <td>153.00</td>\n",
       "      <td>0.00</td>\n",
       "      <td>0.80</td>\n",
       "      <td>2.00</td>\n",
       "      <td>0.00</td>\n",
       "      <td>3.00</td>\n",
       "      <td>0.00</td>\n",
       "    </tr>\n",
       "    <tr>\n",
       "      <th>75%</th>\n",
       "      <td>61.00</td>\n",
       "      <td>1.00</td>\n",
       "      <td>4.00</td>\n",
       "      <td>140.00</td>\n",
       "      <td>276.00</td>\n",
       "      <td>0.00</td>\n",
       "      <td>2.00</td>\n",
       "      <td>166.00</td>\n",
       "      <td>1.00</td>\n",
       "      <td>1.60</td>\n",
       "      <td>2.00</td>\n",
       "      <td>1.00</td>\n",
       "      <td>7.00</td>\n",
       "      <td>1.00</td>\n",
       "    </tr>\n",
       "    <tr>\n",
       "      <th>max</th>\n",
       "      <td>77.00</td>\n",
       "      <td>1.00</td>\n",
       "      <td>4.00</td>\n",
       "      <td>200.00</td>\n",
       "      <td>564.00</td>\n",
       "      <td>1.00</td>\n",
       "      <td>2.00</td>\n",
       "      <td>202.00</td>\n",
       "      <td>1.00</td>\n",
       "      <td>6.20</td>\n",
       "      <td>3.00</td>\n",
       "      <td>3.00</td>\n",
       "      <td>7.00</td>\n",
       "      <td>1.00</td>\n",
       "    </tr>\n",
       "  </tbody>\n",
       "</table>\n",
       "</div>"
      ],
      "text/plain": [
       "         age    sex     cp  trestbps   chol    fbs  restecg  thalach  exang  \\\n",
       "count 297.00 297.00 297.00    297.00 297.00 297.00   297.00   297.00 297.00   \n",
       "mean   54.54   0.68   3.16    131.69 247.35   0.14     1.00   149.60   0.33   \n",
       "std     9.05   0.47   0.96     17.76  52.00   0.35     0.99    22.94   0.47   \n",
       "min    29.00   0.00   1.00     94.00 126.00   0.00     0.00    71.00   0.00   \n",
       "25%    48.00   0.00   3.00    120.00 211.00   0.00     0.00   133.00   0.00   \n",
       "50%    56.00   1.00   3.00    130.00 243.00   0.00     1.00   153.00   0.00   \n",
       "75%    61.00   1.00   4.00    140.00 276.00   0.00     2.00   166.00   1.00   \n",
       "max    77.00   1.00   4.00    200.00 564.00   1.00     2.00   202.00   1.00   \n",
       "\n",
       "       oldpeak  slope     ca   thal    num  \n",
       "count   297.00 297.00 297.00 297.00 297.00  \n",
       "mean      1.06   1.60   0.68   4.73   0.46  \n",
       "std       1.17   0.62   0.94   1.94   0.50  \n",
       "min       0.00   1.00   0.00   3.00   0.00  \n",
       "25%       0.00   1.00   0.00   3.00   0.00  \n",
       "50%       0.80   2.00   0.00   3.00   0.00  \n",
       "75%       1.60   2.00   1.00   7.00   1.00  \n",
       "max       6.20   3.00   3.00   7.00   1.00  "
      ]
     },
     "execution_count": 28,
     "metadata": {},
     "output_type": "execute_result"
    }
   ],
   "source": [
    "pd.set_option(\"display.float\", \"{:.2f}\".format)\n",
    "df.describe()"
   ]
  },
  {
   "cell_type": "markdown",
   "id": "05289900",
   "metadata": {},
   "source": [
    "Basically, with df.describe(), we should check on the min and max value for the categorical variables (min-max). We should also observe the mean, std, 25% and 75% on the continuous variables."
   ]
  },
  {
   "cell_type": "code",
   "execution_count": 29,
   "id": "c57e27db",
   "metadata": {},
   "outputs": [
    {
     "data": {
      "text/plain": [
       "Index(['age', 'sex', 'cp', 'trestbps', 'chol', 'fbs', 'restecg', 'thalach',\n",
       "       'exang', 'oldpeak', 'slope', 'ca', 'thal', 'num'],\n",
       "      dtype='object')"
      ]
     },
     "execution_count": 29,
     "metadata": {},
     "output_type": "execute_result"
    }
   ],
   "source": [
    "df.columns"
   ]
  },
  {
   "cell_type": "markdown",
   "id": "3450d4f0",
   "metadata": {},
   "source": [
    "### 3.7.2 Categorical Variables<a id='3.7.2_CatVar'></a>"
   ]
  },
  {
   "cell_type": "code",
   "execution_count": 30,
   "id": "a7423686",
   "metadata": {},
   "outputs": [
    {
     "data": {
      "image/png": "[encoded data removed]",
      "text/plain": [
       "<Figure size 432x288 with 1 Axes>"
      ]
     },
     "metadata": {
      "needs_background": "light"
     },
     "output_type": "display_data"
    },
    {
     "data": {
      "text/plain": [
       "<AxesSubplot:>"
      ]
     },
     "execution_count": 30,
     "metadata": {},
     "output_type": "execute_result"
    },
    {
     "data": {
      "image/png": "[encoded data removed]",
      "text/plain": [
       "<Figure size 432x288 with 1 Axes>"
      ]
     },
     "metadata": {
      "needs_background": "light"
     },
     "output_type": "display_data"
    }
   ],
   "source": [
    "df.cp.hist()\n",
    "plt.xlabel('Chest Pain Type')\n",
    "plt.ylabel('Count')\n",
    "plt.title('cp')\n",
    "plt.show()\n",
    "df.boxplot(column = 'cp')"
   ]
  },
  {
   "cell_type": "markdown",
   "id": "3ad6067c",
   "metadata": {},
   "source": [
    "1. 'cp' {Chest pain}: People with cp 2, 3, 4 are more likely to have heart disease than people with cp 1."
   ]
  },
  {
   "cell_type": "code",
   "execution_count": 31,
   "id": "3e700a24",
   "metadata": {},
   "outputs": [
    {
     "data": {
      "image/png": "[encoded data removed]",
      "text/plain": [
       "<Figure size 432x288 with 1 Axes>"
      ]
     },
     "metadata": {
      "needs_background": "light"
     },
     "output_type": "display_data"
    },
    {
     "data": {
      "text/plain": [
       "<AxesSubplot:>"
      ]
     },
     "execution_count": 31,
     "metadata": {},
     "output_type": "execute_result"
    },
    {
     "data": {
      "image/png": "[encoded data removed]",
      "text/plain": [
       "<Figure size 432x288 with 1 Axes>"
      ]
     },
     "metadata": {
      "needs_background": "light"
     },
     "output_type": "display_data"
    }
   ],
   "source": [
    "df.restecg.hist()\n",
    "plt.xlabel('ECG Value')\n",
    "plt.ylabel('Count')\n",
    "plt.title('restecg')\n",
    "plt.show()\n",
    "df.boxplot(column = 'restecg')"
   ]
  },
  {
   "cell_type": "markdown",
   "id": "27c570fd",
   "metadata": {},
   "source": [
    "2. 'restecg' {resting EKG results}: People with a value of 1 having ST-T wave abnormality and with value 2 showing probable or definite left ventricular hypertrophy by Estes' criteria , reporting an abnormal heart rhythm, which can range from mild symptoms to severe problems are more likely to have heart disease."
   ]
  },
  {
   "cell_type": "code",
   "execution_count": 32,
   "id": "05799a6b",
   "metadata": {},
   "outputs": [
    {
     "data": {
      "image/png": "[encoded data removed]",
      "text/plain": [
       "<Figure size 432x288 with 1 Axes>"
      ]
     },
     "metadata": {
      "needs_background": "light"
     },
     "output_type": "display_data"
    },
    {
     "data": {
      "text/plain": [
       "<AxesSubplot:>"
      ]
     },
     "execution_count": 32,
     "metadata": {},
     "output_type": "execute_result"
    },
    {
     "data": {
      "image/png": "[encoded data removed]",
      "text/plain": [
       "<Figure size 432x288 with 1 Axes>"
      ]
     },
     "metadata": {
      "needs_background": "light"
     },
     "output_type": "display_data"
    }
   ],
   "source": [
    "df.exang.hist()\n",
    "plt.xlabel('Agina induced by Exercise Value')\n",
    "plt.ylabel('Count')\n",
    "plt.title('exang')\n",
    "plt.show()\n",
    "df.boxplot(column = 'exang')"
   ]
  },
  {
   "cell_type": "markdown",
   "id": "90b10eef",
   "metadata": {},
   "source": [
    "3. 'exang' {exercise-induced angina}: people with a value of 0 (angina induced by exercise) have more heart disease than people with a value of 1 (angina induced by exercise)"
   ]
  },
  {
   "cell_type": "code",
   "execution_count": 33,
   "id": "82cfc725",
   "metadata": {},
   "outputs": [
    {
     "data": {
      "image/png": "[encoded data removed]",
      "text/plain": [
       "<Figure size 432x288 with 1 Axes>"
      ]
     },
     "metadata": {
      "needs_background": "light"
     },
     "output_type": "display_data"
    },
    {
     "data": {
      "text/plain": [
       "<AxesSubplot:>"
      ]
     },
     "execution_count": 33,
     "metadata": {},
     "output_type": "execute_result"
    },
    {
     "data": {
      "image/png": "[encoded data removed]",
      "text/plain": [
       "<Figure size 432x288 with 1 Axes>"
      ]
     },
     "metadata": {
      "needs_background": "light"
     },
     "output_type": "display_data"
    }
   ],
   "source": [
    "df.slope.hist()\n",
    "plt.xlabel('Slope Value')\n",
    "plt.ylabel('Count')\n",
    "plt.title('slope')\n",
    "plt.show()\n",
    "df.boxplot(column = 'slope')"
   ]
  },
  {
   "cell_type": "markdown",
   "id": "1c19d4a9",
   "metadata": {},
   "source": [
    "4. 'slope' {the slope of the ST segment of peak exercise}: People with a slope value of 3 (Downslopins: signs of an unhealthy heart) are more likely to have heart disease than people with a slope value of 1 slope (Upsloping: best heart rate with exercise) or 2 (Flat sloping: minimal change (typical healthy heart))."
   ]
  },
  {
   "cell_type": "code",
   "execution_count": 34,
   "id": "00e679a1",
   "metadata": {},
   "outputs": [
    {
     "data": {
      "image/png": "[encoded data removed]",
      "text/plain": [
       "<Figure size 432x288 with 1 Axes>"
      ]
     },
     "metadata": {
      "needs_background": "light"
     },
     "output_type": "display_data"
    },
    {
     "data": {
      "text/plain": [
       "<AxesSubplot:>"
      ]
     },
     "execution_count": 34,
     "metadata": {},
     "output_type": "execute_result"
    },
    {
     "data": {
      "image/png": "[encoded data removed]",
      "text/plain": [
       "<Figure size 432x288 with 1 Axes>"
      ]
     },
     "metadata": {
      "needs_background": "light"
     },
     "output_type": "display_data"
    }
   ],
   "source": [
    "df.ca.hist()\n",
    "plt.xlabel('Number of Major Vessels Stained by fluoroscopy')\n",
    "plt.ylabel('Count')\n",
    "plt.title('ca')\n",
    "plt.show()\n",
    "df.boxplot(column = 'ca')"
   ]
  },
  {
   "cell_type": "markdown",
   "id": "3e73ae8a",
   "metadata": {},
   "source": [
    "5. 'ca' {number of major vessels (0-3) stained by fluoroscopy}: the more blood movement the better, so people with 'ca' equal to 1 are more likely to have heart disease."
   ]
  },
  {
   "cell_type": "code",
   "execution_count": 35,
   "id": "282f998d",
   "metadata": {},
   "outputs": [
    {
     "data": {
      "image/png": "[encoded data removed]",
      "text/plain": [
       "<Figure size 432x288 with 1 Axes>"
      ]
     },
     "metadata": {
      "needs_background": "light"
     },
     "output_type": "display_data"
    },
    {
     "data": {
      "text/plain": [
       "<AxesSubplot:>"
      ]
     },
     "execution_count": 35,
     "metadata": {},
     "output_type": "execute_result"
    },
    {
     "data": {
      "image/png": "[encoded data removed]",
      "text/plain": [
       "<Figure size 432x288 with 1 Axes>"
      ]
     },
     "metadata": {
      "needs_background": "light"
     },
     "output_type": "display_data"
    }
   ],
   "source": [
    "df.thal.hist()\n",
    "plt.xlabel('Thalium Stress Result')\n",
    "plt.ylabel('Count')\n",
    "plt.title('Thalium Stress')\n",
    "plt.show()\n",
    "df.boxplot(column = 'thal')"
   ]
  },
  {
   "cell_type": "markdown",
   "id": "728f91de",
   "metadata": {},
   "source": [
    "6. 'thal' {thalium stress result}: People with a thal value of 3 with no blood flow in some part of the heart are more likely to have heart disease."
   ]
  },
  {
   "cell_type": "code",
   "execution_count": 36,
   "id": "99b01719",
   "metadata": {},
   "outputs": [
    {
     "data": {
      "image/png": "[encoded data removed]",
      "text/plain": [
       "<Figure size 432x288 with 1 Axes>"
      ]
     },
     "metadata": {
      "needs_background": "light"
     },
     "output_type": "display_data"
    },
    {
     "data": {
      "text/plain": [
       "<AxesSubplot:>"
      ]
     },
     "execution_count": 36,
     "metadata": {},
     "output_type": "execute_result"
    },
    {
     "data": {
      "image/png": "[encoded data removed]",
      "text/plain": [
       "<Figure size 432x288 with 1 Axes>"
      ]
     },
     "metadata": {
      "needs_background": "light"
     },
     "output_type": "display_data"
    }
   ],
   "source": [
    "df.trestbps.hist()\n",
    "plt.xlabel('Resting Blood Pressure')\n",
    "plt.ylabel('Count')\n",
    "plt.title('trestbps')\n",
    "plt.show()\n",
    "df.boxplot(column = 'trestbps')"
   ]
  },
  {
   "cell_type": "markdown",
   "id": "d1c651f1",
   "metadata": {},
   "source": [
    "1. 'trestbps': resting blood pressure anything above 130-140 is generally of concern"
   ]
  },
  {
   "cell_type": "code",
   "execution_count": 37,
   "id": "a851fa15",
   "metadata": {},
   "outputs": [
    {
     "data": {
      "image/png": "[encoded data removed]",
      "text/plain": [
       "<Figure size 432x288 with 1 Axes>"
      ]
     },
     "metadata": {
      "needs_background": "light"
     },
     "output_type": "display_data"
    },
    {
     "data": {
      "text/plain": [
       "<AxesSubplot:>"
      ]
     },
     "execution_count": 37,
     "metadata": {},
     "output_type": "execute_result"
    },
    {
     "data": {
      "image/png": "[encoded data removed]",
      "text/plain": [
       "<Figure size 432x288 with 1 Axes>"
      ]
     },
     "metadata": {
      "needs_background": "light"
     },
     "output_type": "display_data"
    }
   ],
   "source": [
    "df.chol.hist()\n",
    "plt.xlabel('Serum Cholesterol')\n",
    "plt.ylabel('Count')\n",
    "plt.title('chol')\n",
    "plt.show()\n",
    "df.boxplot(column = 'chol')"
   ]
  },
  {
   "cell_type": "markdown",
   "id": "f76e8e73",
   "metadata": {},
   "source": [
    "### 3.7.3 Continous Variable<a id='3.7.3_ConVar'></a>"
   ]
  },
  {
   "cell_type": "markdown",
   "id": "9e12394a",
   "metadata": {},
   "source": [
    "2. 'chol': greater than 200 is of concern."
   ]
  },
  {
   "cell_type": "code",
   "execution_count": 38,
   "id": "cefd1d83",
   "metadata": {},
   "outputs": [
    {
     "data": {
      "image/png": "[encoded data removed]",
      "text/plain": [
       "<Figure size 432x288 with 1 Axes>"
      ]
     },
     "metadata": {
      "needs_background": "light"
     },
     "output_type": "display_data"
    },
    {
     "data": {
      "text/plain": [
       "<AxesSubplot:>"
      ]
     },
     "execution_count": 38,
     "metadata": {},
     "output_type": "execute_result"
    },
    {
     "data": {
      "image/png": "[encoded data removed]",
      "text/plain": [
       "<Figure size 432x288 with 1 Axes>"
      ]
     },
     "metadata": {
      "needs_background": "light"
     },
     "output_type": "display_data"
    }
   ],
   "source": [
    "df.thalach.hist()\n",
    "plt.xlabel('Max HR Achieved')\n",
    "plt.ylabel('Count')\n",
    "plt.title('thalach')\n",
    "plt.show()\n",
    "df.boxplot(column = 'thalach')"
   ]
  },
  {
   "cell_type": "markdown",
   "id": "c238fd4c",
   "metadata": {},
   "source": [
    "3. 'thalach': People with a maximum of over 140 are more likely to have heart disease.\n"
   ]
  },
  {
   "cell_type": "code",
   "execution_count": 39,
   "id": "55d71ed8",
   "metadata": {},
   "outputs": [
    {
     "data": {
      "image/png": "[encoded data removed]",
      "text/plain": [
       "<Figure size 432x288 with 1 Axes>"
      ]
     },
     "metadata": {
      "needs_background": "light"
     },
     "output_type": "display_data"
    },
    {
     "data": {
      "text/plain": [
       "<AxesSubplot:>"
      ]
     },
     "execution_count": 39,
     "metadata": {},
     "output_type": "execute_result"
    },
    {
     "data": {
      "image/png": "[encoded data removed]",
      "text/plain": [
       "<Figure size 432x288 with 1 Axes>"
      ]
     },
     "metadata": {
      "needs_background": "light"
     },
     "output_type": "display_data"
    }
   ],
   "source": [
    "df.oldpeak.hist()\n",
    "plt.xlabel('ST Depression')\n",
    "plt.ylabel('Count')\n",
    "plt.title('oldpeak')\n",
    "plt.show()\n",
    "df.boxplot(column = 'oldpeak')"
   ]
  },
  {
   "cell_type": "markdown",
   "id": "beafe3c2",
   "metadata": {},
   "source": [
    "4.  'oldpeak' of exercise-induced ST depression vs. rest looks at heart stress during exercise an unhealthy heart will stress more."
   ]
  },
  {
   "cell_type": "markdown",
   "id": "c5ee24b0",
   "metadata": {},
   "source": [
    "### 3.7.4 Scatter Plot<a id='3.7.4_ScatterPlot'></a>"
   ]
  },
  {
   "cell_type": "code",
   "execution_count": 40,
   "id": "96d2577f",
   "metadata": {},
   "outputs": [
    {
     "data": {
      "image/png": "[encoded data removed]",
      "text/plain": [
       "<Figure size 720x576 with 1 Axes>"
      ]
     },
     "metadata": {
      "needs_background": "light"
     },
     "output_type": "display_data"
    }
   ],
   "source": [
    "# Create another figure\n",
    "plt.figure(figsize=(10, 8))\n",
    "\n",
    "# Scatter with postivie examples\n",
    "plt.scatter(df.age[df.num==1],\n",
    "            df.thalach[df.num==1],\n",
    "            c=\"salmon\")\n",
    "\n",
    "# Scatter with negative examples\n",
    "plt.scatter(df.age[df.num==0],\n",
    "            df.thalach[df.num==0],\n",
    "            c=\"lightblue\")\n",
    "\n",
    "# Add some helpful info\n",
    "plt.title(\"Heart Disease in function of Age and Max Heart Rate\")\n",
    "plt.xlabel(\"Age\")\n",
    "plt.ylabel(\"Max Heart Rate\")\n",
    "plt.legend([\"Disease\", \"No Disease\"]);"
   ]
  },
  {
   "cell_type": "markdown",
   "id": "bd4e31ba",
   "metadata": {},
   "source": [
    "'Maximum Heart Rate' versus 'Age' showed 50 years of age and higher is mostly have heart desease."
   ]
  },
  {
   "cell_type": "markdown",
   "id": "04b6b8ec",
   "metadata": {},
   "source": [
    "### 3.7.5 Heatmap<a id='3.7.5_Heatmap'></a>"
   ]
  },
  {
   "cell_type": "code",
   "execution_count": 41,
   "id": "59df29fd",
   "metadata": {},
   "outputs": [
    {
     "data": {
      "text/plain": [
       "<AxesSubplot:>"
      ]
     },
     "execution_count": 41,
     "metadata": {},
     "output_type": "execute_result"
    },
    {
     "data": {
      "image/png": "[encoded data removed]",
      "text/plain": [
       "<Figure size 792x648 with 2 Axes>"
      ]
     },
     "metadata": {},
     "output_type": "display_data"
    }
   ],
   "source": [
    "# Let's make our correlation matrix a little prettier with Half Heatmap\n",
    "sns.set_theme(style='white')\n",
    "\n",
    "# Compute the correlation matrix\n",
    "corr = df.corr()\n",
    "\n",
    "# Generate a mask for the upper triangle\n",
    "mask = np.triu(np.ones_like(corr, dtype=bool))\n",
    "\n",
    "# Set up the matplotlib figure\n",
    "f, ax = plt.subplots(figsize=(11, 9))\n",
    "\n",
    "# Generate a custom diverging colormap\n",
    "cmap = sns.diverging_palette(230, 20, as_cmap=True)\n",
    "\n",
    "# Draw the heatmap with the mask and correct aspect ratio\n",
    "sns.heatmap(corr, annot=True, mask=mask, cmap=cmap, vmax=.3, center=0,\n",
    "            square=True, linewidths=.5, cbar_kws={\"shrink\": .5})"
   ]
  },
  {
   "cell_type": "markdown",
   "id": "f7454077",
   "metadata": {},
   "source": [
    "between 'oldpeak' and 'slope has are highly positively correlated. Our target 'num' is mostly correlated to all our features except 'num' and 'thalach' with a negatively correlation."
   ]
  },
  {
   "cell_type": "markdown",
   "id": "ccd5c869",
   "metadata": {},
   "source": [
    "### 3.7.6 Bar Graph with or without Heart Desease<a id='3.7.6_BarGHD'></a>"
   ]
  },
  {
   "cell_type": "code",
   "execution_count": 42,
   "id": "ff12c27f",
   "metadata": {},
   "outputs": [
    {
     "data": {
      "text/plain": [
       "<AxesSubplot:xlabel='With Heart Disease              Without Heart Disease', ylabel='Age'>"
      ]
     },
     "execution_count": 42,
     "metadata": {},
     "output_type": "execute_result"
    },
    {
     "data": {
      "image/png": "[encoded data removed]",
      "text/plain": [
       "<Figure size 432x288 with 1 Axes>"
      ]
     },
     "metadata": {},
     "output_type": "display_data"
    }
   ],
   "source": [
    "df.num.value_counts().plot(ylabel='Age', xlabel='With Heart Disease              Without Heart Disease', kind=\"bar\", color=[\"salmon\", \"lightblue\"])"
   ]
  },
  {
   "cell_type": "markdown",
   "id": "d7e1739f",
   "metadata": {},
   "source": [
    "We have 160 people with heart disease and 138 people without heart disease, so our problem is balanced."
   ]
  },
  {
   "cell_type": "code",
   "execution_count": 43,
   "id": "5b6127fd",
   "metadata": {},
   "outputs": [
    {
     "data": {
      "text/plain": [
       "<AxesSubplot:title={'center':'Correlation with target'}>"
      ]
     },
     "execution_count": 43,
     "metadata": {},
     "output_type": "execute_result"
    },
    {
     "data": {
      "image/png": "[encoded data removed]",
      "text/plain": [
       "<Figure size 864x576 with 1 Axes>"
      ]
     },
     "metadata": {},
     "output_type": "display_data"
    }
   ],
   "source": [
    "df.drop('num', axis=1).corrwith(df.num).plot(kind='bar', grid=True, figsize=(12, 8), \n",
    "                                                   title=\"Correlation with target\")"
   ]
  },
  {
   "cell_type": "markdown",
   "id": "3198fbff",
   "metadata": {},
   "source": [
    "1. 'fbs' and 'chol' are the least correlated with the target variable.\n",
    "2. All other features have a significant correlation with the target variable, except 'thalach'"
   ]
  },
  {
   "cell_type": "markdown",
   "id": "1d68f927",
   "metadata": {},
   "source": [
    "# 3.8 Summary<a id='3.8_Summary'></a>"
   ]
  },
  {
   "cell_type": "markdown",
   "id": "372b15e1",
   "metadata": {},
   "source": [
    "Features datatype was checked and 'ca' and 'thal' missing features was replace and datatype was change from object to integer.\n",
    "Exploration of the data indicated that patients 'oldpeak' and 'slope has are highly positively correlated. Our target 'num' is mostly correlated to all our features except 'num' and 'thalach' with a negatively correlation."
   ]
  }
 ],
 "metadata": {
  "kernelspec": {
   "display_name": "Python 3 (ipykernel)",
   "language": "python",
   "name": "python3"
  },
  "language_info": {
   "codemirror_mode": {
    "name": "ipython",
    "version": 3
   },
   "file_extension": ".py",
   "mimetype": "text/x-python",
   "name": "python",
   "nbconvert_exporter": "python",
   "pygments_lexer": "ipython3",
   "version": "3.9.12"
  }
 },
 "nbformat": 4,
 "nbformat_minor": 5
}
